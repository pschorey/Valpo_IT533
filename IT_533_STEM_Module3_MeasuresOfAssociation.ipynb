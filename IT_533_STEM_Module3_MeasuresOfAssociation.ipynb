{
  "nbformat": 4,
  "nbformat_minor": 0,
  "metadata": {
    "kernelspec": {
      "display_name": "Python 3",
      "language": "python",
      "name": "python3"
    },
    "language_info": {
      "codemirror_mode": {
        "name": "ipython",
        "version": 3
      },
      "file_extension": ".py",
      "mimetype": "text/x-python",
      "name": "python",
      "nbconvert_exporter": "python",
      "pygments_lexer": "ipython3",
      "version": "3.7.0"
    },
    "colab": {
      "provenance": [],
      "collapsed_sections": [
        "bZu4GZJ5n0ZO"
      ],
      "toc_visible": true,
      "include_colab_link": true
    }
  },
  "cells": [
    {
      "cell_type": "markdown",
      "metadata": {
        "id": "view-in-github",
        "colab_type": "text"
      },
      "source": [
        "<a href=\"https://colab.research.google.com/github/pschorey/Valpo_IT533/blob/main/IT_533_STEM_Module3_MeasuresOfAssociation.ipynb\" target=\"_parent\"><img src=\"https://colab.research.google.com/assets/colab-badge.svg\" alt=\"Open In Colab\"/></a>"
      ]
    },
    {
      "cell_type": "markdown",
      "metadata": {
        "id": "bZu4GZJ5n0ZO"
      },
      "source": [
        "# **Module 3: Measures of Association**\n",
        "\n",
        "As we have already seen, evaluating the relationship between variables is at the heart of data mining. We have a number of techniques at our disposal:\n",
        "1. Distance calculations like Euclidian, Manhattan, Cosine Similarity (and some others)\n",
        "2. Measures of Independence like Chi Square, Covariance, and Correlation\n",
        "3. Predictive Measures like Regression and ANOVA\n",
        "\n",
        "In this module, you will learn how to:\n",
        "* Explain distance between data in terms of Euclidian, Manhattan, Chi Square, Correlation, and Cosine Similarity\n",
        "* Set up Cosine Similarity calculations\n",
        "* Set up Chi Square calculations\n",
        "* Set up Correlation calculations"
      ]
    },
    {
      "cell_type": "markdown",
      "metadata": {
        "id": "SX1NUuGsnXJJ"
      },
      "source": [
        "#**0. Preparation and Setup**\n",
        "We are working with our adult dataset again, so we're loading our libraries and our dataset just like last time. Since we are working with more involved math this time around, we will need more functionality:\n",
        "* **Scikit-Learn**: We will use the cosine_similarity function from the [scikit-learn metrics module](https://scikit-learn.org/stable/modules/classes.html#module-sklearn.metrics). If you click that link, you'll see that this is the big math module--knowing which functions to use will allow you to skip programming much of the math by hand. Very practical! Cosine similarity is located in the [pairwise submodule](https://scikit-learn.org/stable/modules/metrics.html#metrics).\n",
        "* **Scipy**: This is numpy's [\"big sister\" for advanced math](https://docs.scipy.org/doc/scipy-1.6.3/reference/). We will use it for Chi Square calculations.\n",
        "* **Math**: The [math package](https://docs.python.org/3/library/math.html) allows us to do advanced math, calculate logarithmic functions etc."
      ]
    },
    {
      "cell_type": "code",
      "metadata": {
        "colab": {
          "base_uri": "https://localhost:8080/",
          "height": 357
        },
        "id": "rx3vL3ekndfA",
        "outputId": "fd3a6670-bd25-4048-de68-55af74250722"
      },
      "source": [
        "import numpy as np\n",
        "import pandas as pd \n",
        "import matplotlib.pyplot as plt\n",
        "import math\n",
        "from math import acos, degrees\n",
        "from scipy import spatial\n",
        "from scipy.stats import chisquare\n",
        "from scipy.stats import chi2_contingency\n",
        "from sklearn.metrics.pairwise import cosine_similarity\n",
        "\n",
        "from IPython.display import HTML # This is just for me so I can embed videos\n",
        "\n",
        "#Reading in the data as adult dataframe\n",
        "adult = pd.read_csv(\"https://raw.githubusercontent.com/shstreuber/Data-Mining/master/data/adult.data.simplified.csv\")\n",
        "\n",
        "#Verifying that we can see the data\n",
        "adult.head()"
      ],
      "execution_count": 13,
      "outputs": [
        {
          "output_type": "execute_result",
          "data": {
            "text/plain": [
              "   age         workclass  education  educationyears       maritalstatus  \\\n",
              "0   39         State-gov  Bachelors              13       Never-married   \n",
              "1   50  Self-emp-not-inc  Bachelors              13  Married-civ-spouse   \n",
              "2   38           Private    HS-grad               9            Divorced   \n",
              "3   53           Private       11th               7  Married-civ-spouse   \n",
              "4   28           Private  Bachelors              13  Married-civ-spouse   \n",
              "\n",
              "          occupation   relationship   race     sex  hoursperweek  \\\n",
              "0       Adm-clerical  Not-in-family  White    Male            40   \n",
              "1    Exec-managerial        Husband  White    Male            13   \n",
              "2  Handlers-cleaners  Not-in-family  White    Male            40   \n",
              "3  Handlers-cleaners        Husband  Black    Male            40   \n",
              "4     Prof-specialty           Wife  Black  Female            40   \n",
              "\n",
              "   nativecountry  incomeUSD  \n",
              "0  United-States      43747  \n",
              "1  United-States      38907  \n",
              "2  United-States      25055  \n",
              "3  United-States      26733  \n",
              "4           Cuba      23429  "
            ],
            "text/html": [
              "\n",
              "  <div id=\"df-9631c68c-2231-4b57-8e0a-9f7798eac568\">\n",
              "    <div class=\"colab-df-container\">\n",
              "      <div>\n",
              "<style scoped>\n",
              "    .dataframe tbody tr th:only-of-type {\n",
              "        vertical-align: middle;\n",
              "    }\n",
              "\n",
              "    .dataframe tbody tr th {\n",
              "        vertical-align: top;\n",
              "    }\n",
              "\n",
              "    .dataframe thead th {\n",
              "        text-align: right;\n",
              "    }\n",
              "</style>\n",
              "<table border=\"1\" class=\"dataframe\">\n",
              "  <thead>\n",
              "    <tr style=\"text-align: right;\">\n",
              "      <th></th>\n",
              "      <th>age</th>\n",
              "      <th>workclass</th>\n",
              "      <th>education</th>\n",
              "      <th>educationyears</th>\n",
              "      <th>maritalstatus</th>\n",
              "      <th>occupation</th>\n",
              "      <th>relationship</th>\n",
              "      <th>race</th>\n",
              "      <th>sex</th>\n",
              "      <th>hoursperweek</th>\n",
              "      <th>nativecountry</th>\n",
              "      <th>incomeUSD</th>\n",
              "    </tr>\n",
              "  </thead>\n",
              "  <tbody>\n",
              "    <tr>\n",
              "      <th>0</th>\n",
              "      <td>39</td>\n",
              "      <td>State-gov</td>\n",
              "      <td>Bachelors</td>\n",
              "      <td>13</td>\n",
              "      <td>Never-married</td>\n",
              "      <td>Adm-clerical</td>\n",
              "      <td>Not-in-family</td>\n",
              "      <td>White</td>\n",
              "      <td>Male</td>\n",
              "      <td>40</td>\n",
              "      <td>United-States</td>\n",
              "      <td>43747</td>\n",
              "    </tr>\n",
              "    <tr>\n",
              "      <th>1</th>\n",
              "      <td>50</td>\n",
              "      <td>Self-emp-not-inc</td>\n",
              "      <td>Bachelors</td>\n",
              "      <td>13</td>\n",
              "      <td>Married-civ-spouse</td>\n",
              "      <td>Exec-managerial</td>\n",
              "      <td>Husband</td>\n",
              "      <td>White</td>\n",
              "      <td>Male</td>\n",
              "      <td>13</td>\n",
              "      <td>United-States</td>\n",
              "      <td>38907</td>\n",
              "    </tr>\n",
              "    <tr>\n",
              "      <th>2</th>\n",
              "      <td>38</td>\n",
              "      <td>Private</td>\n",
              "      <td>HS-grad</td>\n",
              "      <td>9</td>\n",
              "      <td>Divorced</td>\n",
              "      <td>Handlers-cleaners</td>\n",
              "      <td>Not-in-family</td>\n",
              "      <td>White</td>\n",
              "      <td>Male</td>\n",
              "      <td>40</td>\n",
              "      <td>United-States</td>\n",
              "      <td>25055</td>\n",
              "    </tr>\n",
              "    <tr>\n",
              "      <th>3</th>\n",
              "      <td>53</td>\n",
              "      <td>Private</td>\n",
              "      <td>11th</td>\n",
              "      <td>7</td>\n",
              "      <td>Married-civ-spouse</td>\n",
              "      <td>Handlers-cleaners</td>\n",
              "      <td>Husband</td>\n",
              "      <td>Black</td>\n",
              "      <td>Male</td>\n",
              "      <td>40</td>\n",
              "      <td>United-States</td>\n",
              "      <td>26733</td>\n",
              "    </tr>\n",
              "    <tr>\n",
              "      <th>4</th>\n",
              "      <td>28</td>\n",
              "      <td>Private</td>\n",
              "      <td>Bachelors</td>\n",
              "      <td>13</td>\n",
              "      <td>Married-civ-spouse</td>\n",
              "      <td>Prof-specialty</td>\n",
              "      <td>Wife</td>\n",
              "      <td>Black</td>\n",
              "      <td>Female</td>\n",
              "      <td>40</td>\n",
              "      <td>Cuba</td>\n",
              "      <td>23429</td>\n",
              "    </tr>\n",
              "  </tbody>\n",
              "</table>\n",
              "</div>\n",
              "      <button class=\"colab-df-convert\" onclick=\"convertToInteractive('df-9631c68c-2231-4b57-8e0a-9f7798eac568')\"\n",
              "              title=\"Convert this dataframe to an interactive table.\"\n",
              "              style=\"display:none;\">\n",
              "        \n",
              "  <svg xmlns=\"http://www.w3.org/2000/svg\" height=\"24px\"viewBox=\"0 0 24 24\"\n",
              "       width=\"24px\">\n",
              "    <path d=\"M0 0h24v24H0V0z\" fill=\"none\"/>\n",
              "    <path d=\"M18.56 5.44l.94 2.06.94-2.06 2.06-.94-2.06-.94-.94-2.06-.94 2.06-2.06.94zm-11 1L8.5 8.5l.94-2.06 2.06-.94-2.06-.94L8.5 2.5l-.94 2.06-2.06.94zm10 10l.94 2.06.94-2.06 2.06-.94-2.06-.94-.94-2.06-.94 2.06-2.06.94z\"/><path d=\"M17.41 7.96l-1.37-1.37c-.4-.4-.92-.59-1.43-.59-.52 0-1.04.2-1.43.59L10.3 9.45l-7.72 7.72c-.78.78-.78 2.05 0 2.83L4 21.41c.39.39.9.59 1.41.59.51 0 1.02-.2 1.41-.59l7.78-7.78 2.81-2.81c.8-.78.8-2.07 0-2.86zM5.41 20L4 18.59l7.72-7.72 1.47 1.35L5.41 20z\"/>\n",
              "  </svg>\n",
              "      </button>\n",
              "      \n",
              "  <style>\n",
              "    .colab-df-container {\n",
              "      display:flex;\n",
              "      flex-wrap:wrap;\n",
              "      gap: 12px;\n",
              "    }\n",
              "\n",
              "    .colab-df-convert {\n",
              "      background-color: #E8F0FE;\n",
              "      border: none;\n",
              "      border-radius: 50%;\n",
              "      cursor: pointer;\n",
              "      display: none;\n",
              "      fill: #1967D2;\n",
              "      height: 32px;\n",
              "      padding: 0 0 0 0;\n",
              "      width: 32px;\n",
              "    }\n",
              "\n",
              "    .colab-df-convert:hover {\n",
              "      background-color: #E2EBFA;\n",
              "      box-shadow: 0px 1px 2px rgba(60, 64, 67, 0.3), 0px 1px 3px 1px rgba(60, 64, 67, 0.15);\n",
              "      fill: #174EA6;\n",
              "    }\n",
              "\n",
              "    [theme=dark] .colab-df-convert {\n",
              "      background-color: #3B4455;\n",
              "      fill: #D2E3FC;\n",
              "    }\n",
              "\n",
              "    [theme=dark] .colab-df-convert:hover {\n",
              "      background-color: #434B5C;\n",
              "      box-shadow: 0px 1px 3px 1px rgba(0, 0, 0, 0.15);\n",
              "      filter: drop-shadow(0px 1px 2px rgba(0, 0, 0, 0.3));\n",
              "      fill: #FFFFFF;\n",
              "    }\n",
              "  </style>\n",
              "\n",
              "      <script>\n",
              "        const buttonEl =\n",
              "          document.querySelector('#df-9631c68c-2231-4b57-8e0a-9f7798eac568 button.colab-df-convert');\n",
              "        buttonEl.style.display =\n",
              "          google.colab.kernel.accessAllowed ? 'block' : 'none';\n",
              "\n",
              "        async function convertToInteractive(key) {\n",
              "          const element = document.querySelector('#df-9631c68c-2231-4b57-8e0a-9f7798eac568');\n",
              "          const dataTable =\n",
              "            await google.colab.kernel.invokeFunction('convertToInteractive',\n",
              "                                                     [key], {});\n",
              "          if (!dataTable) return;\n",
              "\n",
              "          const docLinkHtml = 'Like what you see? Visit the ' +\n",
              "            '<a target=\"_blank\" href=https://colab.research.google.com/notebooks/data_table.ipynb>data table notebook</a>'\n",
              "            + ' to learn more about interactive tables.';\n",
              "          element.innerHTML = '';\n",
              "          dataTable['output_type'] = 'display_data';\n",
              "          await google.colab.output.renderOutput(dataTable, element);\n",
              "          const docLink = document.createElement('div');\n",
              "          docLink.innerHTML = docLinkHtml;\n",
              "          element.appendChild(docLink);\n",
              "        }\n",
              "      </script>\n",
              "    </div>\n",
              "  </div>\n",
              "  "
            ]
          },
          "metadata": {},
          "execution_count": 13
        }
      ]
    },
    {
      "cell_type": "markdown",
      "source": [
        "#**1. Distance**\n",
        "\n",
        "Let's say you want to buy a car. You probably know what you're looking for already: You know the color, the make, and the model year you want, and the budget you have available. What you don't know just yet is, of course, the exact price--that's why you're shopping around. \n",
        "\n",
        "Let's say you are looking for a red 2020 Mercedes for less than $5,000. \n",
        "\n",
        "<center><img src = 'https://www.carpro.com/hubfs/car-review-blog/review_337244_1.jpg' width = 500></center>\n",
        "\n",
        "Here are your shopping notes:\n",
        "\n",
        "* **Dealer 1:** Red 2012 Audi $4,500\n",
        "\n",
        "* **Dealer 2:** Silver 2008 Mercedes $8,000\n",
        "\n",
        "* **Dealer 3:** Red 2020 Chevrolet $4,999\n",
        "\n",
        "Which car are you going to buy?\n",
        "\n",
        "If you were going to use Distance (i.e. **difference**) and a simple boolean algorithm to match these criteria, here is what this would look like:\n",
        "\n",
        "* **Color**: Dealers 1 and 3 have red cars, so they get a 0 for red; Dealer 2 gets a 1 because their car is silver.\n",
        "\n",
        "* **Year**: Dealers 1 and 2 get a 1 because their cars are older; only Dealer 3 gets a 0 because their car is from 2020.\n",
        "\n",
        "* **Make**: Dealers 1 and 3 get a 1 because you were not looking for an Audi or a Chevrolet; you were looking for a Mercedes, which you found at Dealer 2 (who gets a 0).\n",
        "\n",
        "* **Price**: Dealer 2 is too expensive (1); only Dealers 1 and 3 match your criteria (both get a 0). \n",
        "\n",
        "Now we total up the points: Dealer 1 gets 2 points (Year and Make are different); Dealer 2 gets 3 points (Color, Year, and Price are different); Dealer 3 gets 1 point (only the Make is different)--so, the red 2020 Chevy for $4,999 from Dealer 3 is **CLOSEST**to what you were looking for. For all the others, the Distance from your original search is bigger. \n",
        "\n",
        "This example is obviously a gross simplification, but it illustrates one thing: **The closer two data points, or even two data series, are--that is, the more they are alike--the smaller the distance between the two.** \n",
        "<hr>\n",
        "\n",
        "###**TRIGONOMETRY MOMENT!**\n",
        "\n",
        "There are three major mathematical ways to measure distance in a two-dimensional plane, and they are all based on (yay?) **RIGHT TRIANGLES**: Euclidean, Manhattan, and Cosine Similarity:\n",
        "\n",
        "<img src = 'https://i0.wp.com/dataaspirant.com/wp-content/uploads/2015/04/cover_post_final.png'>"
      ],
      "metadata": {
        "id": "1n1n8vmS2X5y"
      }
    },
    {
      "cell_type": "markdown",
      "metadata": {
        "id": "lFZwDq8mtu3B"
      },
      "source": [
        "##**1.1 Euclidean Distance**#\n",
        "The Euclidean distance between two points measures the length of a segment connecting the two points. It is the most obvious way of representing distance between two points--the **HYPOTENUSE** (line d) in the triangle below:\n",
        "\n",
        "<img src=\"https://raw.githubusercontent.com/shstreuber/Data-Mining/master/images/Euclidean_distance.png\" width=200 height=200>\n",
        "\n",
        "As you can see, in this graphic, the Pythagorean theorem leads us to calculate side d like this:\n",
        "\n",
        "            ** √((x2−x1)^2+(y2−y1)^2)`**\n",
        "\n",
        "##And how does this work in Python?##\n",
        "It's not that hard to compute the Euclidean distance with straight-up Python math, as long as you take your time and go stepwise. Pandas and numpy help us with that. \n",
        "\n",
        "It's ok to skip ahead to the section with the adult dataset, if you are out of time."
      ]
    },
    {
      "cell_type": "markdown",
      "metadata": {
        "id": "L-NSGEaPfJE-"
      },
      "source": [
        "###**1.1.1 Euclidean distance using straight-forward math**##\n",
        "We will set up a quick dummy dataset and do the math as the second step."
      ]
    },
    {
      "cell_type": "code",
      "metadata": {
        "id": "tslHqjIKsom4",
        "colab": {
          "base_uri": "https://localhost:8080/"
        },
        "outputId": "fe0dfd5f-9f29-445a-dc4f-7989e8259a0a"
      },
      "source": [
        "# Here, I am creating a quick dummy dataset. You won't need to do this with the adult dataset\n",
        "# or with any data series that is already formatted as a series.\n",
        "\n",
        "# We build two series called x and y\n",
        "x = pd.Series([1, 2, 3, 4, 5])\n",
        "y = pd.Series([6, 7, 8, 9, 10])\n",
        "\n",
        "# Let's check what x and y contain:\n",
        "print(\"Series 1:\")\n",
        "print(x)\n",
        "  \n",
        "print(\"Series 2:\")\n",
        "print(y)"
      ],
      "execution_count": null,
      "outputs": [
        {
          "output_type": "stream",
          "name": "stdout",
          "text": [
            "Series 1:\n",
            "0    1\n",
            "1    2\n",
            "2    3\n",
            "3    4\n",
            "4    5\n",
            "dtype: int64\n",
            "Series 2:\n",
            "0     6\n",
            "1     7\n",
            "2     8\n",
            "3     9\n",
            "4    10\n",
            "dtype: int64\n"
          ]
        }
      ]
    },
    {
      "cell_type": "markdown",
      "metadata": {
        "id": "Z7JhgHNJ2Kl9"
      },
      "source": [
        "Alright. The dataset is in place and correctly formatted. Now we start setting up the Euclidean distance formula. "
      ]
    },
    {
      "cell_type": "code",
      "metadata": {
        "colab": {
          "base_uri": "https://localhost:8080/"
        },
        "id": "42v5WYIZdwoL",
        "outputId": "c6a820e4-87d8-4838-92ad-bd27468ca0c4"
      },
      "source": [
        "# First, we square each datapoint as a in series x and save the array into p1\n",
        "# Then, we square each datapoint as b in series y and save the array into p2\n",
        "p1 = np.sum([(a * a) for a in x])\n",
        "p2 = np.sum([(b * b) for b in y])\n",
        "\n",
        "# Now we can build the formula with the squared values\n",
        "# The numpy zip() function makes it easy to iterate through x and y\n",
        "dist = np.sqrt(np.sum([(a-b)*(a-b) for a, b in zip(x, y)])) \n",
        "\n",
        "# So, what's the distance?:\n",
        "print(\"Euclidean distance between our two series is:\", dist)"
      ],
      "execution_count": null,
      "outputs": [
        {
          "output_type": "stream",
          "name": "stdout",
          "text": [
            "Euclidean distance between our two series is: 11.180339887498949\n"
          ]
        }
      ]
    },
    {
      "cell_type": "markdown",
      "metadata": {
        "id": "9FqqnwG62Pv3"
      },
      "source": [
        "The entire operation took 3 lines of code. That was ... fun? Maybe? Is there an easier way?"
      ]
    },
    {
      "cell_type": "markdown",
      "metadata": {
        "id": "XCpZmcmjgxrs"
      },
      "source": [
        "###**1.1.2 Euclidean distance using dot product**##\n",
        "Now let's do this math differently, not with pandas, but with numpy. For this, we will need our data to look like an **array** and not like a series. **Arrays are one of the most common ways to work with data in Python.**"
      ]
    },
    {
      "cell_type": "code",
      "metadata": {
        "colab": {
          "base_uri": "https://localhost:8080/"
        },
        "id": "T6mYxpvyg2tR",
        "outputId": "a8a55fda-248e-4c6b-fb30-00b8ecc97861"
      },
      "source": [
        "# First, we build our data again, but this time as arrays, This will allow us to do simple vector math!\n",
        "\n",
        "point1 = np.array((1, 2, 3, 4, 5))\n",
        "point2 = np.array((6, 7, 8, 9, 10))\n",
        "  \n",
        "# Let's check what x and y contain:\n",
        "print(\"Array 1:\")\n",
        "print(point1)\n",
        "  \n",
        "print(\"Array 2:\")\n",
        "print(point2)"
      ],
      "execution_count": null,
      "outputs": [
        {
          "output_type": "stream",
          "name": "stdout",
          "text": [
            "Array 1:\n",
            "[1 2 3 4 5]\n",
            "Array 2:\n",
            "[ 6  7  8  9 10]\n"
          ]
        }
      ]
    },
    {
      "cell_type": "code",
      "metadata": {
        "colab": {
          "base_uri": "https://localhost:8080/"
        },
        "id": "K6H-W4Kik-5i",
        "outputId": "a315953c-37c3-4eed-e31e-a38fd6a73cf5"
      },
      "source": [
        "# Now we subtract point 2 from point 1.\n",
        "temp = point1 - point2\n",
        "  \n",
        "# Then we use the dot product to find the sum of squares\n",
        "sum_sq = np.dot(temp.T, temp)\n",
        "  \n",
        "# All we need now is to tae the spare root of the sum of squares\n",
        "print(\"Euclidean distance between our two arrays is:\",np.sqrt(sum_sq))"
      ],
      "execution_count": null,
      "outputs": [
        {
          "output_type": "stream",
          "name": "stdout",
          "text": [
            "Euclidean distance between our two arrays is: 11.180339887498949\n"
          ]
        }
      ]
    },
    {
      "cell_type": "markdown",
      "metadata": {
        "id": "Y7mBBLJef14r"
      },
      "source": [
        "###**1.1.3 Euclidean Distance and the adult dataset**##\n",
        "Now let's try this on the adult dataset.\n",
        "\n",
        "Our question to ask: Does incomeUSD depend more on a person's age or on their educationyears? In other words, we want to find out which of these two attributes is closer to incomeUSD.\n",
        "\n",
        "**First, age**:"
      ]
    },
    {
      "cell_type": "code",
      "metadata": {
        "colab": {
          "base_uri": "https://localhost:8080/"
        },
        "id": "szIOr4Gcx8Xg",
        "outputId": "335a2407-0ab4-460d-f644-fbce85d96ceb"
      },
      "source": [
        "point1 = np.array((adult.age))\n",
        "point2 = np.array((adult.incomeUSD))\n",
        "  \n",
        " # Let's check what x and y contain:\n",
        "print(\"Array 1:\")\n",
        "print(point1)\n",
        "  \n",
        "print(\"Array 2:\")\n",
        "print(point2)"
      ],
      "execution_count": null,
      "outputs": [
        {
          "output_type": "stream",
          "name": "stdout",
          "text": [
            "Array 1:\n",
            "[39 50 38 ... 58 22 52]\n",
            "Array 2:\n",
            "[ 43747  38907  25055 ...  46073  29618 196782]\n"
          ]
        }
      ]
    },
    {
      "cell_type": "code",
      "metadata": {
        "colab": {
          "base_uri": "https://localhost:8080/"
        },
        "id": "qQY8YukGzauF",
        "outputId": "18da6d85-5971-4e5b-d828-dfd862cff930"
      },
      "source": [
        "dist = np.linalg.norm(point1 - point2)\n",
        "  \n",
        "# printing Euclidean distance\n",
        "print(\"Euclidean distance between age and incomeUSD is:\", dist)"
      ],
      "execution_count": null,
      "outputs": [
        {
          "output_type": "stream",
          "name": "stdout",
          "text": [
            "Euclidean distance between age and incomeUSD is: 12969807.476741742\n"
          ]
        }
      ]
    },
    {
      "cell_type": "markdown",
      "metadata": {
        "id": "G3DvcAXq0IZD"
      },
      "source": [
        "###**Your Turn**\n",
        "In the space below, do the same transformation (that's a data-sciency way to say \"ensure your data is in (here) array format>\") and calculation, but for the educationyears attribute in comparison to incomeUSD.\n",
        "\n",
        "First, transform the data into array format:"
      ]
    },
    {
      "cell_type": "code",
      "source": [
        "edYears = np.array(adult['educationyears'])\n",
        "inUSD = np.array(adult['incomeUSD'])"
      ],
      "metadata": {
        "id": "1MBAxAee9AkD",
        "colab": {
          "base_uri": "https://localhost:8080/"
        },
        "outputId": "ef74eb51-5966-400a-f127-f6bce5cfbea4"
      },
      "execution_count": null,
      "outputs": [
        {
          "output_type": "execute_result",
          "data": {
            "text/plain": [
              "array([ 43747,  38907,  25055, ...,  46073,  29618, 196782])"
            ]
          },
          "metadata": {},
          "execution_count": 10
        }
      ]
    },
    {
      "cell_type": "markdown",
      "metadata": {
        "id": "giZzBb4h5l1B"
      },
      "source": [
        "Second, use linalg or dot product (just for fun) to calculate the Euclidean distance:"
      ]
    },
    {
      "cell_type": "code",
      "metadata": {
        "id": "fTibPO3M5kHl",
        "colab": {
          "base_uri": "https://localhost:8080/"
        },
        "outputId": "ea1a962f-ec81-42be-c179-3aff2ca5ee8d"
      },
      "source": [
        "#linalg\n",
        "linalgDist = np.linalg.norm(edYears - inUSD)\n",
        "print(\"education years to income USD dist is: \", linalgDist)\n",
        "\n",
        "#dot product\n",
        "temp = edYears - inUSD  \n",
        "sum_sq = np.dot(temp.T, temp)\n",
        "print(\"Euclidean distance between our two arrays is:\",np.sqrt(sum_sq))"
      ],
      "execution_count": null,
      "outputs": [
        {
          "output_type": "stream",
          "name": "stdout",
          "text": [
            "education years to income USD dist is:  12974071.632952549\n",
            "Euclidean distance between our two arrays is: 12974071.632952549\n"
          ]
        }
      ]
    },
    {
      "cell_type": "markdown",
      "metadata": {
        "id": "RmEC1uZM54e8"
      },
      "source": [
        "Third, use your good judgment and compare the Euclidean distance I have calculated comparing age and incomeUSD with the Euclidean distance you have calculated comparing educationyears and incomeUSD. **A smaller distance number shows you that the two attributes are more closely related. A larger distance number shows you that they are not as closely related.**\n",
        "\n",
        "**Now you can answer our question**: Which distance is smaller? In other words, what attribute determines a person's incomeUSD more--age or educationyears? Type your answer in the text box below:"
      ]
    },
    {
      "cell_type": "markdown",
      "source": [
        "Education age has a closer distance than education years does to income."
      ],
      "metadata": {
        "id": "9zwY-zLT9N1T"
      }
    },
    {
      "cell_type": "markdown",
      "metadata": {
        "id": "U25aWrU7scV0"
      },
      "source": [
        "##**1.2. Manhattan Distance**#\n",
        "The Manhattan distance, also often called rectilinear or city block distance, between two points is measured along axes at right angles. In a plane with p1 at (x1, y1) and p2 at (x2, y2), it is \n",
        "\n",
        "            **|x1 - x2| + |y1 - y2|**\n",
        "\n",
        "In the graphic below, the measurement goes at an angle through the lower right-hand point across from the hypotenuse:\n",
        "\n",
        "<img src=\"https://raw.githubusercontent.com/shstreuber/Data-Mining/master/images/Euclidean_distance.png\" width=200 height=200>"
      ]
    },
    {
      "cell_type": "markdown",
      "metadata": {
        "id": "c13dyZYT7vHH"
      },
      "source": [
        "###**1.2.1 Math? Not again, please!**\n",
        "Ok, ok, I get it: If you wanted to calculate things with complicated formulas, you would have taken a Math class and not a class in which we should be using easy programming methods. Fine, then. BUT we'll need a different Python library to accomplish \"no math\": \n",
        "\n",
        "**The [SciPy library](https://www.scipy.org/) does all the math for us.**"
      ]
    },
    {
      "cell_type": "code",
      "metadata": {
        "id": "rK8XzQQ381WG"
      },
      "source": [
        "import scipy.spatial.distance as dist"
      ],
      "execution_count": null,
      "outputs": []
    },
    {
      "cell_type": "markdown",
      "metadata": {
        "id": "hXAfBplG8620"
      },
      "source": [
        "Now, we set up our data. You already know this from section 1.1 above."
      ]
    },
    {
      "cell_type": "code",
      "metadata": {
        "colab": {
          "base_uri": "https://localhost:8080/"
        },
        "id": "nS9QC6fD9QC3",
        "outputId": "59e982bb-73a5-481c-be07-0be2b1825e40"
      },
      "source": [
        "point1 = np.array((1, 2, 3, 4, 5))\n",
        "point2 = np.array((6, 7, 8, 9, 10))\n",
        "\n",
        "print ('Here is our sample data')\n",
        "print ('------------------------')\n",
        "print (\"Array 1:\", point1)\n",
        "print (\"Array 2:\", point2)"
      ],
      "execution_count": null,
      "outputs": [
        {
          "output_type": "stream",
          "name": "stdout",
          "text": [
            "Here is our sample data\n",
            "------------------------\n",
            "Array 1: [1 2 3 4 5]\n",
            "Array 2: [ 6  7  8  9 10]\n"
          ]
        }
      ]
    },
    {
      "cell_type": "markdown",
      "metadata": {
        "id": "3S5nM8Fc9bRE"
      },
      "source": [
        "Time to program our algorithm!"
      ]
    },
    {
      "cell_type": "code",
      "metadata": {
        "id": "fJl3PwXF9BGZ",
        "colab": {
          "base_uri": "https://localhost:8080/"
        },
        "outputId": "54cd38e5-4fc4-49c2-e6b6-6a77289a9168"
      },
      "source": [
        "print (\"Manhattan Distance:\", f'{dist.cityblock(point1,point2):,}')"
      ],
      "execution_count": null,
      "outputs": [
        {
          "output_type": "stream",
          "name": "stdout",
          "text": [
            "Manhattan Distance: 1,842,100,150\n"
          ]
        }
      ]
    },
    {
      "cell_type": "markdown",
      "metadata": {
        "id": "4lSWH4dKA1jx"
      },
      "source": [
        "**Wait, WHAT?** That was quick! Can we do that with Euclidean Distance, too?"
      ]
    },
    {
      "cell_type": "code",
      "metadata": {
        "colab": {
          "base_uri": "https://localhost:8080/"
        },
        "id": "NDXm75noA7uj",
        "outputId": "f4fad10d-980f-4c3d-c04a-837432f8e749"
      },
      "source": [
        "print (\"Euclidean Distance:\", f'{dist.euclidean(point1,point2):,}')"
      ],
      "execution_count": null,
      "outputs": [
        {
          "output_type": "stream",
          "name": "stdout",
          "text": [
            "Euclidean Distance: 12,974,071.632952549\n"
          ]
        }
      ]
    },
    {
      "cell_type": "markdown",
      "metadata": {
        "id": "cpeOPus1BHKr"
      },
      "source": [
        "One line! No math! So short! So elegant! And, of course, different from our Euclidean measurement because we're not measuring the direct connection, but we're going around the \"cityblocks\" to get from our first to our second point.\n",
        "\n",
        "***We have reached the goal!***\n"
      ]
    },
    {
      "cell_type": "markdown",
      "metadata": {
        "id": "g3kfVRnzBVPf"
      },
      "source": [
        "###**1.2.2 Manhattan Distance and the adult dataset**\n",
        "Let's take the show on the road again, with our adult dataset. To show you the entire process, we'll walk through the array conversion step first and then display the Manhattan Distance.\n",
        "\n",
        "I'm again working with the age and incomeUSD attributes. Your job is to compute the educationyears and incomeUSD attributes."
      ]
    },
    {
      "cell_type": "code",
      "metadata": {
        "colab": {
          "base_uri": "https://localhost:8080/"
        },
        "id": "QR-cwwKJBuw_",
        "outputId": "a77b3be3-ebd5-4e60-c469-122584222782"
      },
      "source": [
        "point1 = np.array((adult.age))\n",
        "point2 = np.array((adult.incomeUSD))\n",
        "\n",
        "print (\"Manhattan Distance between age and incomeUSD:\", f'{dist.cityblock(point1,point2):,}')"
      ],
      "execution_count": null,
      "outputs": [
        {
          "output_type": "stream",
          "name": "stdout",
          "text": [
            "Manhattan Distance between age and incomeUSD: 1,841,172,130\n"
          ]
        }
      ]
    },
    {
      "cell_type": "markdown",
      "metadata": {
        "id": "Fhp6G3lXCt9g"
      },
      "source": [
        "###**Your Turn**\n",
        "Now, do the same thing I did above with age and incomeUSD, but with educationyears and incomeUSD. You'll need to set up your arrays and then use the print function to display the Manhattan distance."
      ]
    },
    {
      "cell_type": "code",
      "metadata": {
        "id": "0F7orqZzDpYQ",
        "colab": {
          "base_uri": "https://localhost:8080/"
        },
        "outputId": "2ce4738e-26da-4bc7-c49b-497f995a1307"
      },
      "source": [
        "point1 = np.array((adult.educationyears))\n",
        "point2 = np.array((adult.incomeUSD))\n",
        "print (\"Manhattan Distance between education years and incomeUSD:\", f'{dist.cityblock(point1,point2):,}')"
      ],
      "execution_count": null,
      "outputs": [
        {
          "output_type": "stream",
          "name": "stdout",
          "text": [
            "Manhattan Distance between education years and incomeUSD: 1,842,100,150\n"
          ]
        }
      ]
    },
    {
      "cell_type": "markdown",
      "metadata": {
        "id": "Q_ruq0TpD5ZN"
      },
      "source": [
        "Compare your results about educationyears and incomeUSD to my results about age and incomeUSD. Which attribute is close to incomeUSD--age or educationyears? Type your answer below:"
      ]
    },
    {
      "cell_type": "markdown",
      "metadata": {
        "id": "YfYgTvhAEGyF"
      },
      "source": [
        "Using Manhattan Distance, age is closer than education years."
      ]
    },
    {
      "cell_type": "markdown",
      "metadata": {
        "id": "aljcjl3kn0ZX"
      },
      "source": [
        "## **1.3. Cosine Similarity**\n",
        "\n",
        "Cosine Similarity is the last distance-based measure that we haven't discussed yet. \n",
        "\n",
        "While Euclidean and Manhattan Distance are just plain calculations, Cosine Similarity works with angles. This is where things get a little more involved. \n",
        "\n",
        "Mathematically speaking, **Cosine Similarity** is the normalized dot product between two vectors, i.e. two attributes in our dataframe. The steps are\n",
        "* Calculate the dot product between two attributes (or, in math language: Calculate the product of the Euclidean magnitudes of these two vectors). If you're not sure what dot product is, [here is a great explanation](https://www.mathsisfun.com/algebra/vectors-dot-product.html).\n",
        "* Calculate the cosine of the angle between these two vectors.\n",
        "Quick helper: The cosine of 0° is 1 (meaning the two vectors are identical), and it is less than 1 for any other angle. It is 0 for a 90° angle.\n",
        "\n",
        "<img src = 'https://i0.wp.com/dataaspirant.com/wp-content/uploads/2015/04/cosine.png'>\n",
        "\n",
        "Since Cosine Similarity can be computed relatively quickly, it is very popular.\n",
        "\n",
        "More information is here: https://scikit-learn.org/stable/modules/generated/sklearn.metrics.pairwise.cosine_similarity.html"
      ]
    },
    {
      "cell_type": "markdown",
      "metadata": {
        "id": "GzMX3PSXszAp"
      },
      "source": []
    },
    {
      "cell_type": "markdown",
      "metadata": {
        "id": "QHGCvSJMxgMp"
      },
      "source": []
    },
    {
      "cell_type": "markdown",
      "metadata": {
        "id": "9B4xiSPMwTXf"
      },
      "source": [
        "### **1.3.1 A Small Example**\n",
        "Here is how this works on a very small example, with two made-up vectors.\n",
        "Note that all the vectors **MUST be numeric**! (One big reason why we  covered preprocessing techniques in the previous module)."
      ]
    },
    {
      "cell_type": "code",
      "metadata": {
        "id": "SZ-AUVlZyVEC",
        "colab": {
          "base_uri": "https://localhost:8080/"
        },
        "outputId": "6a6e9e97-1cb0-4428-8701-1b528791f0c5"
      },
      "source": [
        "# Here are the two vectors again. Think of them like numeric attributes from your dataframe:\n",
        "a = np.array([1,2,3])\n",
        "b = np.array([1,1,4])\n",
        "\n",
        "print(a,b)"
      ],
      "execution_count": null,
      "outputs": [
        {
          "output_type": "stream",
          "name": "stdout",
          "text": [
            "[1 2 3] [1 1 4]\n"
          ]
        }
      ]
    },
    {
      "cell_type": "markdown",
      "metadata": {
        "id": "RkHKpDQ-5SXG"
      },
      "source": [
        "First, we do this manually with the dot product you already know:"
      ]
    },
    {
      "cell_type": "code",
      "metadata": {
        "id": "l_-EbCt_n0ZY",
        "colab": {
          "base_uri": "https://localhost:8080/"
        },
        "outputId": "6e55bf59-dce9-4e8f-8766-040a0b2b38aa"
      },
      "source": [
        "# We can MANUALLY compute cosine similarity (this is where we are using the math library we called above)\n",
        "dot = np.dot(a, b)  # computing the dot product with the dot function\n",
        "norma = np.linalg.norm(a)  # normalizing vector a to bring it on the same scale as vector b\n",
        "normb = np.linalg.norm(b)  # normalizing vector b o bring it on the same scale as vector a\n",
        "cos1 = dot / (norma * normb)  # computing the cosine by dividing the dot product by the normalized vectors as shown in the cartoon above\n",
        "\n",
        "print('dot', dot) #simple matrix multiplication a * b = [1, 2, 3] * [1, 1, 4] = 1 * 1 + 2 * 1 + 3 * 4 \n",
        "print('norma', norma) #sqrt of the sum of squares,  1^2 + 2^2 + 3^2 \n",
        "print('normb', normb)\n",
        "print('cos1', cos1) "
      ],
      "execution_count": null,
      "outputs": [
        {
          "output_type": "stream",
          "name": "stdout",
          "text": [
            "dot 15\n",
            "norma 3.7416573867739413\n",
            "normb 4.242640687119285\n",
            "cos1 0.9449111825230682\n"
          ]
        }
      ]
    },
    {
      "cell_type": "code",
      "metadata": {
        "id": "ynXFZ3N72j81",
        "colab": {
          "base_uri": "https://localhost:8080/"
        },
        "outputId": "e94ad3b2-3d2f-4fe7-de5e-8a2791a39014"
      },
      "source": [
        "# Now we need to find the angle from the cosine. This requires two steps: \n",
        "# 1. convert the angle to radians\n",
        "# 2. calculate the degrees\n",
        "\n",
        "angle_in_radians1 = math.acos(cos1)\n",
        "degrees1 = math.degrees(angle_in_radians1)\n",
        "\n",
        "print(cos1, angle_in_radians1, degrees1)"
      ],
      "execution_count": null,
      "outputs": [
        {
          "output_type": "stream",
          "name": "stdout",
          "text": [
            "0.9449111825230682 0.3334731722518318 19.106605350869078\n"
          ]
        }
      ]
    },
    {
      "cell_type": "markdown",
      "metadata": {
        "id": "YlBnZAzo5bGa"
      },
      "source": [
        "So, that was straight-up programmed math. \n",
        "\n",
        "But this is **DATA MINING**, and we have fancy packages like sklearn.metrics to speed things up. So, we'll do this over again:"
      ]
    },
    {
      "cell_type": "code",
      "metadata": {
        "id": "juT_ZNgP6ons",
        "colab": {
          "base_uri": "https://localhost:8080/",
          "height": 415
        },
        "outputId": "aaa7c489-ec20-400e-fa54-8ad62d86febc"
      },
      "source": [
        "# Using the COSINE_SIMILARITY FUNCTION from sklearn.metrics\n",
        "cos2 = cosine_similarity(a,b)"
      ],
      "execution_count": null,
      "outputs": [
        {
          "output_type": "error",
          "ename": "ValueError",
          "evalue": "ignored",
          "traceback": [
            "\u001b[0;31m---------------------------------------------------------------------------\u001b[0m",
            "\u001b[0;31mValueError\u001b[0m                                Traceback (most recent call last)",
            "\u001b[0;32m<ipython-input-33-4a7c2aa4239e>\u001b[0m in \u001b[0;36m<cell line: 2>\u001b[0;34m()\u001b[0m\n\u001b[1;32m      1\u001b[0m \u001b[0;31m# Using the COSINE_SIMILARITY FUNCTION from sklearn.metrics\u001b[0m\u001b[0;34m\u001b[0m\u001b[0;34m\u001b[0m\u001b[0m\n\u001b[0;32m----> 2\u001b[0;31m \u001b[0mcos2\u001b[0m \u001b[0;34m=\u001b[0m \u001b[0mcosine_similarity\u001b[0m\u001b[0;34m(\u001b[0m\u001b[0ma\u001b[0m\u001b[0;34m,\u001b[0m\u001b[0mb\u001b[0m\u001b[0;34m)\u001b[0m\u001b[0;34m\u001b[0m\u001b[0;34m\u001b[0m\u001b[0m\n\u001b[0m",
            "\u001b[0;32m/usr/local/lib/python3.10/dist-packages/sklearn/metrics/pairwise.py\u001b[0m in \u001b[0;36mcosine_similarity\u001b[0;34m(X, Y, dense_output)\u001b[0m\n\u001b[1;32m   1391\u001b[0m     \u001b[0;31m# to avoid recursive import\u001b[0m\u001b[0;34m\u001b[0m\u001b[0;34m\u001b[0m\u001b[0m\n\u001b[1;32m   1392\u001b[0m \u001b[0;34m\u001b[0m\u001b[0m\n\u001b[0;32m-> 1393\u001b[0;31m     \u001b[0mX\u001b[0m\u001b[0;34m,\u001b[0m \u001b[0mY\u001b[0m \u001b[0;34m=\u001b[0m \u001b[0mcheck_pairwise_arrays\u001b[0m\u001b[0;34m(\u001b[0m\u001b[0mX\u001b[0m\u001b[0;34m,\u001b[0m \u001b[0mY\u001b[0m\u001b[0;34m)\u001b[0m\u001b[0;34m\u001b[0m\u001b[0;34m\u001b[0m\u001b[0m\n\u001b[0m\u001b[1;32m   1394\u001b[0m \u001b[0;34m\u001b[0m\u001b[0m\n\u001b[1;32m   1395\u001b[0m     \u001b[0mX_normalized\u001b[0m \u001b[0;34m=\u001b[0m \u001b[0mnormalize\u001b[0m\u001b[0;34m(\u001b[0m\u001b[0mX\u001b[0m\u001b[0;34m,\u001b[0m \u001b[0mcopy\u001b[0m\u001b[0;34m=\u001b[0m\u001b[0;32mTrue\u001b[0m\u001b[0;34m)\u001b[0m\u001b[0;34m\u001b[0m\u001b[0;34m\u001b[0m\u001b[0m\n",
            "\u001b[0;32m/usr/local/lib/python3.10/dist-packages/sklearn/metrics/pairwise.py\u001b[0m in \u001b[0;36mcheck_pairwise_arrays\u001b[0;34m(X, Y, precomputed, dtype, accept_sparse, force_all_finite, copy)\u001b[0m\n\u001b[1;32m    153\u001b[0m         )\n\u001b[1;32m    154\u001b[0m     \u001b[0;32melse\u001b[0m\u001b[0;34m:\u001b[0m\u001b[0;34m\u001b[0m\u001b[0;34m\u001b[0m\u001b[0m\n\u001b[0;32m--> 155\u001b[0;31m         X = check_array(\n\u001b[0m\u001b[1;32m    156\u001b[0m             \u001b[0mX\u001b[0m\u001b[0;34m,\u001b[0m\u001b[0;34m\u001b[0m\u001b[0;34m\u001b[0m\u001b[0m\n\u001b[1;32m    157\u001b[0m             \u001b[0maccept_sparse\u001b[0m\u001b[0;34m=\u001b[0m\u001b[0maccept_sparse\u001b[0m\u001b[0;34m,\u001b[0m\u001b[0;34m\u001b[0m\u001b[0;34m\u001b[0m\u001b[0m\n",
            "\u001b[0;32m/usr/local/lib/python3.10/dist-packages/sklearn/utils/validation.py\u001b[0m in \u001b[0;36mcheck_array\u001b[0;34m(array, accept_sparse, accept_large_sparse, dtype, order, copy, force_all_finite, ensure_2d, allow_nd, ensure_min_samples, ensure_min_features, estimator, input_name)\u001b[0m\n\u001b[1;32m    900\u001b[0m             \u001b[0;31m# If input is 1D raise error\u001b[0m\u001b[0;34m\u001b[0m\u001b[0;34m\u001b[0m\u001b[0m\n\u001b[1;32m    901\u001b[0m             \u001b[0;32mif\u001b[0m \u001b[0marray\u001b[0m\u001b[0;34m.\u001b[0m\u001b[0mndim\u001b[0m \u001b[0;34m==\u001b[0m \u001b[0;36m1\u001b[0m\u001b[0;34m:\u001b[0m\u001b[0;34m\u001b[0m\u001b[0;34m\u001b[0m\u001b[0m\n\u001b[0;32m--> 902\u001b[0;31m                 raise ValueError(\n\u001b[0m\u001b[1;32m    903\u001b[0m                     \u001b[0;34m\"Expected 2D array, got 1D array instead:\\narray={}.\\n\"\u001b[0m\u001b[0;34m\u001b[0m\u001b[0;34m\u001b[0m\u001b[0m\n\u001b[1;32m    904\u001b[0m                     \u001b[0;34m\"Reshape your data either using array.reshape(-1, 1) if \"\u001b[0m\u001b[0;34m\u001b[0m\u001b[0;34m\u001b[0m\u001b[0m\n",
            "\u001b[0;31mValueError\u001b[0m: Expected 2D array, got 1D array instead:\narray=[1. 2. 3.].\nReshape your data either using array.reshape(-1, 1) if your data has a single feature or array.reshape(1, -1) if it contains a single sample."
          ]
        }
      ]
    },
    {
      "cell_type": "markdown",
      "metadata": {
        "id": "zD5Xixr76ybP"
      },
      "source": [
        "**Wait, what?** Let's **read the error message** here: It tells us that something is wrong with the way our input data is formatted. In fact, the cosine_similarity function expects two-dimensional arrays. Our input data has just one each. That's why we need to reformat (=reshape) out input data. Let's try this again:"
      ]
    },
    {
      "cell_type": "code",
      "metadata": {
        "id": "F6sgiBimyO2-",
        "colab": {
          "base_uri": "https://localhost:8080/"
        },
        "outputId": "3329798e-b172-430c-b26d-0b786ecd6a3a"
      },
      "source": [
        "# Using the COSINE_SIMILARITY FUNCTION from sklearn.metrics\n",
        "aa = a.reshape(1,3) # we have 1 row, 3 columns in our array\n",
        "print('aa (now a 2d array)',aa)\n",
        "ba = b.reshape(1,3) # we have 3 values in our array\n",
        "cos3 = cosine_similarity(aa, ba)\n",
        "\n",
        "# Now we need to convert the angle to radians to get the degrees\n",
        "angle_in_radians3 = math.acos(cos3)\n",
        "degrees3 = math.degrees(angle_in_radians3)\n",
        " \n",
        "print(cos3, angle_in_radians3, degrees3)"
      ],
      "execution_count": null,
      "outputs": [
        {
          "output_type": "stream",
          "name": "stdout",
          "text": [
            "aa (now a 2d array) [[1 2 3]]\n",
            "[[0.94491118]] 0.3334731722518315 19.10660535086906\n"
          ]
        }
      ]
    },
    {
      "cell_type": "markdown",
      "metadata": {
        "id": "gtYwYBWO9QD7"
      },
      "source": [
        "As you can see, both, the manual calculation and the calculation with  scikit-learn get us identical results. On to bigger and better things!"
      ]
    },
    {
      "cell_type": "markdown",
      "metadata": {
        "id": "zfu2pP8-9ga9"
      },
      "source": [
        "###**1.3.2 Cosine Similarity with the adult Dataset**\n",
        "Now we are going to apply what we have learned above to the adult dataset. Remember that the inputs MUST be numeric!"
      ]
    },
    {
      "cell_type": "code",
      "metadata": {
        "id": "Cn_z8WTwn0Zb",
        "colab": {
          "base_uri": "https://localhost:8080/"
        },
        "outputId": "f9a66f43-c665-43fe-a64f-5e63228596c9"
      },
      "source": [
        "# First, we convert two attributes to numpy arrays\n",
        "a = np.array(adult.educationyears)\n",
        "b = np.array(adult.incomeUSD)\n",
        "\n",
        "# Manually computing cosine similarity\n",
        "dot = np.dot(a, b)  # the dot product\n",
        "norma = np.linalg.norm(a)  # normalizing vector a\n",
        "normb = np.linalg.norm(b)  # normalizing vector b\n",
        "cos4 = dot / (norma * normb)  # computing the angle by dividing the dot product by the normalized vectors\n",
        "\n",
        "print(cos4)"
      ],
      "execution_count": null,
      "outputs": [
        {
          "output_type": "stream",
          "name": "stdout",
          "text": [
            "0.8066671273202539\n"
          ]
        }
      ]
    },
    {
      "cell_type": "markdown",
      "metadata": {
        "id": "quKt-6zl-NsC"
      },
      "source": [
        "### Your Turn\n",
        "1. Compute the angle in degrees from the cos4 value shown above. Use the code field below."
      ]
    },
    {
      "cell_type": "code",
      "metadata": {
        "id": "LYH3NEHe-eP9",
        "colab": {
          "base_uri": "https://localhost:8080/"
        },
        "outputId": "cf9d3f63-5a7d-4dd4-c844-193253640a0f"
      },
      "source": [
        "angle_in_radians4 = math.acos(cos4)\n",
        "degrees4 = math.degrees(angle_in_radians4)\n",
        " \n",
        "print(cos4, angle_in_radians4, degrees4)"
      ],
      "execution_count": null,
      "outputs": [
        {
          "output_type": "stream",
          "name": "stdout",
          "text": [
            "0.8066671273202539 0.6323054348402 36.228432779527736\n"
          ]
        }
      ]
    },
    {
      "cell_type": "markdown",
      "metadata": {
        "id": "c_dsjHdd-iyY"
      },
      "source": [
        "2. Now, use sklearn.metrics to compute the angle between adult.educationyears and adult.incomeUSD.\n",
        "\n",
        "Remember to reshape the input data. Each vector has 32561 values."
      ]
    },
    {
      "cell_type": "code",
      "metadata": {
        "id": "PtU85SO19_oz",
        "colab": {
          "base_uri": "https://localhost:8080/"
        },
        "outputId": "1f28042f-d35a-4a55-9030-5a33220fdac5"
      },
      "source": [
        "a = np.array(adult.educationyears)\n",
        "b = np.array(adult.incomeUSD)\n",
        "aa = a.reshape(1,32561)\n",
        "bb = b.reshape(1,32561)\n",
        "cos5 = cosine_similarity(aa, bb)\n",
        "angle_in_radians5 = math.acos(cos5)\n",
        "degrees5 = math.degrees(angle_in_radians5)\n",
        "print(cos5, angle_in_radians5, degrees5)"
      ],
      "execution_count": null,
      "outputs": [
        {
          "output_type": "stream",
          "name": "stdout",
          "text": [
            "[[0.80666713]] 0.6323054348402 36.228432779527736\n"
          ]
        }
      ]
    },
    {
      "cell_type": "code",
      "metadata": {
        "id": "MN9-my85n0Ze",
        "colab": {
          "base_uri": "https://localhost:8080/"
        },
        "outputId": "cc11d127-730c-49b8-aee8-de8354df82b4"
      },
      "source": [
        "# Here is a solution that uses the spatial package from scipy\n",
        "\n",
        "a = np.array(adult.educationyears)\n",
        "b = np.array(adult.incomeUSD)\n",
        "\n",
        "result = 1 - spatial.distance.cosine(a, b)\n",
        "\n",
        "# Now we need to convert the angle to radians to get the degrees\n",
        "angle_in_radians = math.acos(result)\n",
        "degrees = math.degrees(angle_in_radians)\n",
        "\n",
        "print(result, degrees)"
      ],
      "execution_count": null,
      "outputs": [
        {
          "output_type": "stream",
          "name": "stdout",
          "text": [
            "0.8066671273202538 36.22843277952774\n"
          ]
        }
      ]
    },
    {
      "cell_type": "markdown",
      "metadata": {
        "id": "DhBj3qNfn0Zj"
      },
      "source": [
        "#**2. Chi Square**\n",
        "We just learned that Cosine Similarity explains the relationship between numerical attributes or vectors. But what about the other BIG data type--categorical data? That is where Chi Square comes in.\n",
        "\n",
        "**Chi Square calculates the relationship between Observed and Expected Values between two CATEGORICAL attributes like in this picture:**\n",
        "\n",
        "<img src = 'https://i.stack.imgur.com/pe4qu.png'>\n",
        "\n",
        "To understand how Chi Square works, let's review **hypothesis testing** right quick: You may remember that all hypothesis testing starts by setting up an H0 (null hypothesis) and an Ha (alternative hypothesis). The null hypothesis states whether you assume that the two variables to compare are either dependent or independent (or equal, depending on the math that follows). Then, we use complicated math that results in a **p-value**. If this **p-value is > 0.05 (5%), then your H0 is most likely true; if it is < 0.05 (5%), then your H0 is potentially wrong and Ha is more likely true.**\n",
        "\n",
        "Click [this link](https://www.mathsisfun.com/data/chi-square-test.html) to see a great explanation.\n",
        "\n",
        "**THINGS TO REMEMBER** about a Chi Square test:\n",
        "1. Is a hypothesis test based on categorical attributes.\n",
        "2. Uses as its H0 that the two variables under investigation are independent\n",
        "3. Uses a chi square table\n",
        "3. If the resulting p-value is > 0.05, both variables are independent\n",
        "4. If the resulting p-value is < 0.05, both variables are dependent\n",
        "\n",
        "Soooo ... ever wondered whether there was a connection between the color of a character's uniform and their survival rate on Star Trek's U.S.S. Enterprise? Wonder no more, but [check out the Chi Square calculation right here](https://statisticsbyjim.com/hypothesis-testing/chi-square-test-independence-example/).\n",
        "\n",
        "<center><img src = 'https://i0.wp.com/statisticsbyjim.com/wp-content/uploads/2017/03/red_shirt_meme.jpg'></center>\n"
      ]
    },
    {
      "cell_type": "markdown",
      "metadata": {
        "id": "hQaq8s8Fn0Zk"
      },
      "source": [
        "**In terms of programming**, the most convenient, way is [scipy.stats.chi2_contingency](https://docs.scipy.org/doc/scipy/reference/generated/scipy.stats.chi2_contingency.html). chi2_contingency automatically computes the expected values from the chi square table, so you don't have to. The entire output can be captured in 4 variables: **chi square number, p-value, degrees of freedom and the array itself.** chi2_contingency works with n-dimensional contingency tables. This is what we need!"
      ]
    },
    {
      "cell_type": "code",
      "metadata": {
        "id": "O8bM1wgln0Zl",
        "colab": {
          "base_uri": "https://localhost:8080/"
        },
        "outputId": "92a45a64-c8af-4e10-d1e5-0eb442b4fd72"
      },
      "source": [
        "# Note that pd.crosstab establishes the two-way table\n",
        "# We can even use a print command to format the output:\n",
        "chi2, p, dof, expected = chi2_contingency((pd.crosstab(adult.nativecountry, adult.occupation).values))\n",
        "print (f'Chi-square Statistic: {chi2} ,p-value: {p}, Degrees of Freedom: {dof}') #expected: {expected}"
      ],
      "execution_count": 9,
      "outputs": [
        {
          "output_type": "stream",
          "name": "stdout",
          "text": [
            "Chi-square Statistic: 2437.2965238719535 ,p-value: 3.056006193732551e-227, Degrees of Freedom: 574\n"
          ]
        }
      ]
    },
    {
      "cell_type": "markdown",
      "source": [
        "###Your Turn\n",
        "\n",
        "Calculate the Chi Square relationship between sex and occupation in the adult dataset. Is occupational status dependent on, or independent from, sex?"
      ],
      "metadata": {
        "id": "F6O5b5EuO9IU"
      }
    },
    {
      "cell_type": "code",
      "source": [
        "chi2, p, dof, expected = chi2_contingency((pd.crosstab(adult.sex, adult.occupation).values))\n",
        "print (f'Chi-square Statistic: {chi2} ,p-value: {p}, Degrees of Freedom: {dof}')\n",
        "#according to these results occupation is dependent on gender, the variables are related / bound to some degree"
      ],
      "metadata": {
        "id": "xraZbXJEPQRz",
        "colab": {
          "base_uri": "https://localhost:8080/"
        },
        "outputId": "8638c079-007c-4906-c986-7dca8ba1d191"
      },
      "execution_count": 11,
      "outputs": [
        {
          "output_type": "stream",
          "name": "stdout",
          "text": [
            "Chi-square Statistic: 5863.7547861768935 ,p-value: 0.0, Degrees of Freedom: 14\n"
          ]
        }
      ]
    },
    {
      "cell_type": "markdown",
      "metadata": {
        "id": "8Q0_rPKnn0Zp"
      },
      "source": [
        "# **3. Covariance and Correlation**\n",
        "Covariance is, essentially, the little brother of correlation. The goal for both calculations/ algorithms (about time we used that term, isn't it?) is to determine if two variables are tightly enough connected that we can detect a pattern to their changes. In other words, we want to see if, when one variable changes, the other variable changes as well, in a predictable fashion. \n",
        "\n",
        "More about Correlation and Covariance in the video below\n"
      ]
    },
    {
      "cell_type": "code",
      "metadata": {
        "colab": {
          "base_uri": "https://localhost:8080/",
          "height": 335
        },
        "id": "dN_3QPijvcDo",
        "outputId": "48ab06ba-ff34-4a12-ea8b-49098f4fab48"
      },
      "source": [
        "HTML('<iframe width=\"560\" height=\"315\" src=\"https://www.youtube.com/embed/mwZbt11azGo\" title=\"YouTube video player\" frameborder=\"0\" allow=\"accelerometer; autoplay; clipboard-write; encrypted-media; gyroscope; picture-in-picture\" allowfullscreen></iframe>')"
      ],
      "execution_count": null,
      "outputs": [
        {
          "output_type": "execute_result",
          "data": {
            "text/html": [
              "<iframe width=\"560\" height=\"315\" src=\"https://www.youtube.com/embed/mwZbt11azGo\" title=\"YouTube video player\" frameborder=\"0\" allow=\"accelerometer; autoplay; clipboard-write; encrypted-media; gyroscope; picture-in-picture\" allowfullscreen></iframe>"
            ],
            "text/plain": [
              "<IPython.core.display.HTML object>"
            ]
          },
          "metadata": {
            "tags": []
          },
          "execution_count": 26
        }
      ]
    },
    {
      "cell_type": "markdown",
      "metadata": {
        "id": "THFHGWfom3ko"
      },
      "source": [
        "##**3.1 Covariance**\n",
        "Covariance indicates the relationship of two variables whenever one variable changes. If an **increase** in one variable results in an **increase** in the other variable, both variables are said to have a positive covariance (the same is two if both variables decrease), which show up as a positive number. If an increase in one variable causes a decrease in the other, that is a negative covariance, i.e. an inverse relationships, which is indicated by a negative number.\n",
        "\n",
        "Since covariance uses only numeric attributes, we can get np.cov() to work easily with educationyears and incomeUSD. For that purpose, we will use np.cov(). \n",
        "\n",
        "Note that, by default np.cov calculates the **SAMPLE** covariance. To get the **POPULATION** covariance, I had to set the Degrees of Freedom to 0. Or, as shown below, you can set bias to True. If you omit bias, you will calculate the SAMPLE variance."
      ]
    },
    {
      "cell_type": "code",
      "metadata": {
        "id": "Up724smTn0Zp",
        "colab": {
          "base_uri": "https://localhost:8080/"
        },
        "outputId": "78c9d950-f209-4456-8b05-a064b81d175b"
      },
      "source": [
        "# SAMPLE covariance assumes that degrees of freedom, i.e. ddof=1\n",
        "#sample n-1\n",
        "np.cov([adult.educationyears],[adult.incomeUSD])[0][1]"
      ],
      "execution_count": 14,
      "outputs": [
        {
          "output_type": "execute_result",
          "data": {
            "text/plain": [
              "33078.30227761132"
            ]
          },
          "metadata": {},
          "execution_count": 14
        }
      ]
    },
    {
      "cell_type": "code",
      "metadata": {
        "id": "U2lxA2Y2n0Zs",
        "colab": {
          "base_uri": "https://localhost:8080/"
        },
        "outputId": "bbda0105-58ba-4948-d84d-515fe3eb6446"
      },
      "source": [
        "# POPULATION covariance can be calculated by setting ddof=0\n",
        "#pop n by setting ddof=0\n",
        "np.cov([adult.educationyears],[adult.incomeUSD], ddof=0)[0][1]"
      ],
      "execution_count": 15,
      "outputs": [
        {
          "output_type": "execute_result",
          "data": {
            "text/plain": [
              "33077.28639043717"
            ]
          },
          "metadata": {},
          "execution_count": 15
        }
      ]
    },
    {
      "cell_type": "code",
      "metadata": {
        "id": "4KFfvVBQn0Zv",
        "colab": {
          "base_uri": "https://localhost:8080/"
        },
        "outputId": "a670a6c3-4a90-431f-aead-924a478d91cc"
      },
      "source": [
        "# POPULATION covariance with bias=True setting\n",
        "#pop n because bias=True (omitted turns it into a sample)\n",
        "np.cov([adult.educationyears],[adult.incomeUSD], bias=True)[0][1]"
      ],
      "execution_count": 18,
      "outputs": [
        {
          "output_type": "execute_result",
          "data": {
            "text/plain": [
              "33077.28639043717"
            ]
          },
          "metadata": {},
          "execution_count": 18
        }
      ]
    },
    {
      "cell_type": "code",
      "metadata": {
        "id": "yqNvuNWJn0Z0",
        "colab": {
          "base_uri": "https://localhost:8080/"
        },
        "outputId": "30722f86-a383-4cf4-b876-2f5ca6bb416e"
      },
      "source": [
        "# SAMPLE covariance omitting bias=True setting\n",
        "#no bias, and no ddof=0 returns to sample, ie n-1\n",
        "np.cov([adult.educationyears],[adult.incomeUSD])[0][1]"
      ],
      "execution_count": 17,
      "outputs": [
        {
          "output_type": "execute_result",
          "data": {
            "text/plain": [
              "33078.30227761132"
            ]
          },
          "metadata": {},
          "execution_count": 17
        }
      ]
    },
    {
      "cell_type": "markdown",
      "metadata": {
        "id": "jM4LisuT5FKB"
      },
      "source": [
        "So, what do all these numbers mean? \n",
        "\n",
        "Take the last one here: If the years of education increase by 1, the income in USD increases by $33,078. As you can see, the bias setting does not make much of a difference with smaller numbers. With larger numbers, that is a very different ballgame."
      ]
    },
    {
      "cell_type": "markdown",
      "metadata": {
        "id": "1TJ68YaJ635T"
      },
      "source": [
        "## Your Turn\n",
        "Now, calculate the covariance between age and incomeUSD for the POPULATION (remember the bias setting!). Use the code line below."
      ]
    },
    {
      "cell_type": "code",
      "metadata": {
        "id": "j-xzhIxr7LTh",
        "colab": {
          "base_uri": "https://localhost:8080/"
        },
        "outputId": "1c29560f-a509-4745-8b1f-025b999b1fa9"
      },
      "source": [
        "np.cov([adult.age], [adult.incomeUSD], bias=True)[0][1]\n",
        "\n",
        "\n",
        "# 3.1 Covariance between age and incomeUSD for the POPULATION (remember the bias setting!).\n",
        "#age_income_cov = np.cov([adult.age],[adult.incomeUSD])[0][1]\n",
        "#print(\"The covariance between age and incomeUSD is:\", age_income_cov)\n",
        "#print(\"This means that if age increases by 1, the income increases by $\", age_income_cov)"
      ],
      "execution_count": 19,
      "outputs": [
        {
          "output_type": "execute_result",
          "data": {
            "text/plain": [
              "119956.87628729304"
            ]
          },
          "metadata": {},
          "execution_count": 19
        }
      ]
    },
    {
      "cell_type": "code",
      "source": [
        "np.cov([adult.age], [adult.incomeUSD], ddof=0)[0][1]"
      ],
      "metadata": {
        "colab": {
          "base_uri": "https://localhost:8080/"
        },
        "id": "j0URVboE-Vom",
        "outputId": "2be69964-f9e7-4909-bee4-6447f080c2bc"
      },
      "execution_count": 20,
      "outputs": [
        {
          "output_type": "execute_result",
          "data": {
            "text/plain": [
              "119956.87628729304"
            ]
          },
          "metadata": {},
          "execution_count": 20
        }
      ]
    },
    {
      "cell_type": "markdown",
      "metadata": {
        "id": "9Qp6nTuJn0Z2"
      },
      "source": [
        "## **3.2 Correlation**\n",
        "\n",
        "As with Chi Square and Covariance, there are numerous ways to calculate the Pearson Correlation Coefficient. The most efficient and elegant way to do this is using the corr() function in pandas. This function can also handle multiple correlations and will, in fact, produce a table with the R-squared values. NOTE that all inputs must be numeric!\n",
        "\n",
        "If correlation (i.e. the Pearson Correlation Coefficient) is between -1 and 0, then the attributes are negatively correlated (as one grows, another one falls). If correlation is between 0 and +1, then the attributes are positively correlated (both move in the same direction). The correlation coefficient is typically called r.\n",
        "\n",
        "Check out the graphic below to see what the different values of r look like.\n",
        "\n",
        "<img src = 'https://media.nagwa.com/359143010784/en/thumbnail_l.jpeg'>"
      ]
    },
    {
      "cell_type": "markdown",
      "metadata": {
        "id": "4gVAtDLyKJT1"
      },
      "source": [
        "Now on to our task!"
      ]
    },
    {
      "cell_type": "code",
      "metadata": {
        "id": "erJ8ISQNn0Z3",
        "colab": {
          "base_uri": "https://localhost:8080/"
        },
        "outputId": "9f5557ff-84ba-4b67-af9b-32bfdbe03ce7"
      },
      "source": [
        "# We first want to see if educationyears and incomeUSD are correlated. So, we pass both arrays into the function:\n",
        "corr_edUSD = adult['educationyears'].corr(adult['incomeUSD'])\n",
        "corr_edUSD"
      ],
      "execution_count": 21,
      "outputs": [
        {
          "output_type": "execute_result",
          "data": {
            "text/plain": [
              "0.2897451914344839"
            ]
          },
          "metadata": {},
          "execution_count": 21
        }
      ]
    },
    {
      "cell_type": "code",
      "metadata": {
        "id": "yEtEFd1cn0Z5",
        "colab": {
          "base_uri": "https://localhost:8080/",
          "height": 472
        },
        "outputId": "5157fcba-40aa-4f32-e344-c921c633ee59"
      },
      "source": [
        "# We can now plot this with pyplot\n",
        "plt.scatter(adult['educationyears'], adult['incomeUSD'], alpha=0.5)\n",
        "plt.title('Scatter plot educationyears vs. incomeUSD')\n",
        "plt.xlabel('educationyears')\n",
        "plt.ylabel('incomeUSD')\n",
        "plt.show()"
      ],
      "execution_count": 22,
      "outputs": [
        {
          "output_type": "display_data",
          "data": {
            "text/plain": [
              "<Figure size 640x480 with 1 Axes>"
            ],
            "image/png": "[encoded data removed]"
          },
          "metadata": {}
        }
      ]
    },
    {
      "cell_type": "code",
      "metadata": {
        "id": "QdE_xhAkn0Z7",
        "colab": {
          "base_uri": "https://localhost:8080/",
          "height": 230
        },
        "outputId": "f02e3674-4f4f-449d-f713-7ee40ad59127"
      },
      "source": [
        "# The power of the corr() function lies in its ability to handle multiple dimensions at the same time:\n",
        "corr = adult.corr()\n",
        "corr"
      ],
      "execution_count": 23,
      "outputs": [
        {
          "output_type": "stream",
          "name": "stderr",
          "text": [
            "<ipython-input-23-e825b078d3c0>:2: FutureWarning: The default value of numeric_only in DataFrame.corr is deprecated. In a future version, it will default to False. Select only valid columns or specify the value of numeric_only to silence this warning.\n",
            "  corr = adult.corr()\n"
          ]
        },
        {
          "output_type": "execute_result",
          "data": {
            "text/plain": [
              "                     age  educationyears  hoursperweek  incomeUSD\n",
              "age             1.000000        0.036527      0.068756   0.198187\n",
              "educationyears  0.036527        1.000000      0.148123   0.289745\n",
              "hoursperweek    0.068756        0.148123      1.000000   0.201811\n",
              "incomeUSD       0.198187        0.289745      0.201811   1.000000"
            ],
            "text/html": [
              "\n",
              "  <div id=\"df-af976c51-6f6b-46b7-a0ae-d3265c16a52e\">\n",
              "    <div class=\"colab-df-container\">\n",
              "      <div>\n",
              "<style scoped>\n",
              "    .dataframe tbody tr th:only-of-type {\n",
              "        vertical-align: middle;\n",
              "    }\n",
              "\n",
              "    .dataframe tbody tr th {\n",
              "        vertical-align: top;\n",
              "    }\n",
              "\n",
              "    .dataframe thead th {\n",
              "        text-align: right;\n",
              "    }\n",
              "</style>\n",
              "<table border=\"1\" class=\"dataframe\">\n",
              "  <thead>\n",
              "    <tr style=\"text-align: right;\">\n",
              "      <th></th>\n",
              "      <th>age</th>\n",
              "      <th>educationyears</th>\n",
              "      <th>hoursperweek</th>\n",
              "      <th>incomeUSD</th>\n",
              "    </tr>\n",
              "  </thead>\n",
              "  <tbody>\n",
              "    <tr>\n",
              "      <th>age</th>\n",
              "      <td>1.000000</td>\n",
              "      <td>0.036527</td>\n",
              "      <td>0.068756</td>\n",
              "      <td>0.198187</td>\n",
              "    </tr>\n",
              "    <tr>\n",
              "      <th>educationyears</th>\n",
              "      <td>0.036527</td>\n",
              "      <td>1.000000</td>\n",
              "      <td>0.148123</td>\n",
              "      <td>0.289745</td>\n",
              "    </tr>\n",
              "    <tr>\n",
              "      <th>hoursperweek</th>\n",
              "      <td>0.068756</td>\n",
              "      <td>0.148123</td>\n",
              "      <td>1.000000</td>\n",
              "      <td>0.201811</td>\n",
              "    </tr>\n",
              "    <tr>\n",
              "      <th>incomeUSD</th>\n",
              "      <td>0.198187</td>\n",
              "      <td>0.289745</td>\n",
              "      <td>0.201811</td>\n",
              "      <td>1.000000</td>\n",
              "    </tr>\n",
              "  </tbody>\n",
              "</table>\n",
              "</div>\n",
              "      <button class=\"colab-df-convert\" onclick=\"convertToInteractive('df-af976c51-6f6b-46b7-a0ae-d3265c16a52e')\"\n",
              "              title=\"Convert this dataframe to an interactive table.\"\n",
              "              style=\"display:none;\">\n",
              "        \n",
              "  <svg xmlns=\"http://www.w3.org/2000/svg\" height=\"24px\"viewBox=\"0 0 24 24\"\n",
              "       width=\"24px\">\n",
              "    <path d=\"M0 0h24v24H0V0z\" fill=\"none\"/>\n",
              "    <path d=\"M18.56 5.44l.94 2.06.94-2.06 2.06-.94-2.06-.94-.94-2.06-.94 2.06-2.06.94zm-11 1L8.5 8.5l.94-2.06 2.06-.94-2.06-.94L8.5 2.5l-.94 2.06-2.06.94zm10 10l.94 2.06.94-2.06 2.06-.94-2.06-.94-.94-2.06-.94 2.06-2.06.94z\"/><path d=\"M17.41 7.96l-1.37-1.37c-.4-.4-.92-.59-1.43-.59-.52 0-1.04.2-1.43.59L10.3 9.45l-7.72 7.72c-.78.78-.78 2.05 0 2.83L4 21.41c.39.39.9.59 1.41.59.51 0 1.02-.2 1.41-.59l7.78-7.78 2.81-2.81c.8-.78.8-2.07 0-2.86zM5.41 20L4 18.59l7.72-7.72 1.47 1.35L5.41 20z\"/>\n",
              "  </svg>\n",
              "      </button>\n",
              "      \n",
              "  <style>\n",
              "    .colab-df-container {\n",
              "      display:flex;\n",
              "      flex-wrap:wrap;\n",
              "      gap: 12px;\n",
              "    }\n",
              "\n",
              "    .colab-df-convert {\n",
              "      background-color: #E8F0FE;\n",
              "      border: none;\n",
              "      border-radius: 50%;\n",
              "      cursor: pointer;\n",
              "      display: none;\n",
              "      fill: #1967D2;\n",
              "      height: 32px;\n",
              "      padding: 0 0 0 0;\n",
              "      width: 32px;\n",
              "    }\n",
              "\n",
              "    .colab-df-convert:hover {\n",
              "      background-color: #E2EBFA;\n",
              "      box-shadow: 0px 1px 2px rgba(60, 64, 67, 0.3), 0px 1px 3px 1px rgba(60, 64, 67, 0.15);\n",
              "      fill: #174EA6;\n",
              "    }\n",
              "\n",
              "    [theme=dark] .colab-df-convert {\n",
              "      background-color: #3B4455;\n",
              "      fill: #D2E3FC;\n",
              "    }\n",
              "\n",
              "    [theme=dark] .colab-df-convert:hover {\n",
              "      background-color: #434B5C;\n",
              "      box-shadow: 0px 1px 3px 1px rgba(0, 0, 0, 0.15);\n",
              "      filter: drop-shadow(0px 1px 2px rgba(0, 0, 0, 0.3));\n",
              "      fill: #FFFFFF;\n",
              "    }\n",
              "  </style>\n",
              "\n",
              "      <script>\n",
              "        const buttonEl =\n",
              "          document.querySelector('#df-af976c51-6f6b-46b7-a0ae-d3265c16a52e button.colab-df-convert');\n",
              "        buttonEl.style.display =\n",
              "          google.colab.kernel.accessAllowed ? 'block' : 'none';\n",
              "\n",
              "        async function convertToInteractive(key) {\n",
              "          const element = document.querySelector('#df-af976c51-6f6b-46b7-a0ae-d3265c16a52e');\n",
              "          const dataTable =\n",
              "            await google.colab.kernel.invokeFunction('convertToInteractive',\n",
              "                                                     [key], {});\n",
              "          if (!dataTable) return;\n",
              "\n",
              "          const docLinkHtml = 'Like what you see? Visit the ' +\n",
              "            '<a target=\"_blank\" href=https://colab.research.google.com/notebooks/data_table.ipynb>data table notebook</a>'\n",
              "            + ' to learn more about interactive tables.';\n",
              "          element.innerHTML = '';\n",
              "          dataTable['output_type'] = 'display_data';\n",
              "          await google.colab.output.renderOutput(dataTable, element);\n",
              "          const docLink = document.createElement('div');\n",
              "          docLink.innerHTML = docLinkHtml;\n",
              "          element.appendChild(docLink);\n",
              "        }\n",
              "      </script>\n",
              "    </div>\n",
              "  </div>\n",
              "  "
            ]
          },
          "metadata": {},
          "execution_count": 23
        }
      ]
    },
    {
      "cell_type": "code",
      "metadata": {
        "id": "pIsXk8H_n0Z_",
        "colab": {
          "base_uri": "https://localhost:8080/",
          "height": 532
        },
        "outputId": "9b49310a-cfd3-489b-f68e-707676d4d7db"
      },
      "source": [
        "# Now we can make a pretty correlation heatmap with pyplot\n",
        "fig = plt.figure()\n",
        "ax = fig.add_subplot(111)\n",
        "cax = ax.matshow(corr,cmap='coolwarm', vmin=-1, vmax=1)\n",
        "fig.colorbar(cax)\n",
        "ticks = np.arange(0,len(corr.columns),1)\n",
        "ax.set_xticks(ticks)\n",
        "plt.xticks(rotation=90)\n",
        "ax.set_yticks(ticks)\n",
        "ax.set_xticklabels(corr.columns)\n",
        "ax.set_yticklabels(corr.columns)\n",
        "plt.show()"
      ],
      "execution_count": 24,
      "outputs": [
        {
          "output_type": "display_data",
          "data": {
            "text/plain": [
              "<Figure size 640x480 with 2 Axes>"
            ],
            "image/png": "[encoded data removed]"
          },
          "metadata": {}
        }
      ]
    },
    {
      "cell_type": "markdown",
      "metadata": {
        "id": "uyJGWLzFn0aC"
      },
      "source": [
        "In the examples above, we see the most frequently used Pearson Correlation in action. The corr() function allows us to work with other kinds of correlations, as well, including the Spearman correlation. \n",
        "For some great examples, take a look at this website: https://www.datascience.com/learn-data-science/fundamentals/introduction-to-correlation-python-data-science"
      ]
    },
    {
      "cell_type": "markdown",
      "metadata": {
        "id": "_H2wvPHOKb6v"
      },
      "source": [
        "##Your Turn\n",
        "Now, calculate the following:\n",
        "1. The COVARIANCE between hoursperweek and incomeUSD"
      ]
    },
    {
      "cell_type": "code",
      "metadata": {
        "id": "gHA-KvfRKrac",
        "colab": {
          "base_uri": "https://localhost:8080/"
        },
        "outputId": "02fac250-ec4e-4241-c888-ee3e2f7cbf7d"
      },
      "source": [
        "np.cov([adult.hoursperweek], [adult.incomeUSD], bias=True)[0][1]"
      ],
      "execution_count": 25,
      "outputs": [
        {
          "output_type": "execute_result",
          "data": {
            "text/plain": [
              "110571.17210910573"
            ]
          },
          "metadata": {},
          "execution_count": 25
        }
      ]
    },
    {
      "cell_type": "markdown",
      "metadata": {
        "id": "pCIaMU87Kr20"
      },
      "source": [
        "2. The CORRELATION between hoursperweek and incomeUSD"
      ]
    },
    {
      "cell_type": "code",
      "metadata": {
        "id": "7zd35pTpKwGI",
        "colab": {
          "base_uri": "https://localhost:8080/"
        },
        "outputId": "569ef3fc-1d25-4e8c-a4b4-572a9ceb201b"
      },
      "source": [
        "corr_hours_inc = adult['hoursperweek'].corr(adult['incomeUSD'])\n",
        "corr_hours_inc"
      ],
      "execution_count": 26,
      "outputs": [
        {
          "output_type": "execute_result",
          "data": {
            "text/plain": [
              "0.20181076535133524"
            ]
          },
          "metadata": {},
          "execution_count": 26
        }
      ]
    },
    {
      "cell_type": "markdown",
      "metadata": {
        "id": "s1mOvWU2Kwdk"
      },
      "source": [
        "Can you explain how the two numbers are related?"
      ]
    },
    {
      "cell_type": "markdown",
      "source": [
        "#**4. Solutions**\n",
        "\n",
        "Below are the solutions to the Your Turn exercises."
      ],
      "metadata": {
        "id": "mybIoBG2I-5T"
      }
    },
    {
      "cell_type": "code",
      "source": [
        "# 1.1 Euclidean Distance\n",
        "\n",
        "point3 = np.array((adult.educationyears))\n",
        "point4 = np.array((adult.incomeUSD))\n",
        "\n",
        "# Using linalg\n",
        "dist1 = np.linalg.norm(point3 - point4)\n",
        "\n",
        "# Using dot product\n",
        "temp = point3 - point4\n",
        "sum_sq1 = np.dot(temp.T, temp)\n",
        "\n",
        "# Printing Euclidean distance\n",
        "print(\"(LINALG CALCULATION) Euclidean distance between educationyears and incomeUSD is:\", dist1)\n",
        "print(\"(DOT PRODUCT) Euclidean distance between our two arrays is:\",np.sqrt(sum_sq1))\n",
        "print(\"Previously calculated Euclidean distance between age and incomeUSD was:\", dist)"
      ],
      "metadata": {
        "colab": {
          "base_uri": "https://localhost:8080/"
        },
        "id": "fKaSAxk3JHUy",
        "outputId": "46d69659-719b-4a21-fd4e-c211790ac4cd"
      },
      "execution_count": null,
      "outputs": [
        {
          "output_type": "stream",
          "name": "stdout",
          "text": [
            "(LINALG CALCULATION) Euclidean distance between educationyears and incomeUSD is: 12974071.632952549\n",
            "(DOT PRODUCT) Euclidean distance between our two arrays is: 12974071.632952549\n",
            "Previously calculated Euclidean distance between age and incomeUSD was: 11.180339887498949\n"
          ]
        }
      ]
    },
    {
      "cell_type": "code",
      "source": [
        "# 1.2 Manhattan Distance\n",
        "\n",
        "point5 = np.array((adult.educationyears))\n",
        "point6 = np.array((adult.incomeUSD))\n",
        "\n",
        "print(\"Manhattan Distance between educationyears and incomeUSD:\", dist.cityblock(point5,point6))\n",
        "print(\"Previously calculated Manhattan distance between age and incomeUSD was:\", dist.cityblock(point1,point2))"
      ],
      "metadata": {
        "colab": {
          "base_uri": "https://localhost:8080/"
        },
        "id": "fxyIClyyKSPk",
        "outputId": "1285578d-1aa0-480f-8c42-62842d651f1f"
      },
      "execution_count": null,
      "outputs": [
        {
          "output_type": "stream",
          "name": "stdout",
          "text": [
            "Manhattan Distance between educationyears and incomeUSD: 1842100150\n",
            "Previously calculated Manhattan distance between age and incomeUSD was: 1841172130\n"
          ]
        }
      ]
    },
    {
      "cell_type": "code",
      "source": [
        "# 1.3 Cosine Similarity between educationyears and incomeUSD\n",
        "\n",
        "# METHOD 1: Final computation for the dot product part\n",
        "angle_in_radians4 = math.acos(cos4)\n",
        "degrees4 = math.degrees(angle_in_radians4)\n",
        " \n",
        "print(\"Dot Product Computation Result:\", cos4, angle_in_radians4, degrees4)\n",
        "\n",
        "# METHOD 2: Using the COSINE_SIMILARITY FUNCTION from sklearn.metrics\n",
        "\n",
        "x = np.array((adult.educationyears))\n",
        "y = np.array((adult.incomeUSD))\n",
        "\n",
        "xx = x.reshape(1,32561) # we have 32561 values in our array\n",
        "yy = y.reshape(1,32561) # we have 32561 values in our array\n",
        "cos6 = cosine_similarity(xx, yy)\n",
        "\n",
        "# Now we need to convert the angle to radians to get the degrees\n",
        "angle_in_radians6 = math.acos(cos6)\n",
        "degrees6 = math.degrees(angle_in_radians6)\n",
        " \n",
        "print(\"sklearn.metrics Result:\", cos6, angle_in_radians6, degrees6)"
      ],
      "metadata": {
        "colab": {
          "base_uri": "https://localhost:8080/"
        },
        "id": "KHxONF6YLk48",
        "outputId": "223fa2fd-d354-4be8-bc8a-71a2881d2bcc"
      },
      "execution_count": null,
      "outputs": [
        {
          "output_type": "stream",
          "name": "stdout",
          "text": [
            "Dot Product Computation Result: 0.8066671273202539 0.6323054348402 36.228432779527736\n",
            "sklearn.metrics Result: [[0.80666713]] 0.6323054348402 36.228432779527736\n"
          ]
        }
      ]
    },
    {
      "cell_type": "code",
      "source": [
        "# 2. Chi Square relationship between sex and occupation in the adult dataset. Is occupational status dependent on, or independent from, sex?\n",
        "\n",
        "chi2, p, dof, expected = chi2_contingency((pd.crosstab(adult.sex, adult.occupation).values))\n",
        "print (f'Chi-square Statistic: {chi2} ,p-value: {p}, Degrees of Freedom: {dof}')\n",
        "print (\"Look for the p value--if it is < 0.05, we cannot assume that the two variables are independent from each other; they must be dependent.\")"
      ],
      "metadata": {
        "colab": {
          "base_uri": "https://localhost:8080/"
        },
        "id": "q1aiyJS_Sv3k",
        "outputId": "23b511be-30e1-4274-d1fd-353a4fd4c3b2"
      },
      "execution_count": 12,
      "outputs": [
        {
          "output_type": "stream",
          "name": "stdout",
          "text": [
            "Chi-square Statistic: 5863.7547861768935 ,p-value: 0.0, Degrees of Freedom: 14\n",
            "Look for the p value--if it is < 0.05, we cannot assume that the two variables are independent from each other; they must be dependent.\n"
          ]
        }
      ]
    },
    {
      "cell_type": "code",
      "source": [
        "# 3.1 Covariance between age and incomeUSD for the POPULATION (remember the bias setting!).\n",
        "####I BELIEVE THERE IS AN ERROR IN THIS ANSWER, GIVEN THE DIRECTIONS CONTRADICT IT####\n",
        "age_income_cov = np.cov([adult.age],[adult.incomeUSD])[0][1]\n",
        "print(\"The covariance between age and incomeUSD is:\", age_income_cov)\n",
        "print(\"This means that if age increases by 1, the income increases by $\", age_income_cov)\n",
        "\n",
        "# 3.2 Correlation \n",
        "\n",
        "# COVARIANCE between hoursperweek and incomeUSD\n",
        "hrs_income_cov = np.cov([adult.hoursperweek],[adult.incomeUSD])[0][1]\n",
        "print(\"The covariance between age and incomeUSD is:\", hrs_income_cov)\n",
        "print(\"This means that if hoursperweek increases by 1, the income increases by $\", hrs_income_cov)\n",
        "\n",
        "# CORRELATION between hoursperweek and incomeUSD\n",
        "corr_hrsUSD = adult['hoursperweek'].corr(adult['incomeUSD'])\n",
        "print(\"The correlation between hoursperweek and incomeUSD is:\", corr_hrsUSD)\n",
        "\n",
        "plt.scatter(adult['hoursperweek'], adult['incomeUSD'], alpha=0.5)\n",
        "plt.title('Scatter plot hoursperweek vs. incomeUSD')\n",
        "plt.xlabel('hoursperweek')\n",
        "plt.ylabel('incomeUSD')\n",
        "plt.show()"
      ],
      "metadata": {
        "colab": {
          "base_uri": "https://localhost:8080/",
          "height": 559
        },
        "id": "mxjK6fA0TcmE",
        "outputId": "ec223921-a08e-46a3-ed90-82381f44eaca"
      },
      "execution_count": 28,
      "outputs": [
        {
          "output_type": "stream",
          "name": "stdout",
          "text": [
            "The covariance between age and incomeUSD is: 119960.56046654019\n",
            "This means that if age increases by 1, the income increases by $ 119960.56046654019\n",
            "The covariance between age and incomeUSD is: 110574.56802962505\n",
            "This means that if hoursperweek increases by 1, the income increases by $ 110574.56802962505\n",
            "The correlation between hoursperweek and incomeUSD is: 0.20181076535133524\n"
          ]
        },
        {
          "output_type": "display_data",
          "data": {
            "text/plain": [
              "<Figure size 640x480 with 1 Axes>"
            ],
            "image/png": "[encoded data removed]"
          },
          "metadata": {}
        }
      ]
    }
  ]
}