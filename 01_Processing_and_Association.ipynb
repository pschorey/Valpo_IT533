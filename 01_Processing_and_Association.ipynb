{
  "nbformat": 4,
  "nbformat_minor": 0,
  "metadata": {
    "colab": {
      "provenance": [],
      "authorship_tag": "ABX9TyOyRJOQgUsvvGylLuGm9vv6",
      "include_colab_link": true
    },
    "kernelspec": {
      "name": "python3",
      "display_name": "Python 3"
    },
    "language_info": {
      "name": "python"
    }
  },
  "cells": [
    {
      "cell_type": "markdown",
      "metadata": {
        "id": "view-in-github",
        "colab_type": "text"
      },
      "source": [
        "<a href=\"https://colab.research.google.com/github/pschorey/Valpo_IT533/blob/main/01_Processing_and_Association.ipynb\" target=\"_parent\"><img src=\"https://colab.research.google.com/assets/colab-badge.svg\" alt=\"Open In Colab\"/></a>"
      ]
    },
    {
      "cell_type": "markdown",
      "source": [
        "# Pedagogy Lab 1 (Data Processing and Association)\n",
        "\n",
        ">You will be working with the [STEAM Games dataset](https://raw.githubusercontent.com/shstreuber/Data-Mining/master/data/steam_games.csv) (a cleaned and modified subset of this dataset on [Kaggle](https://www.kaggle.com/datasets/tristan581/all-55000-games-on-steam-november-2022?resource=download&select=steam_games.csv). This is a PARTIAL inventory of the online PC gaming store STEAM. Parts of it were collected on the 8th of November 2022, using the STEAM store API as well as the API of another website, steamspy.com. It contains useful information, such as the products genre, tags, categories, languages and other information.\n",
        ">\n",
        "> The features of this dataset are\n",
        "* AppID: ID of product as allocated by Steam.\n",
        "* Name: Product name\n",
        "* Developer: Whoever created the product.\n",
        "* Publisher: Whoever published the product.\n",
        "* Genre: The genre(s) that the product is in.\n",
        "* Categories: The categories/features that the product has.\n",
        "* Owners: An approximate number of owners, according to Steam Spy.\n",
        "* Positive_Reviews: The number of positive reviews the product has.\n",
        "* Negative_Reviews: The number of negativereviews the product has.\n",
        "* Price_\\$: The price of the game in USD.\n",
        "* Initial_Price_$: The price of the game in USD at launch.\n",
        "* Discount_%: What percentage sale the product was off by as of 2022/11/8.\n",
        "* Peak_Concurrent_Players: Peak concurrent players as of 2022/11/8.\n",
        "* Platforms: What operating systems the product is available on.\n",
        "* Release Date: When the product was first released.\n",
        "* Required Age: Whether the user needs to be over a certain age to legally purchase (0 = no restrictions)\n",
        "* Avg_Rating_5: Average rating from 1 to 5 stars\n",
        "* Playability_index_10: Average playability index on a scale from 1-10\n",
        "\n",
        "* Source: Professor Sonja Streuber 2023S1R-IT-533-STEM:Data Mining and Applications"
      ],
      "metadata": {
        "id": "Cp2bsSDwqcZn"
      }
    },
    {
      "cell_type": "code",
      "execution_count": 1,
      "metadata": {
        "id": "MFBCEMb6pDdy"
      },
      "outputs": [],
      "source": [
        "import numpy as np\n",
        "import pandas as pd \n",
        "import matplotlib.pyplot as plt\n",
        "import math\n",
        "from math import acos, degrees\n",
        "from scipy import spatial\n",
        "from scipy.stats import chisquare\n",
        "from scipy.stats import chi2_contingency\n",
        "from sklearn.metrics.pairwise import cosine_similarity\n",
        "import scipy.spatial.distance as dist #used for Manhattan dist\n",
        "\n",
        "steam = pd.read_csv(\"https://raw.githubusercontent.com/pschorey/Valpo_IT533/main/steam_games_short.csv\")\n"
      ]
    },
    {
      "cell_type": "markdown",
      "source": [
        "# Inspect the data\n"
      ],
      "metadata": {
        "id": "BnbYsh2c4kKT"
      }
    },
    {
      "cell_type": "code",
      "source": [
        "steam.head()"
      ],
      "metadata": {
        "id": "-MxgpgJPEt-a",
        "colab": {
          "base_uri": "https://localhost:8080/",
          "height": 583
        },
        "outputId": "5050612f-4058-4dc5-ebde-cf105d67f98c"
      },
      "execution_count": 2,
      "outputs": [
        {
          "output_type": "execute_result",
          "data": {
            "text/plain": [
              "   AppID                       Name         Developer Publisher   Genre  \\\n",
              "0     10             Counter-Strike             Valve     Valve  Action   \n",
              "1     20      Team Fortress Classic             Valve     Valve  Action   \n",
              "2     30              Day of Defeat             Valve     Valve  Action   \n",
              "3     40         Deathmatch Classic             Valve     Valve  Action   \n",
              "4     50  Half-Life: Opposing Force  Gearbox Software     Valve  Action   \n",
              "\n",
              "                                          Categories  \\\n",
              "0  Multi-player, Valve Anti-Cheat enabled, Online...   \n",
              "1  Multi-player, Valve Anti-Cheat enabled, Online...   \n",
              "2             Multi-player, Valve Anti-Cheat enabled   \n",
              "3  Multi-player, Valve Anti-Cheat enabled, Online...   \n",
              "4  Multi-player, Single-player, Valve Anti-Cheat ...   \n",
              "\n",
              "                     Owners  Positive_Reviews  Negative_Reviews  Price_USD  \\\n",
              "0  10,000,000 .. 20,000,000            201215              5199       9.99   \n",
              "1    1,000,000 .. 2,000,000              5835               934       4.99   \n",
              "2   5,000,000 .. 10,000,000              5251               569       4.99   \n",
              "3   5,000,000 .. 10,000,000              1961               437       4.99   \n",
              "4   5,000,000 .. 10,000,000             14887               756       4.99   \n",
              "\n",
              "   Initial_Price_USD  Discount_Percent  Peak_Concurrent_Players  \\\n",
              "0               9.99                 0                    13990   \n",
              "1               4.99                 0                      101   \n",
              "2               4.99                 0                      142   \n",
              "3               4.99                 0                        3   \n",
              "4               4.99                 0                      106   \n",
              "\n",
              "             Platforms Release_Date  Required_Age  Avg_Rating_5  \\\n",
              "0  windows, mac, linux    11/1/2000             0          3.87   \n",
              "1  windows, mac, linux     4/1/1999             0          3.92   \n",
              "2  windows, mac, linux     5/1/2003             0          4.90   \n",
              "3  windows, mac, linux     6/1/2001             0          4.69   \n",
              "4  windows, mac, linux    11/1/1999             0          2.84   \n",
              "\n",
              "   Playability_Index_10  \n",
              "0                  6.54  \n",
              "1                  8.15  \n",
              "2                  7.25  \n",
              "3                  8.12  \n",
              "4                  2.35  "
            ],
            "text/html": [
              "\n",
              "  <div id=\"df-8a14bc12-2b03-45d8-80ba-60f2b1dc67bd\">\n",
              "    <div class=\"colab-df-container\">\n",
              "      <div>\n",
              "<style scoped>\n",
              "    .dataframe tbody tr th:only-of-type {\n",
              "        vertical-align: middle;\n",
              "    }\n",
              "\n",
              "    .dataframe tbody tr th {\n",
              "        vertical-align: top;\n",
              "    }\n",
              "\n",
              "    .dataframe thead th {\n",
              "        text-align: right;\n",
              "    }\n",
              "</style>\n",
              "<table border=\"1\" class=\"dataframe\">\n",
              "  <thead>\n",
              "    <tr style=\"text-align: right;\">\n",
              "      <th></th>\n",
              "      <th>AppID</th>\n",
              "      <th>Name</th>\n",
              "      <th>Developer</th>\n",
              "      <th>Publisher</th>\n",
              "      <th>Genre</th>\n",
              "      <th>Categories</th>\n",
              "      <th>Owners</th>\n",
              "      <th>Positive_Reviews</th>\n",
              "      <th>Negative_Reviews</th>\n",
              "      <th>Price_USD</th>\n",
              "      <th>Initial_Price_USD</th>\n",
              "      <th>Discount_Percent</th>\n",
              "      <th>Peak_Concurrent_Players</th>\n",
              "      <th>Platforms</th>\n",
              "      <th>Release_Date</th>\n",
              "      <th>Required_Age</th>\n",
              "      <th>Avg_Rating_5</th>\n",
              "      <th>Playability_Index_10</th>\n",
              "    </tr>\n",
              "  </thead>\n",
              "  <tbody>\n",
              "    <tr>\n",
              "      <th>0</th>\n",
              "      <td>10</td>\n",
              "      <td>Counter-Strike</td>\n",
              "      <td>Valve</td>\n",
              "      <td>Valve</td>\n",
              "      <td>Action</td>\n",
              "      <td>Multi-player, Valve Anti-Cheat enabled, Online...</td>\n",
              "      <td>10,000,000 .. 20,000,000</td>\n",
              "      <td>201215</td>\n",
              "      <td>5199</td>\n",
              "      <td>9.99</td>\n",
              "      <td>9.99</td>\n",
              "      <td>0</td>\n",
              "      <td>13990</td>\n",
              "      <td>windows, mac, linux</td>\n",
              "      <td>11/1/2000</td>\n",
              "      <td>0</td>\n",
              "      <td>3.87</td>\n",
              "      <td>6.54</td>\n",
              "    </tr>\n",
              "    <tr>\n",
              "      <th>1</th>\n",
              "      <td>20</td>\n",
              "      <td>Team Fortress Classic</td>\n",
              "      <td>Valve</td>\n",
              "      <td>Valve</td>\n",
              "      <td>Action</td>\n",
              "      <td>Multi-player, Valve Anti-Cheat enabled, Online...</td>\n",
              "      <td>1,000,000 .. 2,000,000</td>\n",
              "      <td>5835</td>\n",
              "      <td>934</td>\n",
              "      <td>4.99</td>\n",
              "      <td>4.99</td>\n",
              "      <td>0</td>\n",
              "      <td>101</td>\n",
              "      <td>windows, mac, linux</td>\n",
              "      <td>4/1/1999</td>\n",
              "      <td>0</td>\n",
              "      <td>3.92</td>\n",
              "      <td>8.15</td>\n",
              "    </tr>\n",
              "    <tr>\n",
              "      <th>2</th>\n",
              "      <td>30</td>\n",
              "      <td>Day of Defeat</td>\n",
              "      <td>Valve</td>\n",
              "      <td>Valve</td>\n",
              "      <td>Action</td>\n",
              "      <td>Multi-player, Valve Anti-Cheat enabled</td>\n",
              "      <td>5,000,000 .. 10,000,000</td>\n",
              "      <td>5251</td>\n",
              "      <td>569</td>\n",
              "      <td>4.99</td>\n",
              "      <td>4.99</td>\n",
              "      <td>0</td>\n",
              "      <td>142</td>\n",
              "      <td>windows, mac, linux</td>\n",
              "      <td>5/1/2003</td>\n",
              "      <td>0</td>\n",
              "      <td>4.90</td>\n",
              "      <td>7.25</td>\n",
              "    </tr>\n",
              "    <tr>\n",
              "      <th>3</th>\n",
              "      <td>40</td>\n",
              "      <td>Deathmatch Classic</td>\n",
              "      <td>Valve</td>\n",
              "      <td>Valve</td>\n",
              "      <td>Action</td>\n",
              "      <td>Multi-player, Valve Anti-Cheat enabled, Online...</td>\n",
              "      <td>5,000,000 .. 10,000,000</td>\n",
              "      <td>1961</td>\n",
              "      <td>437</td>\n",
              "      <td>4.99</td>\n",
              "      <td>4.99</td>\n",
              "      <td>0</td>\n",
              "      <td>3</td>\n",
              "      <td>windows, mac, linux</td>\n",
              "      <td>6/1/2001</td>\n",
              "      <td>0</td>\n",
              "      <td>4.69</td>\n",
              "      <td>8.12</td>\n",
              "    </tr>\n",
              "    <tr>\n",
              "      <th>4</th>\n",
              "      <td>50</td>\n",
              "      <td>Half-Life: Opposing Force</td>\n",
              "      <td>Gearbox Software</td>\n",
              "      <td>Valve</td>\n",
              "      <td>Action</td>\n",
              "      <td>Multi-player, Single-player, Valve Anti-Cheat ...</td>\n",
              "      <td>5,000,000 .. 10,000,000</td>\n",
              "      <td>14887</td>\n",
              "      <td>756</td>\n",
              "      <td>4.99</td>\n",
              "      <td>4.99</td>\n",
              "      <td>0</td>\n",
              "      <td>106</td>\n",
              "      <td>windows, mac, linux</td>\n",
              "      <td>11/1/1999</td>\n",
              "      <td>0</td>\n",
              "      <td>2.84</td>\n",
              "      <td>2.35</td>\n",
              "    </tr>\n",
              "  </tbody>\n",
              "</table>\n",
              "</div>\n",
              "      <button class=\"colab-df-convert\" onclick=\"convertToInteractive('df-8a14bc12-2b03-45d8-80ba-60f2b1dc67bd')\"\n",
              "              title=\"Convert this dataframe to an interactive table.\"\n",
              "              style=\"display:none;\">\n",
              "        \n",
              "  <svg xmlns=\"http://www.w3.org/2000/svg\" height=\"24px\"viewBox=\"0 0 24 24\"\n",
              "       width=\"24px\">\n",
              "    <path d=\"M0 0h24v24H0V0z\" fill=\"none\"/>\n",
              "    <path d=\"M18.56 5.44l.94 2.06.94-2.06 2.06-.94-2.06-.94-.94-2.06-.94 2.06-2.06.94zm-11 1L8.5 8.5l.94-2.06 2.06-.94-2.06-.94L8.5 2.5l-.94 2.06-2.06.94zm10 10l.94 2.06.94-2.06 2.06-.94-2.06-.94-.94-2.06-.94 2.06-2.06.94z\"/><path d=\"M17.41 7.96l-1.37-1.37c-.4-.4-.92-.59-1.43-.59-.52 0-1.04.2-1.43.59L10.3 9.45l-7.72 7.72c-.78.78-.78 2.05 0 2.83L4 21.41c.39.39.9.59 1.41.59.51 0 1.02-.2 1.41-.59l7.78-7.78 2.81-2.81c.8-.78.8-2.07 0-2.86zM5.41 20L4 18.59l7.72-7.72 1.47 1.35L5.41 20z\"/>\n",
              "  </svg>\n",
              "      </button>\n",
              "      \n",
              "  <style>\n",
              "    .colab-df-container {\n",
              "      display:flex;\n",
              "      flex-wrap:wrap;\n",
              "      gap: 12px;\n",
              "    }\n",
              "\n",
              "    .colab-df-convert {\n",
              "      background-color: #E8F0FE;\n",
              "      border: none;\n",
              "      border-radius: 50%;\n",
              "      cursor: pointer;\n",
              "      display: none;\n",
              "      fill: #1967D2;\n",
              "      height: 32px;\n",
              "      padding: 0 0 0 0;\n",
              "      width: 32px;\n",
              "    }\n",
              "\n",
              "    .colab-df-convert:hover {\n",
              "      background-color: #E2EBFA;\n",
              "      box-shadow: 0px 1px 2px rgba(60, 64, 67, 0.3), 0px 1px 3px 1px rgba(60, 64, 67, 0.15);\n",
              "      fill: #174EA6;\n",
              "    }\n",
              "\n",
              "    [theme=dark] .colab-df-convert {\n",
              "      background-color: #3B4455;\n",
              "      fill: #D2E3FC;\n",
              "    }\n",
              "\n",
              "    [theme=dark] .colab-df-convert:hover {\n",
              "      background-color: #434B5C;\n",
              "      box-shadow: 0px 1px 3px 1px rgba(0, 0, 0, 0.15);\n",
              "      filter: drop-shadow(0px 1px 2px rgba(0, 0, 0, 0.3));\n",
              "      fill: #FFFFFF;\n",
              "    }\n",
              "  </style>\n",
              "\n",
              "      <script>\n",
              "        const buttonEl =\n",
              "          document.querySelector('#df-8a14bc12-2b03-45d8-80ba-60f2b1dc67bd button.colab-df-convert');\n",
              "        buttonEl.style.display =\n",
              "          google.colab.kernel.accessAllowed ? 'block' : 'none';\n",
              "\n",
              "        async function convertToInteractive(key) {\n",
              "          const element = document.querySelector('#df-8a14bc12-2b03-45d8-80ba-60f2b1dc67bd');\n",
              "          const dataTable =\n",
              "            await google.colab.kernel.invokeFunction('convertToInteractive',\n",
              "                                                     [key], {});\n",
              "          if (!dataTable) return;\n",
              "\n",
              "          const docLinkHtml = 'Like what you see? Visit the ' +\n",
              "            '<a target=\"_blank\" href=https://colab.research.google.com/notebooks/data_table.ipynb>data table notebook</a>'\n",
              "            + ' to learn more about interactive tables.';\n",
              "          element.innerHTML = '';\n",
              "          dataTable['output_type'] = 'display_data';\n",
              "          await google.colab.output.renderOutput(dataTable, element);\n",
              "          const docLink = document.createElement('div');\n",
              "          docLink.innerHTML = docLinkHtml;\n",
              "          element.appendChild(docLink);\n",
              "        }\n",
              "      </script>\n",
              "    </div>\n",
              "  </div>\n",
              "  "
            ]
          },
          "metadata": {},
          "execution_count": 2
        }
      ]
    },
    {
      "cell_type": "markdown",
      "source": [
        "# Describe the data"
      ],
      "metadata": {
        "id": "RqhkwCspEzLc"
      }
    },
    {
      "cell_type": "code",
      "source": [
        "steam.describe()"
      ],
      "metadata": {
        "id": "CKtO3W8EE6np",
        "colab": {
          "base_uri": "https://localhost:8080/",
          "height": 364
        },
        "outputId": "662f216f-9639-4db2-d3b0-4f06b274364b"
      },
      "execution_count": 3,
      "outputs": [
        {
          "output_type": "execute_result",
          "data": {
            "text/plain": [
              "              AppID  Positive_Reviews  Negative_Reviews     Price_USD  \\\n",
              "count  1.112600e+04      1.112600e+04      11126.000000  11126.000000   \n",
              "mean   5.114254e+05      4.599697e+03        655.332914      8.549563   \n",
              "std    5.614587e+05      6.629048e+04       9050.343291      9.223482   \n",
              "min    1.000000e+01      0.000000e+00          0.000000      0.000000   \n",
              "25%    2.812975e+05      2.200000e+01          9.000000      2.990000   \n",
              "50%    3.658350e+05      1.105000e+02         43.000000      5.990000   \n",
              "75%    4.484475e+05      6.197500e+02        173.000000      9.990000   \n",
              "max    2.190950e+06      5.943345e+06     787093.000000    299.900000   \n",
              "\n",
              "       Initial_Price_USD  Discount_Percent  Peak_Concurrent_Players  \\\n",
              "count       11126.000000      11126.000000             11126.000000   \n",
              "mean            8.865782          3.125742               378.903200   \n",
              "std             9.293126         14.635960             12008.136002   \n",
              "min             0.000000          0.000000                 0.000000   \n",
              "25%             2.990000          0.000000                 0.000000   \n",
              "50%             6.990000          0.000000                 0.000000   \n",
              "75%             9.990000          0.000000                 4.000000   \n",
              "max           299.900000         90.000000            874053.000000   \n",
              "\n",
              "       Required_Age  Avg_Rating_5  Playability_Index_10  \n",
              "count  11126.000000  11126.000000          11126.000000  \n",
              "mean       0.385853      3.508388              5.006447  \n",
              "std        2.444761      0.864208              2.886240  \n",
              "min        0.000000      2.000000              0.000000  \n",
              "25%        0.000000      2.760000              2.510000  \n",
              "50%        0.000000      3.520000              5.050000  \n",
              "75%        0.000000      4.260000              7.480000  \n",
              "max       18.000000      5.000000             10.000000  "
            ],
            "text/html": [
              "\n",
              "  <div id=\"df-2df29230-252a-4234-964a-32910de5c89c\">\n",
              "    <div class=\"colab-df-container\">\n",
              "      <div>\n",
              "<style scoped>\n",
              "    .dataframe tbody tr th:only-of-type {\n",
              "        vertical-align: middle;\n",
              "    }\n",
              "\n",
              "    .dataframe tbody tr th {\n",
              "        vertical-align: top;\n",
              "    }\n",
              "\n",
              "    .dataframe thead th {\n",
              "        text-align: right;\n",
              "    }\n",
              "</style>\n",
              "<table border=\"1\" class=\"dataframe\">\n",
              "  <thead>\n",
              "    <tr style=\"text-align: right;\">\n",
              "      <th></th>\n",
              "      <th>AppID</th>\n",
              "      <th>Positive_Reviews</th>\n",
              "      <th>Negative_Reviews</th>\n",
              "      <th>Price_USD</th>\n",
              "      <th>Initial_Price_USD</th>\n",
              "      <th>Discount_Percent</th>\n",
              "      <th>Peak_Concurrent_Players</th>\n",
              "      <th>Required_Age</th>\n",
              "      <th>Avg_Rating_5</th>\n",
              "      <th>Playability_Index_10</th>\n",
              "    </tr>\n",
              "  </thead>\n",
              "  <tbody>\n",
              "    <tr>\n",
              "      <th>count</th>\n",
              "      <td>1.112600e+04</td>\n",
              "      <td>1.112600e+04</td>\n",
              "      <td>11126.000000</td>\n",
              "      <td>11126.000000</td>\n",
              "      <td>11126.000000</td>\n",
              "      <td>11126.000000</td>\n",
              "      <td>11126.000000</td>\n",
              "      <td>11126.000000</td>\n",
              "      <td>11126.000000</td>\n",
              "      <td>11126.000000</td>\n",
              "    </tr>\n",
              "    <tr>\n",
              "      <th>mean</th>\n",
              "      <td>5.114254e+05</td>\n",
              "      <td>4.599697e+03</td>\n",
              "      <td>655.332914</td>\n",
              "      <td>8.549563</td>\n",
              "      <td>8.865782</td>\n",
              "      <td>3.125742</td>\n",
              "      <td>378.903200</td>\n",
              "      <td>0.385853</td>\n",
              "      <td>3.508388</td>\n",
              "      <td>5.006447</td>\n",
              "    </tr>\n",
              "    <tr>\n",
              "      <th>std</th>\n",
              "      <td>5.614587e+05</td>\n",
              "      <td>6.629048e+04</td>\n",
              "      <td>9050.343291</td>\n",
              "      <td>9.223482</td>\n",
              "      <td>9.293126</td>\n",
              "      <td>14.635960</td>\n",
              "      <td>12008.136002</td>\n",
              "      <td>2.444761</td>\n",
              "      <td>0.864208</td>\n",
              "      <td>2.886240</td>\n",
              "    </tr>\n",
              "    <tr>\n",
              "      <th>min</th>\n",
              "      <td>1.000000e+01</td>\n",
              "      <td>0.000000e+00</td>\n",
              "      <td>0.000000</td>\n",
              "      <td>0.000000</td>\n",
              "      <td>0.000000</td>\n",
              "      <td>0.000000</td>\n",
              "      <td>0.000000</td>\n",
              "      <td>0.000000</td>\n",
              "      <td>2.000000</td>\n",
              "      <td>0.000000</td>\n",
              "    </tr>\n",
              "    <tr>\n",
              "      <th>25%</th>\n",
              "      <td>2.812975e+05</td>\n",
              "      <td>2.200000e+01</td>\n",
              "      <td>9.000000</td>\n",
              "      <td>2.990000</td>\n",
              "      <td>2.990000</td>\n",
              "      <td>0.000000</td>\n",
              "      <td>0.000000</td>\n",
              "      <td>0.000000</td>\n",
              "      <td>2.760000</td>\n",
              "      <td>2.510000</td>\n",
              "    </tr>\n",
              "    <tr>\n",
              "      <th>50%</th>\n",
              "      <td>3.658350e+05</td>\n",
              "      <td>1.105000e+02</td>\n",
              "      <td>43.000000</td>\n",
              "      <td>5.990000</td>\n",
              "      <td>6.990000</td>\n",
              "      <td>0.000000</td>\n",
              "      <td>0.000000</td>\n",
              "      <td>0.000000</td>\n",
              "      <td>3.520000</td>\n",
              "      <td>5.050000</td>\n",
              "    </tr>\n",
              "    <tr>\n",
              "      <th>75%</th>\n",
              "      <td>4.484475e+05</td>\n",
              "      <td>6.197500e+02</td>\n",
              "      <td>173.000000</td>\n",
              "      <td>9.990000</td>\n",
              "      <td>9.990000</td>\n",
              "      <td>0.000000</td>\n",
              "      <td>4.000000</td>\n",
              "      <td>0.000000</td>\n",
              "      <td>4.260000</td>\n",
              "      <td>7.480000</td>\n",
              "    </tr>\n",
              "    <tr>\n",
              "      <th>max</th>\n",
              "      <td>2.190950e+06</td>\n",
              "      <td>5.943345e+06</td>\n",
              "      <td>787093.000000</td>\n",
              "      <td>299.900000</td>\n",
              "      <td>299.900000</td>\n",
              "      <td>90.000000</td>\n",
              "      <td>874053.000000</td>\n",
              "      <td>18.000000</td>\n",
              "      <td>5.000000</td>\n",
              "      <td>10.000000</td>\n",
              "    </tr>\n",
              "  </tbody>\n",
              "</table>\n",
              "</div>\n",
              "      <button class=\"colab-df-convert\" onclick=\"convertToInteractive('df-2df29230-252a-4234-964a-32910de5c89c')\"\n",
              "              title=\"Convert this dataframe to an interactive table.\"\n",
              "              style=\"display:none;\">\n",
              "        \n",
              "  <svg xmlns=\"http://www.w3.org/2000/svg\" height=\"24px\"viewBox=\"0 0 24 24\"\n",
              "       width=\"24px\">\n",
              "    <path d=\"M0 0h24v24H0V0z\" fill=\"none\"/>\n",
              "    <path d=\"M18.56 5.44l.94 2.06.94-2.06 2.06-.94-2.06-.94-.94-2.06-.94 2.06-2.06.94zm-11 1L8.5 8.5l.94-2.06 2.06-.94-2.06-.94L8.5 2.5l-.94 2.06-2.06.94zm10 10l.94 2.06.94-2.06 2.06-.94-2.06-.94-.94-2.06-.94 2.06-2.06.94z\"/><path d=\"M17.41 7.96l-1.37-1.37c-.4-.4-.92-.59-1.43-.59-.52 0-1.04.2-1.43.59L10.3 9.45l-7.72 7.72c-.78.78-.78 2.05 0 2.83L4 21.41c.39.39.9.59 1.41.59.51 0 1.02-.2 1.41-.59l7.78-7.78 2.81-2.81c.8-.78.8-2.07 0-2.86zM5.41 20L4 18.59l7.72-7.72 1.47 1.35L5.41 20z\"/>\n",
              "  </svg>\n",
              "      </button>\n",
              "      \n",
              "  <style>\n",
              "    .colab-df-container {\n",
              "      display:flex;\n",
              "      flex-wrap:wrap;\n",
              "      gap: 12px;\n",
              "    }\n",
              "\n",
              "    .colab-df-convert {\n",
              "      background-color: #E8F0FE;\n",
              "      border: none;\n",
              "      border-radius: 50%;\n",
              "      cursor: pointer;\n",
              "      display: none;\n",
              "      fill: #1967D2;\n",
              "      height: 32px;\n",
              "      padding: 0 0 0 0;\n",
              "      width: 32px;\n",
              "    }\n",
              "\n",
              "    .colab-df-convert:hover {\n",
              "      background-color: #E2EBFA;\n",
              "      box-shadow: 0px 1px 2px rgba(60, 64, 67, 0.3), 0px 1px 3px 1px rgba(60, 64, 67, 0.15);\n",
              "      fill: #174EA6;\n",
              "    }\n",
              "\n",
              "    [theme=dark] .colab-df-convert {\n",
              "      background-color: #3B4455;\n",
              "      fill: #D2E3FC;\n",
              "    }\n",
              "\n",
              "    [theme=dark] .colab-df-convert:hover {\n",
              "      background-color: #434B5C;\n",
              "      box-shadow: 0px 1px 3px 1px rgba(0, 0, 0, 0.15);\n",
              "      filter: drop-shadow(0px 1px 2px rgba(0, 0, 0, 0.3));\n",
              "      fill: #FFFFFF;\n",
              "    }\n",
              "  </style>\n",
              "\n",
              "      <script>\n",
              "        const buttonEl =\n",
              "          document.querySelector('#df-2df29230-252a-4234-964a-32910de5c89c button.colab-df-convert');\n",
              "        buttonEl.style.display =\n",
              "          google.colab.kernel.accessAllowed ? 'block' : 'none';\n",
              "\n",
              "        async function convertToInteractive(key) {\n",
              "          const element = document.querySelector('#df-2df29230-252a-4234-964a-32910de5c89c');\n",
              "          const dataTable =\n",
              "            await google.colab.kernel.invokeFunction('convertToInteractive',\n",
              "                                                     [key], {});\n",
              "          if (!dataTable) return;\n",
              "\n",
              "          const docLinkHtml = 'Like what you see? Visit the ' +\n",
              "            '<a target=\"_blank\" href=https://colab.research.google.com/notebooks/data_table.ipynb>data table notebook</a>'\n",
              "            + ' to learn more about interactive tables.';\n",
              "          element.innerHTML = '';\n",
              "          dataTable['output_type'] = 'display_data';\n",
              "          await google.colab.output.renderOutput(dataTable, element);\n",
              "          const docLink = document.createElement('div');\n",
              "          docLink.innerHTML = docLinkHtml;\n",
              "          element.appendChild(docLink);\n",
              "        }\n",
              "      </script>\n",
              "    </div>\n",
              "  </div>\n",
              "  "
            ]
          },
          "metadata": {},
          "execution_count": 3
        }
      ]
    },
    {
      "cell_type": "markdown",
      "source": [
        "# Looking at our Steam data there aren't many categories!\n",
        "We are going to create a category column based on average rating:\n",
        "\n",
        "\n",
        "*   rating > 4 : \"Excellent\"\n",
        "*   4 > rating > 3 : \"Good\"\n",
        "*   3 > rating > 2 : \"Average\"\n",
        "*   2 > rating : \"Bad\"\n",
        "\n"
      ],
      "metadata": {
        "id": "j93X9x_sd5Lk"
      }
    },
    {
      "cell_type": "code",
      "source": [
        "bins = [0, 2, 3, 4]\n",
        "labels = ['Bad', 'Average', 'Good', 'Excellent']\n",
        "d = dict(enumerate(labels, 1))\n",
        "steam['Rating_Labels'] = np.vectorize(d.get)(np.digitize(steam['Avg_Rating_5'], bins))\n",
        "#above code from https://stackoverflow.com/questions/49382207/how-to-map-numeric-data-into-categories-bins-in-pandas-dataframe \n",
        "\n",
        "#check our data to see if it worked...\n",
        "steam[['Rating_Labels', 'Avg_Rating_5']]\n"
      ],
      "metadata": {
        "colab": {
          "base_uri": "https://localhost:8080/",
          "height": 424
        },
        "id": "yLwIw4JvffU6",
        "outputId": "427c86de-dcf1-4a6b-a2a0-17e861902c29"
      },
      "execution_count": 4,
      "outputs": [
        {
          "output_type": "execute_result",
          "data": {
            "text/plain": [
              "      Rating_Labels  Avg_Rating_5\n",
              "0              Good          3.87\n",
              "1              Good          3.92\n",
              "2         Excellent          4.90\n",
              "3         Excellent          4.69\n",
              "4           Average          2.84\n",
              "...             ...           ...\n",
              "11121     Excellent          4.06\n",
              "11122       Average          2.87\n",
              "11123          Good          3.79\n",
              "11124       Average          2.89\n",
              "11125          Good          3.03\n",
              "\n",
              "[11126 rows x 2 columns]"
            ],
            "text/html": [
              "\n",
              "  <div id=\"df-5522003b-6faa-45e2-8c2e-a04e2a3306aa\">\n",
              "    <div class=\"colab-df-container\">\n",
              "      <div>\n",
              "<style scoped>\n",
              "    .dataframe tbody tr th:only-of-type {\n",
              "        vertical-align: middle;\n",
              "    }\n",
              "\n",
              "    .dataframe tbody tr th {\n",
              "        vertical-align: top;\n",
              "    }\n",
              "\n",
              "    .dataframe thead th {\n",
              "        text-align: right;\n",
              "    }\n",
              "</style>\n",
              "<table border=\"1\" class=\"dataframe\">\n",
              "  <thead>\n",
              "    <tr style=\"text-align: right;\">\n",
              "      <th></th>\n",
              "      <th>Rating_Labels</th>\n",
              "      <th>Avg_Rating_5</th>\n",
              "    </tr>\n",
              "  </thead>\n",
              "  <tbody>\n",
              "    <tr>\n",
              "      <th>0</th>\n",
              "      <td>Good</td>\n",
              "      <td>3.87</td>\n",
              "    </tr>\n",
              "    <tr>\n",
              "      <th>1</th>\n",
              "      <td>Good</td>\n",
              "      <td>3.92</td>\n",
              "    </tr>\n",
              "    <tr>\n",
              "      <th>2</th>\n",
              "      <td>Excellent</td>\n",
              "      <td>4.90</td>\n",
              "    </tr>\n",
              "    <tr>\n",
              "      <th>3</th>\n",
              "      <td>Excellent</td>\n",
              "      <td>4.69</td>\n",
              "    </tr>\n",
              "    <tr>\n",
              "      <th>4</th>\n",
              "      <td>Average</td>\n",
              "      <td>2.84</td>\n",
              "    </tr>\n",
              "    <tr>\n",
              "      <th>...</th>\n",
              "      <td>...</td>\n",
              "      <td>...</td>\n",
              "    </tr>\n",
              "    <tr>\n",
              "      <th>11121</th>\n",
              "      <td>Excellent</td>\n",
              "      <td>4.06</td>\n",
              "    </tr>\n",
              "    <tr>\n",
              "      <th>11122</th>\n",
              "      <td>Average</td>\n",
              "      <td>2.87</td>\n",
              "    </tr>\n",
              "    <tr>\n",
              "      <th>11123</th>\n",
              "      <td>Good</td>\n",
              "      <td>3.79</td>\n",
              "    </tr>\n",
              "    <tr>\n",
              "      <th>11124</th>\n",
              "      <td>Average</td>\n",
              "      <td>2.89</td>\n",
              "    </tr>\n",
              "    <tr>\n",
              "      <th>11125</th>\n",
              "      <td>Good</td>\n",
              "      <td>3.03</td>\n",
              "    </tr>\n",
              "  </tbody>\n",
              "</table>\n",
              "<p>11126 rows × 2 columns</p>\n",
              "</div>\n",
              "      <button class=\"colab-df-convert\" onclick=\"convertToInteractive('df-5522003b-6faa-45e2-8c2e-a04e2a3306aa')\"\n",
              "              title=\"Convert this dataframe to an interactive table.\"\n",
              "              style=\"display:none;\">\n",
              "        \n",
              "  <svg xmlns=\"http://www.w3.org/2000/svg\" height=\"24px\"viewBox=\"0 0 24 24\"\n",
              "       width=\"24px\">\n",
              "    <path d=\"M0 0h24v24H0V0z\" fill=\"none\"/>\n",
              "    <path d=\"M18.56 5.44l.94 2.06.94-2.06 2.06-.94-2.06-.94-.94-2.06-.94 2.06-2.06.94zm-11 1L8.5 8.5l.94-2.06 2.06-.94-2.06-.94L8.5 2.5l-.94 2.06-2.06.94zm10 10l.94 2.06.94-2.06 2.06-.94-2.06-.94-.94-2.06-.94 2.06-2.06.94z\"/><path d=\"M17.41 7.96l-1.37-1.37c-.4-.4-.92-.59-1.43-.59-.52 0-1.04.2-1.43.59L10.3 9.45l-7.72 7.72c-.78.78-.78 2.05 0 2.83L4 21.41c.39.39.9.59 1.41.59.51 0 1.02-.2 1.41-.59l7.78-7.78 2.81-2.81c.8-.78.8-2.07 0-2.86zM5.41 20L4 18.59l7.72-7.72 1.47 1.35L5.41 20z\"/>\n",
              "  </svg>\n",
              "      </button>\n",
              "      \n",
              "  <style>\n",
              "    .colab-df-container {\n",
              "      display:flex;\n",
              "      flex-wrap:wrap;\n",
              "      gap: 12px;\n",
              "    }\n",
              "\n",
              "    .colab-df-convert {\n",
              "      background-color: #E8F0FE;\n",
              "      border: none;\n",
              "      border-radius: 50%;\n",
              "      cursor: pointer;\n",
              "      display: none;\n",
              "      fill: #1967D2;\n",
              "      height: 32px;\n",
              "      padding: 0 0 0 0;\n",
              "      width: 32px;\n",
              "    }\n",
              "\n",
              "    .colab-df-convert:hover {\n",
              "      background-color: #E2EBFA;\n",
              "      box-shadow: 0px 1px 2px rgba(60, 64, 67, 0.3), 0px 1px 3px 1px rgba(60, 64, 67, 0.15);\n",
              "      fill: #174EA6;\n",
              "    }\n",
              "\n",
              "    [theme=dark] .colab-df-convert {\n",
              "      background-color: #3B4455;\n",
              "      fill: #D2E3FC;\n",
              "    }\n",
              "\n",
              "    [theme=dark] .colab-df-convert:hover {\n",
              "      background-color: #434B5C;\n",
              "      box-shadow: 0px 1px 3px 1px rgba(0, 0, 0, 0.15);\n",
              "      filter: drop-shadow(0px 1px 2px rgba(0, 0, 0, 0.3));\n",
              "      fill: #FFFFFF;\n",
              "    }\n",
              "  </style>\n",
              "\n",
              "      <script>\n",
              "        const buttonEl =\n",
              "          document.querySelector('#df-5522003b-6faa-45e2-8c2e-a04e2a3306aa button.colab-df-convert');\n",
              "        buttonEl.style.display =\n",
              "          google.colab.kernel.accessAllowed ? 'block' : 'none';\n",
              "\n",
              "        async function convertToInteractive(key) {\n",
              "          const element = document.querySelector('#df-5522003b-6faa-45e2-8c2e-a04e2a3306aa');\n",
              "          const dataTable =\n",
              "            await google.colab.kernel.invokeFunction('convertToInteractive',\n",
              "                                                     [key], {});\n",
              "          if (!dataTable) return;\n",
              "\n",
              "          const docLinkHtml = 'Like what you see? Visit the ' +\n",
              "            '<a target=\"_blank\" href=https://colab.research.google.com/notebooks/data_table.ipynb>data table notebook</a>'\n",
              "            + ' to learn more about interactive tables.';\n",
              "          element.innerHTML = '';\n",
              "          dataTable['output_type'] = 'display_data';\n",
              "          await google.colab.output.renderOutput(dataTable, element);\n",
              "          const docLink = document.createElement('div');\n",
              "          docLink.innerHTML = docLinkHtml;\n",
              "          element.appendChild(docLink);\n",
              "        }\n",
              "      </script>\n",
              "    </div>\n",
              "  </div>\n",
              "  "
            ]
          },
          "metadata": {},
          "execution_count": 4
        }
      ]
    },
    {
      "cell_type": "markdown",
      "source": [
        "# How many people own each game?\n",
        "The data is laid out in a way where it \"guesses\" the number of owners and formats it as a string.  Let's make the data more useful by creating a numerical min, max, and mid estimate of owners for each game."
      ],
      "metadata": {
        "id": "1VitlOdtFRsu"
      }
    },
    {
      "cell_type": "code",
      "source": [
        "#add numeric data for owner estimates of the games\n",
        "steam['Owners_Copy'] = steam['Owners'].str.replace(',','')  #get rid of commans, https://pandas.pydata.org/pandas-docs/stable/reference/api/pandas.Series.str.replace.html\n",
        "ownersCopy = steam['Owners_Copy'].str.split(pat=' .. ', n=0, expand=True) #remove text separater, https://pandas.pydata.org/pandas-docs/stable/reference/api/pandas.Series.str.split.html\n",
        "steam['Owners_Min'] = pd.to_numeric(ownersCopy[0]) #convert string to int, https://pandas.pydata.org/pandas-docs/stable/reference/api/pandas.to_numeric.html\n",
        "steam['Owners_Max'] = pd.to_numeric(ownersCopy[1])\n",
        "steam['Owners_Mid'] = (steam['Owners_Min'] + steam['Owners_Max']) / 2\n",
        "steam.drop(columns=['Owners_Copy'])\n",
        "steam['Owners_Mid']"
      ],
      "metadata": {
        "colab": {
          "base_uri": "https://localhost:8080/"
        },
        "id": "eU0zuQmkFpJX",
        "outputId": "fda42f1f-2241-46de-b1ff-a735a7a0091b"
      },
      "execution_count": 5,
      "outputs": [
        {
          "output_type": "execute_result",
          "data": {
            "text/plain": [
              "0        15000000.0\n",
              "1         1500000.0\n",
              "2         7500000.0\n",
              "3         7500000.0\n",
              "4         7500000.0\n",
              "            ...    \n",
              "11121       10000.0\n",
              "11122       10000.0\n",
              "11123       10000.0\n",
              "11124       35000.0\n",
              "11125       10000.0\n",
              "Name: Owners_Mid, Length: 11126, dtype: float64"
            ]
          },
          "metadata": {},
          "execution_count": 5
        }
      ]
    },
    {
      "cell_type": "markdown",
      "source": [
        "# Chi-Square\n",
        "\n",
        "Chi Square calculates the relationship between Observed and Expected Values between two CATEGORICAL attributes.\n",
        "\n",
        "**THINGS TO REMEMBER** about a Chi Square test:\n",
        "1. Is a hypothesis test based on categorical attributes.\n",
        "2. Uses as its H0 that the two variables under investigation are independent\n",
        "3. Uses a chi square table\n",
        "3. If the resulting p-value is > 0.05, both variables are independent\n",
        "4. If the resulting p-value is < 0.05, both variables are dependent\n",
        "\n",
        "* Source: Professor Sonja Streuber 2023S1R-IT-533-STEM:Data Mining and Applications\n",
        "\n"
      ],
      "metadata": {
        "id": "dtn8pjBIFISM"
      }
    },
    {
      "cell_type": "markdown",
      "source": [
        "Using our Steam data, let's see if there is a relation between Rating_Labels and Genre.  \n",
        "\n",
        "Our hypothesis is that game genre and reviews are dependent.\n",
        "\n",
        "The null-hypothesis is that game genre does not affect review ratings.\n",
        "\n",
        "Which statement is likely to be true?"
      ],
      "metadata": {
        "id": "lOGPKlKDGFM_"
      }
    },
    {
      "cell_type": "code",
      "source": [
        "chi2, p, dof, expected = chi2_contingency((pd.crosstab(steam.Rating_Labels, steam.Genre).values))\n",
        "print (f'Chi-square Statistic: {chi2} ,p-value: {p}, Degrees of Freedom: {dof}')"
      ],
      "metadata": {
        "id": "vZ5LsqGgFPAU",
        "colab": {
          "base_uri": "https://localhost:8080/"
        },
        "outputId": "b3280eb7-e615-4c73-9cbe-894b50c21068"
      },
      "execution_count": 7,
      "outputs": [
        {
          "output_type": "stream",
          "name": "stdout",
          "text": [
            "Chi-square Statistic: 1411.890703428438 ,p-value: 0.48080185981389695, Degrees of Freedom: 1410\n"
          ]
        }
      ]
    },
    {
      "cell_type": "markdown",
      "source": [
        "Our p-value is 0.481, which is > 0.05.  This means that there isn't an association between reviews and game genre! How dissapointing, the null-hypothesis is true.\n",
        "\n",
        "Maybe you can find a better association?"
      ],
      "metadata": {
        "id": "Bt87OE7tHT0H"
      }
    },
    {
      "cell_type": "markdown",
      "source": [
        "# Now it's your turn!\n",
        "Create a hypothesis using two categories from the Steam data and write it here:\n",
        "\n",
        "**My Hypothesis is that....**"
      ],
      "metadata": {
        "id": "y0jSUZknIQda"
      }
    },
    {
      "cell_type": "code",
      "source": [
        "#Test your hypothesis using chi2_contingency here\n",
        "\n"
      ],
      "metadata": {
        "id": "4dAK2PyzIlM4"
      },
      "execution_count": null,
      "outputs": []
    },
    {
      "cell_type": "markdown",
      "source": [
        "Summarize the results here:\n",
        "\n",
        "**The results from my test indicate that....**"
      ],
      "metadata": {
        "id": "zh6LXT7BIqkQ"
      }
    },
    {
      "cell_type": "markdown",
      "source": [
        "# Extra Credit \n",
        "**Evereything from this point forward is bonus, review work**\n",
        "\n",
        "What other associations can we check?"
      ],
      "metadata": {
        "id": "QzUA1lBOtEka"
      }
    },
    {
      "cell_type": "markdown",
      "source": [
        "## Euclidian Distance"
      ],
      "metadata": {
        "id": "rngV5f0RtRu5"
      }
    },
    {
      "cell_type": "code",
      "source": [
        "#Euclidian Distance Example\n",
        "#Is there a closer relationship between Positive_Reviews and Owners_Mid, or between Negative_Reviews and Owners_Mid?\n",
        "\n",
        "#Using Linear Algebra\n",
        "positive = np.array(steam['Positive_Reviews'])\n",
        "negative = np.array(steam['Negative_Reviews'])\n",
        "owners = np.array(steam['Owners_Mid'])\n",
        "\n",
        "posDist = np.linalg.norm(owners - positive)\n",
        "negDist = np.linalg.norm(owners - negative)\n",
        "print(\"Positive review distance to owners: \", posDist, \"\\nNegative review distance to owners: \", negDist)\n",
        "\n",
        "#Our analysis shows that there is a slightly closer distance between positive reviews and owners than negative reviews and owners "
      ],
      "metadata": {
        "colab": {
          "base_uri": "https://localhost:8080/"
        },
        "id": "jfhTtsDXtQU0",
        "outputId": "5971b31b-f6fa-4dbe-89e2-67f183d195e7"
      },
      "execution_count": 8,
      "outputs": [
        {
          "output_type": "stream",
          "name": "stdout",
          "text": [
            "Positive review distance to owners:  403400616.8212085 \n",
            "Negative review distance to owners:  406539569.1973607\n"
          ]
        }
      ]
    },
    {
      "cell_type": "code",
      "source": [
        "#Your Turn: Compare using Euclidian Distance\n",
        "#My Euclidian Distance Theory and example.....\n",
        "\n",
        "\n",
        "\n"
      ],
      "metadata": {
        "id": "NC7eatF4Hsd-"
      },
      "execution_count": null,
      "outputs": []
    },
    {
      "cell_type": "markdown",
      "source": [
        "# Manhattan / Cityblock Distance"
      ],
      "metadata": {
        "id": "U_4q6T1sH3P1"
      }
    },
    {
      "cell_type": "code",
      "source": [
        "#Manhattan distance Example\n",
        "#Is there a closer relationship between Positive_Reviews and Owners_Mid, or between Negative_Reviews and Owners_Mid?\n",
        "#How will this compare to the Euclidian distance?\n",
        "\n",
        "\n",
        "positive = np.array(steam['Positive_Reviews'])\n",
        "negative = np.array(steam['Negative_Reviews'])\n",
        "owners = np.array(steam['Owners_Mid'])\n",
        "\n",
        "print (\"Manhattan Distance between Positive_Reviews and Owners_Mid:\", f'{dist.cityblock(positive,owners):,}')\n",
        "print (\"Manhattan Distance between Negative_Reviews and Owners_Mid:\", f'{dist.cityblock(negative,owners):,}')\n",
        "\n",
        "#Similar to the Euclidian method, our analysis shows that there is a slightly closer distance between positive reviews and owners than negative reviews and owners \n",
        "\n"
      ],
      "metadata": {
        "colab": {
          "base_uri": "https://localhost:8080/"
        },
        "id": "GXXgiPcTIBZL",
        "outputId": "a17f1969-0386-40d8-851a-44796e8e7d1b"
      },
      "execution_count": 9,
      "outputs": [
        {
          "output_type": "stream",
          "name": "stdout",
          "text": [
            "Manhattan Distance between Positive_Reviews and Owners_Mid: 4,389,168,769.0\n",
            "Manhattan Distance between Negative_Reviews and Owners_Mid: 4,433,053,766.0\n"
          ]
        }
      ]
    },
    {
      "cell_type": "code",
      "source": [
        "#Your Turn: Compare using Manhattan / Cityblock\n",
        "#My Manhattan / Cityblock Distance Theory and example......\n",
        "\n",
        "\n",
        "\n",
        "\n",
        "\n"
      ],
      "metadata": {
        "id": "YdQpgHoYNJHo"
      },
      "execution_count": null,
      "outputs": []
    },
    {
      "cell_type": "markdown",
      "source": [
        "# Cosine Similarity"
      ],
      "metadata": {
        "id": "FDgRNWJIKR8_"
      }
    },
    {
      "cell_type": "code",
      "source": [
        "#Cosine Similarity Example\n",
        "positive = np.array(steam['Positive_Reviews'])\n",
        "rPositive = positive.reshape(1,11126)\n",
        "negative = np.array(steam['Negative_Reviews'])\n",
        "rNegative = negative.reshape(1,11126)\n",
        "owners = np.array(steam['Owners_Mid'])\n",
        "rOwners = owners.reshape(1,11126)\n",
        "\n",
        "cosPO = cosine_similarity(rPositive,rOwners)\n",
        "radPO = math.acos(cosPO)\n",
        "degPO = math.degrees(radPO)\n",
        "\n",
        "cosNO = cosine_similarity(rNegative,rOwners)\n",
        "radNO = math.acos(cosNO)\n",
        "degNO = math.degrees(radNO)\n",
        "\n",
        "print(\"Cosine positive / owners: (cos, rad, angle)\",cosPO, radPO, degPO)\n",
        "print(\"Cosine negative / owners: (cos, rad, angle)\", cosNO, radNO, degNO)\n",
        "\n",
        "#Again we see that the negative reviews have a slightly closer association to owners than the positive reviews."
      ],
      "metadata": {
        "colab": {
          "base_uri": "https://localhost:8080/"
        },
        "id": "aEyMBWdoNTaN",
        "outputId": "df055965-30a2-4c73-d552-bb76f58635bd"
      },
      "execution_count": 12,
      "outputs": [
        {
          "output_type": "stream",
          "name": "stdout",
          "text": [
            "Cosine positive / owners: (cos, rad, angle) [[0.53442766]] 1.0069658733703084 57.69489465782357\n",
            "Cosine negative / owners: (cos, rad, angle) [[0.5892737]] 0.9406367422652713 53.89451538673503\n"
          ]
        }
      ]
    },
    {
      "cell_type": "code",
      "source": [
        "#Your Turn: Compare using Cosine Similarity\n",
        "#My Cosine Similarity Theory and example.......\n",
        "\n",
        "\n",
        "\n"
      ],
      "metadata": {
        "id": "9ZIdzsi837sx"
      },
      "execution_count": null,
      "outputs": []
    },
    {
      "cell_type": "markdown",
      "source": [
        "# Covariance"
      ],
      "metadata": {
        "id": "C2x2AqzLNhsw"
      }
    },
    {
      "cell_type": "code",
      "source": [
        "#Covariance Example\n",
        "\n",
        "posCov = np.cov([steam['Positive_Reviews']],[steam['Owners_Mid']])[0][1]\n",
        "negCov = np.cov([steam['Negative_Reviews']],[steam['Owners_Mid']])[0][1]\n",
        "\n",
        "print('Pos cov: ', posCov)\n",
        "print('Neg cov: ', negCov)"
      ],
      "metadata": {
        "id": "_Hh3wGZZNpYt",
        "colab": {
          "base_uri": "https://localhost:8080/"
        },
        "outputId": "d4ec54f6-4334-4cde-f12a-c798a8a5fa26"
      },
      "execution_count": 14,
      "outputs": [
        {
          "output_type": "stream",
          "name": "stdout",
          "text": [
            "Pos cov:  135232475832.38686\n",
            "Neg cov:  20376638471.68086\n"
          ]
        }
      ]
    },
    {
      "cell_type": "code",
      "source": [
        "#Your Turn: Compare using Covariance\n",
        "#My covariance Theory and example.......\n",
        "\n"
      ],
      "metadata": {
        "id": "tTZl4_Kf_dBD"
      },
      "execution_count": 17,
      "outputs": []
    },
    {
      "cell_type": "markdown",
      "source": [
        "#Correlation"
      ],
      "metadata": {
        "id": "a8yXSgNMORL2"
      }
    },
    {
      "cell_type": "code",
      "source": [
        "#Correlation\n",
        "posCorEx = steam['Positive_Reviews'].corr(steam['Owners_Mid'])\n",
        "negCorEx = steam['Negative_Reviews'].corr(steam['Owners_Mid'])\n",
        "\n",
        "print('Positive Review correlation to owners:',posCorEx)\n",
        "print('Negative Review correlation to owners:',negCorEx)\n",
        "\n",
        "#Our results show a moderate positive correlation between reviews and owners, with Negative_Reviews having a slightly closer association"
      ],
      "metadata": {
        "id": "Ce-1cz8UNrOG",
        "colab": {
          "base_uri": "https://localhost:8080/"
        },
        "outputId": "8eb661e1-5c9d-488f-9a16-a1c64f2927fe"
      },
      "execution_count": 16,
      "outputs": [
        {
          "output_type": "stream",
          "name": "stdout",
          "text": [
            "Positive Review correlation to owners: 0.5313860433255004\n",
            "Negative Review correlation to owners: 0.5864726636366026\n"
          ]
        }
      ]
    },
    {
      "cell_type": "code",
      "source": [
        "#Your Turn: Compare using Correlation\n",
        "#My correlation Theory and example.......\n",
        "\n"
      ],
      "metadata": {
        "id": "ZusZRqvwBwCb"
      },
      "execution_count": null,
      "outputs": []
    }
  ]
}