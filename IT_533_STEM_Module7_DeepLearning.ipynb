{
  "cells": [
    {
      "cell_type": "markdown",
      "metadata": {
        "id": "view-in-github",
        "colab_type": "text"
      },
      "source": [
        "<a href=\"https://colab.research.google.com/github/pschorey/Valpo_IT533/blob/main/IT_533_STEM_Module7_DeepLearning.ipynb\" target=\"_parent\"><img src=\"https://colab.research.google.com/assets/colab-badge.svg\" alt=\"Open In Colab\"/></a>"
      ]
    },
    {
      "cell_type": "markdown",
      "metadata": {
        "id": "3utp-S1ay5r8"
      },
      "source": [
        "#**Module 7: Neural Networks and Deep Learning**\n",
        "Imagine you have lots of data--Big Data, as in 1,000,000 tuples and more per day--and need to build a classification system with utmost reliability because if you're wrong, the consequences may be detrimental to people or property. Would you use a simple tree? Or a k Nearest Neighbor? Or a Random Forest? Or would you want a system that combines a number of self-optimizing algorithm runs with an element of randomization and voting in order to give you the most reliable output? \n",
        "\n",
        "That, then would be a Deep Learning Network. **Deep Learning means nothing more than a Neural Network with multiple hidden layers,** in which data is summarized and analyzed and summarized and analyzed and so on. These pictures say it all:\n",
        "\n",
        "**A Simple Neural Network**\n",
        "<div>\n",
        "<center>\n",
        "<img src=\"https://raw.githubusercontent.com/shstreuber/Data-Mining/master/images/simplenn_regression.png\" width=\"350\">\n",
        "</div>\n",
        "\n",
        "**A Deep Neural Network**\n",
        "<div>\n",
        "<center>\n",
        "<img src=\"https://raw.githubusercontent.com/shstreuber/Data-Mining/master/images/deepnn_regression.png\" width=\"600\">\n",
        "</div>\n",
        "\n",
        "At the end of this module, you will be able to:\n",
        "\n",
        "* Configure 2 simple and 2 deep learning Regression Networks \n",
        "* Describe how a Deep Neural Network works\n",
        "* Configure TensorFlow and Keras\n",
        "* Solve a simple Deep Learning problem\n",
        "* Compare regular Neural Network output with Deep Learning output\n",
        "\n",
        "To get started, please watch this instructor video:"
      ]
    },
    {
      "cell_type": "code",
      "execution_count": null,
      "metadata": {
        "colab": {
          "base_uri": "https://localhost:8080/",
          "height": 371
        },
        "id": "zHb5bE3czqhH",
        "outputId": "67bebe54-e85b-4a3c-ea8a-a7f3b48a33f3"
      },
      "outputs": [
        {
          "name": "stderr",
          "output_type": "stream",
          "text": [
            "/usr/local/lib/python3.9/dist-packages/IPython/core/display.py:724: UserWarning: Consider using IPython.display.IFrame instead\n",
            "  warnings.warn(\"Consider using IPython.display.IFrame instead\")\n"
          ]
        },
        {
          "data": {
            "text/html": [
              "<iframe width=\"560\" height=\"315\" src=\"https://www.youtube.com/embed/RkiTL_T8VsY\" frameborder=\"0\" allow=\"accelerometer; autoplay; encrypted-media; gyroscope; picture-in-picture\" allowfullscreen></iframe>"
            ],
            "text/plain": [
              "<IPython.core.display.HTML object>"
            ]
          },
          "execution_count": 1,
          "metadata": {},
          "output_type": "execute_result"
        }
      ],
      "source": [
        "from IPython.display import HTML\n",
        "HTML('<iframe width=\"560\" height=\"315\" src=\"https://www.youtube.com/embed/RkiTL_T8VsY\" frameborder=\"0\" allow=\"accelerometer; autoplay; encrypted-media; gyroscope; picture-in-picture\" allowfullscreen></iframe>')"
      ]
    },
    {
      "cell_type": "markdown",
      "metadata": {
        "id": "GzT4W7L3zg5E"
      },
      "source": [
        "#**What is Tensorflow?**\n",
        "Essentially, TensorFlow (a Google product) is an end-to-end open source machine learning **platform**. As a platform, it contains a number of libraries, or packages, the most well-known of which is Keras.\n",
        "\n",
        "The **GOAL** of TensorFlow is to train and run deep neural networks for handwritten digit classification, image recognition, word embeddings, recurrent neural networks, sequence-to-sequence models for machine translation, natural language processing, and PDE (partial differential equation) based simulations.\n",
        "\n",
        "##**Sooooo ... what is a Tensor?**\n",
        "The vocabulary here may sound technical and daunting, but there are a few very simple concepts hiding behind it. A Tensor is simply a multidimensional array:\n",
        "\n",
        "* Scalar = 0D Tensor\n",
        "* Vector = 1D Tensor\n",
        "* Matrix = 2D Tensor\n",
        "* Cube = 3D Tensor\n",
        "\n",
        "Thereby, we can deduce that a 4-D tensor is a vector of cubes, 5-D tensor is a matrix of cubes, 6-D tensor is a cube of cubes, etc. Take a look at the graphic below:\n",
        "\n",
        "<div>\n",
        "<center>\n",
        "<img src=\"https://raw.githubusercontent.com/shstreuber/Data-Mining/master/images/tensor.png\" width=\"600\">\n",
        "</div>\n",
        "\n",
        "##**And How does it Work?**\n",
        "Working with TensorFlow is  basically like setting up any other Classification:\n",
        "0. You set up your libraries and load your data\n",
        "1. You do your EDA (Exploratory Data Analysis) to see how the data is distributed and to determine what the class attribute in the dataset should be. \n",
        "2. Preprocess the data (remove n/a, transform data types as needed, deal with missing data) and THEN normalize the data so we can apply the model weights without problems.\n",
        "3. Split the data into a training set and a test set\n",
        "4. Build the model based on the training set\n",
        "5. Test the model on the test set\n",
        "6. Determine the quality of the model"
      ]
    },
    {
      "cell_type": "markdown",
      "metadata": {
        "id": "2x_5G4kA5BcJ"
      },
      "source": [
        "#**0. Preparation and Setup**\n",
        "To wrap our head around the process of setting up a Deep Learning model, we will work with a dataset with which we are already familiar: The adult dataset."
      ]
    },
    {
      "cell_type": "code",
      "execution_count": null,
      "metadata": {
        "colab": {
          "base_uri": "https://localhost:8080/",
          "height": 357
        },
        "id": "PUbUl6Mg5RH_",
        "outputId": "ec9512e8-f3fe-4289-995e-f8a430354daf"
      },
      "outputs": [
        {
          "output_type": "stream",
          "name": "stdout",
          "text": [
            "Current TensorFlow version is 2.12.0\n"
          ]
        },
        {
          "output_type": "execute_result",
          "data": {
            "text/plain": [
              "   age         workclass  education  educationyears       maritalstatus  \\\n",
              "0   39         State-gov  Bachelors              13       Never-married   \n",
              "1   50  Self-emp-not-inc  Bachelors              13  Married-civ-spouse   \n",
              "2   38           Private    HS-grad               9            Divorced   \n",
              "3   53           Private       11th               7  Married-civ-spouse   \n",
              "4   28           Private  Bachelors              13  Married-civ-spouse   \n",
              "\n",
              "          occupation   relationship   race     sex  hoursperweek  \\\n",
              "0       Adm-clerical  Not-in-family  White    Male            40   \n",
              "1    Exec-managerial        Husband  White    Male            13   \n",
              "2  Handlers-cleaners  Not-in-family  White    Male            40   \n",
              "3  Handlers-cleaners        Husband  Black    Male            40   \n",
              "4     Prof-specialty           Wife  Black  Female            40   \n",
              "\n",
              "   nativecountry  incomeUSD  \n",
              "0  United-States      43747  \n",
              "1  United-States      38907  \n",
              "2  United-States      25055  \n",
              "3  United-States      26733  \n",
              "4           Cuba      23429  "
            ],
            "text/html": [
              "\n",
              "  <div id=\"df-d3906dd7-235d-4723-9be6-38796ec73d41\">\n",
              "    <div class=\"colab-df-container\">\n",
              "      <div>\n",
              "<style scoped>\n",
              "    .dataframe tbody tr th:only-of-type {\n",
              "        vertical-align: middle;\n",
              "    }\n",
              "\n",
              "    .dataframe tbody tr th {\n",
              "        vertical-align: top;\n",
              "    }\n",
              "\n",
              "    .dataframe thead th {\n",
              "        text-align: right;\n",
              "    }\n",
              "</style>\n",
              "<table border=\"1\" class=\"dataframe\">\n",
              "  <thead>\n",
              "    <tr style=\"text-align: right;\">\n",
              "      <th></th>\n",
              "      <th>age</th>\n",
              "      <th>workclass</th>\n",
              "      <th>education</th>\n",
              "      <th>educationyears</th>\n",
              "      <th>maritalstatus</th>\n",
              "      <th>occupation</th>\n",
              "      <th>relationship</th>\n",
              "      <th>race</th>\n",
              "      <th>sex</th>\n",
              "      <th>hoursperweek</th>\n",
              "      <th>nativecountry</th>\n",
              "      <th>incomeUSD</th>\n",
              "    </tr>\n",
              "  </thead>\n",
              "  <tbody>\n",
              "    <tr>\n",
              "      <th>0</th>\n",
              "      <td>39</td>\n",
              "      <td>State-gov</td>\n",
              "      <td>Bachelors</td>\n",
              "      <td>13</td>\n",
              "      <td>Never-married</td>\n",
              "      <td>Adm-clerical</td>\n",
              "      <td>Not-in-family</td>\n",
              "      <td>White</td>\n",
              "      <td>Male</td>\n",
              "      <td>40</td>\n",
              "      <td>United-States</td>\n",
              "      <td>43747</td>\n",
              "    </tr>\n",
              "    <tr>\n",
              "      <th>1</th>\n",
              "      <td>50</td>\n",
              "      <td>Self-emp-not-inc</td>\n",
              "      <td>Bachelors</td>\n",
              "      <td>13</td>\n",
              "      <td>Married-civ-spouse</td>\n",
              "      <td>Exec-managerial</td>\n",
              "      <td>Husband</td>\n",
              "      <td>White</td>\n",
              "      <td>Male</td>\n",
              "      <td>13</td>\n",
              "      <td>United-States</td>\n",
              "      <td>38907</td>\n",
              "    </tr>\n",
              "    <tr>\n",
              "      <th>2</th>\n",
              "      <td>38</td>\n",
              "      <td>Private</td>\n",
              "      <td>HS-grad</td>\n",
              "      <td>9</td>\n",
              "      <td>Divorced</td>\n",
              "      <td>Handlers-cleaners</td>\n",
              "      <td>Not-in-family</td>\n",
              "      <td>White</td>\n",
              "      <td>Male</td>\n",
              "      <td>40</td>\n",
              "      <td>United-States</td>\n",
              "      <td>25055</td>\n",
              "    </tr>\n",
              "    <tr>\n",
              "      <th>3</th>\n",
              "      <td>53</td>\n",
              "      <td>Private</td>\n",
              "      <td>11th</td>\n",
              "      <td>7</td>\n",
              "      <td>Married-civ-spouse</td>\n",
              "      <td>Handlers-cleaners</td>\n",
              "      <td>Husband</td>\n",
              "      <td>Black</td>\n",
              "      <td>Male</td>\n",
              "      <td>40</td>\n",
              "      <td>United-States</td>\n",
              "      <td>26733</td>\n",
              "    </tr>\n",
              "    <tr>\n",
              "      <th>4</th>\n",
              "      <td>28</td>\n",
              "      <td>Private</td>\n",
              "      <td>Bachelors</td>\n",
              "      <td>13</td>\n",
              "      <td>Married-civ-spouse</td>\n",
              "      <td>Prof-specialty</td>\n",
              "      <td>Wife</td>\n",
              "      <td>Black</td>\n",
              "      <td>Female</td>\n",
              "      <td>40</td>\n",
              "      <td>Cuba</td>\n",
              "      <td>23429</td>\n",
              "    </tr>\n",
              "  </tbody>\n",
              "</table>\n",
              "</div>\n",
              "      <button class=\"colab-df-convert\" onclick=\"convertToInteractive('df-d3906dd7-235d-4723-9be6-38796ec73d41')\"\n",
              "              title=\"Convert this dataframe to an interactive table.\"\n",
              "              style=\"display:none;\">\n",
              "        \n",
              "  <svg xmlns=\"http://www.w3.org/2000/svg\" height=\"24px\"viewBox=\"0 0 24 24\"\n",
              "       width=\"24px\">\n",
              "    <path d=\"M0 0h24v24H0V0z\" fill=\"none\"/>\n",
              "    <path d=\"M18.56 5.44l.94 2.06.94-2.06 2.06-.94-2.06-.94-.94-2.06-.94 2.06-2.06.94zm-11 1L8.5 8.5l.94-2.06 2.06-.94-2.06-.94L8.5 2.5l-.94 2.06-2.06.94zm10 10l.94 2.06.94-2.06 2.06-.94-2.06-.94-.94-2.06-.94 2.06-2.06.94z\"/><path d=\"M17.41 7.96l-1.37-1.37c-.4-.4-.92-.59-1.43-.59-.52 0-1.04.2-1.43.59L10.3 9.45l-7.72 7.72c-.78.78-.78 2.05 0 2.83L4 21.41c.39.39.9.59 1.41.59.51 0 1.02-.2 1.41-.59l7.78-7.78 2.81-2.81c.8-.78.8-2.07 0-2.86zM5.41 20L4 18.59l7.72-7.72 1.47 1.35L5.41 20z\"/>\n",
              "  </svg>\n",
              "      </button>\n",
              "      \n",
              "  <style>\n",
              "    .colab-df-container {\n",
              "      display:flex;\n",
              "      flex-wrap:wrap;\n",
              "      gap: 12px;\n",
              "    }\n",
              "\n",
              "    .colab-df-convert {\n",
              "      background-color: #E8F0FE;\n",
              "      border: none;\n",
              "      border-radius: 50%;\n",
              "      cursor: pointer;\n",
              "      display: none;\n",
              "      fill: #1967D2;\n",
              "      height: 32px;\n",
              "      padding: 0 0 0 0;\n",
              "      width: 32px;\n",
              "    }\n",
              "\n",
              "    .colab-df-convert:hover {\n",
              "      background-color: #E2EBFA;\n",
              "      box-shadow: 0px 1px 2px rgba(60, 64, 67, 0.3), 0px 1px 3px 1px rgba(60, 64, 67, 0.15);\n",
              "      fill: #174EA6;\n",
              "    }\n",
              "\n",
              "    [theme=dark] .colab-df-convert {\n",
              "      background-color: #3B4455;\n",
              "      fill: #D2E3FC;\n",
              "    }\n",
              "\n",
              "    [theme=dark] .colab-df-convert:hover {\n",
              "      background-color: #434B5C;\n",
              "      box-shadow: 0px 1px 3px 1px rgba(0, 0, 0, 0.15);\n",
              "      filter: drop-shadow(0px 1px 2px rgba(0, 0, 0, 0.3));\n",
              "      fill: #FFFFFF;\n",
              "    }\n",
              "  </style>\n",
              "\n",
              "      <script>\n",
              "        const buttonEl =\n",
              "          document.querySelector('#df-d3906dd7-235d-4723-9be6-38796ec73d41 button.colab-df-convert');\n",
              "        buttonEl.style.display =\n",
              "          google.colab.kernel.accessAllowed ? 'block' : 'none';\n",
              "\n",
              "        async function convertToInteractive(key) {\n",
              "          const element = document.querySelector('#df-d3906dd7-235d-4723-9be6-38796ec73d41');\n",
              "          const dataTable =\n",
              "            await google.colab.kernel.invokeFunction('convertToInteractive',\n",
              "                                                     [key], {});\n",
              "          if (!dataTable) return;\n",
              "\n",
              "          const docLinkHtml = 'Like what you see? Visit the ' +\n",
              "            '<a target=\"_blank\" href=https://colab.research.google.com/notebooks/data_table.ipynb>data table notebook</a>'\n",
              "            + ' to learn more about interactive tables.';\n",
              "          element.innerHTML = '';\n",
              "          dataTable['output_type'] = 'display_data';\n",
              "          await google.colab.output.renderOutput(dataTable, element);\n",
              "          const docLink = document.createElement('div');\n",
              "          docLink.innerHTML = docLinkHtml;\n",
              "          element.appendChild(docLink);\n",
              "        }\n",
              "      </script>\n",
              "    </div>\n",
              "  </div>\n",
              "  "
            ]
          },
          "metadata": {},
          "execution_count": 1
        }
      ],
      "source": [
        "import tensorflow as tf # This tells Colab that we are using TensorFlow\n",
        "\n",
        "from tensorflow import keras # This is the main TensorFlow library\n",
        "from tensorflow.keras import layers # We are building a Neural Network with several hidden layers\n",
        "from tensorflow.keras.layers.experimental import preprocessing\n",
        "\n",
        "print(\"Current TensorFlow version is\", tf.__version__)\n",
        "\n",
        "import numpy as np\n",
        "import pandas as pd \n",
        "import matplotlib.pyplot as plt\n",
        "import seaborn as sns # for visualization\n",
        "from sklearn.model_selection import train_test_split\n",
        "from sklearn.metrics import accuracy_score\n",
        "import warnings\n",
        "warnings.filterwarnings(\"ignore\")\n",
        "np.random.seed(42)\n",
        "\n",
        "#Reading in the data as adult dataframe\n",
        "adult = pd.read_csv(\"https://raw.githubusercontent.com/shstreuber/Data-Mining/master/data/adult.data.simplified.csv\")\n",
        "adult.head()"
      ]
    },
    {
      "cell_type": "markdown",
      "metadata": {
        "id": "svkCY-1t54q2"
      },
      "source": [
        "#**1. Exploratory Data Analysis**\n",
        "How many rows does the adult dataset have? What are the attribute types? What is the mean, median, and mode of the incomeUSD attribute? \n",
        "\n",
        "These are all questions to solve. Use the code rows below to find the answers:"
      ]
    },
    {
      "cell_type": "code",
      "execution_count": null,
      "metadata": {
        "colab": {
          "base_uri": "https://localhost:8080/",
          "height": 300
        },
        "id": "6TXu6Ud8y0Ro",
        "outputId": "4bd0fd4e-af1d-4110-d8a3-2584ed03a4d9"
      },
      "outputs": [
        {
          "output_type": "execute_result",
          "data": {
            "text/plain": [
              "                age  educationyears  hoursperweek      incomeUSD\n",
              "count  32561.000000    32561.000000  32561.000000   32561.000000\n",
              "mean      38.581647       10.080679     40.437456   56583.900587\n",
              "std       13.640433        2.572720     12.347429   44374.594314\n",
              "min       17.000000        1.000000      1.000000   20002.000000\n",
              "25%       28.000000        9.000000     40.000000   29994.000000\n",
              "50%       37.000000       10.000000     40.000000   39732.000000\n",
              "75%       48.000000       12.000000     45.000000   49631.000000\n",
              "max       90.000000       16.000000     99.000000  199965.000000"
            ],
            "text/html": [
              "\n",
              "  <div id=\"df-9afc9b74-9a19-4ed1-a00c-2274be36209e\">\n",
              "    <div class=\"colab-df-container\">\n",
              "      <div>\n",
              "<style scoped>\n",
              "    .dataframe tbody tr th:only-of-type {\n",
              "        vertical-align: middle;\n",
              "    }\n",
              "\n",
              "    .dataframe tbody tr th {\n",
              "        vertical-align: top;\n",
              "    }\n",
              "\n",
              "    .dataframe thead th {\n",
              "        text-align: right;\n",
              "    }\n",
              "</style>\n",
              "<table border=\"1\" class=\"dataframe\">\n",
              "  <thead>\n",
              "    <tr style=\"text-align: right;\">\n",
              "      <th></th>\n",
              "      <th>age</th>\n",
              "      <th>educationyears</th>\n",
              "      <th>hoursperweek</th>\n",
              "      <th>incomeUSD</th>\n",
              "    </tr>\n",
              "  </thead>\n",
              "  <tbody>\n",
              "    <tr>\n",
              "      <th>count</th>\n",
              "      <td>32561.000000</td>\n",
              "      <td>32561.000000</td>\n",
              "      <td>32561.000000</td>\n",
              "      <td>32561.000000</td>\n",
              "    </tr>\n",
              "    <tr>\n",
              "      <th>mean</th>\n",
              "      <td>38.581647</td>\n",
              "      <td>10.080679</td>\n",
              "      <td>40.437456</td>\n",
              "      <td>56583.900587</td>\n",
              "    </tr>\n",
              "    <tr>\n",
              "      <th>std</th>\n",
              "      <td>13.640433</td>\n",
              "      <td>2.572720</td>\n",
              "      <td>12.347429</td>\n",
              "      <td>44374.594314</td>\n",
              "    </tr>\n",
              "    <tr>\n",
              "      <th>min</th>\n",
              "      <td>17.000000</td>\n",
              "      <td>1.000000</td>\n",
              "      <td>1.000000</td>\n",
              "      <td>20002.000000</td>\n",
              "    </tr>\n",
              "    <tr>\n",
              "      <th>25%</th>\n",
              "      <td>28.000000</td>\n",
              "      <td>9.000000</td>\n",
              "      <td>40.000000</td>\n",
              "      <td>29994.000000</td>\n",
              "    </tr>\n",
              "    <tr>\n",
              "      <th>50%</th>\n",
              "      <td>37.000000</td>\n",
              "      <td>10.000000</td>\n",
              "      <td>40.000000</td>\n",
              "      <td>39732.000000</td>\n",
              "    </tr>\n",
              "    <tr>\n",
              "      <th>75%</th>\n",
              "      <td>48.000000</td>\n",
              "      <td>12.000000</td>\n",
              "      <td>45.000000</td>\n",
              "      <td>49631.000000</td>\n",
              "    </tr>\n",
              "    <tr>\n",
              "      <th>max</th>\n",
              "      <td>90.000000</td>\n",
              "      <td>16.000000</td>\n",
              "      <td>99.000000</td>\n",
              "      <td>199965.000000</td>\n",
              "    </tr>\n",
              "  </tbody>\n",
              "</table>\n",
              "</div>\n",
              "      <button class=\"colab-df-convert\" onclick=\"convertToInteractive('df-9afc9b74-9a19-4ed1-a00c-2274be36209e')\"\n",
              "              title=\"Convert this dataframe to an interactive table.\"\n",
              "              style=\"display:none;\">\n",
              "        \n",
              "  <svg xmlns=\"http://www.w3.org/2000/svg\" height=\"24px\"viewBox=\"0 0 24 24\"\n",
              "       width=\"24px\">\n",
              "    <path d=\"M0 0h24v24H0V0z\" fill=\"none\"/>\n",
              "    <path d=\"M18.56 5.44l.94 2.06.94-2.06 2.06-.94-2.06-.94-.94-2.06-.94 2.06-2.06.94zm-11 1L8.5 8.5l.94-2.06 2.06-.94-2.06-.94L8.5 2.5l-.94 2.06-2.06.94zm10 10l.94 2.06.94-2.06 2.06-.94-2.06-.94-.94-2.06-.94 2.06-2.06.94z\"/><path d=\"M17.41 7.96l-1.37-1.37c-.4-.4-.92-.59-1.43-.59-.52 0-1.04.2-1.43.59L10.3 9.45l-7.72 7.72c-.78.78-.78 2.05 0 2.83L4 21.41c.39.39.9.59 1.41.59.51 0 1.02-.2 1.41-.59l7.78-7.78 2.81-2.81c.8-.78.8-2.07 0-2.86zM5.41 20L4 18.59l7.72-7.72 1.47 1.35L5.41 20z\"/>\n",
              "  </svg>\n",
              "      </button>\n",
              "      \n",
              "  <style>\n",
              "    .colab-df-container {\n",
              "      display:flex;\n",
              "      flex-wrap:wrap;\n",
              "      gap: 12px;\n",
              "    }\n",
              "\n",
              "    .colab-df-convert {\n",
              "      background-color: #E8F0FE;\n",
              "      border: none;\n",
              "      border-radius: 50%;\n",
              "      cursor: pointer;\n",
              "      display: none;\n",
              "      fill: #1967D2;\n",
              "      height: 32px;\n",
              "      padding: 0 0 0 0;\n",
              "      width: 32px;\n",
              "    }\n",
              "\n",
              "    .colab-df-convert:hover {\n",
              "      background-color: #E2EBFA;\n",
              "      box-shadow: 0px 1px 2px rgba(60, 64, 67, 0.3), 0px 1px 3px 1px rgba(60, 64, 67, 0.15);\n",
              "      fill: #174EA6;\n",
              "    }\n",
              "\n",
              "    [theme=dark] .colab-df-convert {\n",
              "      background-color: #3B4455;\n",
              "      fill: #D2E3FC;\n",
              "    }\n",
              "\n",
              "    [theme=dark] .colab-df-convert:hover {\n",
              "      background-color: #434B5C;\n",
              "      box-shadow: 0px 1px 3px 1px rgba(0, 0, 0, 0.15);\n",
              "      filter: drop-shadow(0px 1px 2px rgba(0, 0, 0, 0.3));\n",
              "      fill: #FFFFFF;\n",
              "    }\n",
              "  </style>\n",
              "\n",
              "      <script>\n",
              "        const buttonEl =\n",
              "          document.querySelector('#df-9afc9b74-9a19-4ed1-a00c-2274be36209e button.colab-df-convert');\n",
              "        buttonEl.style.display =\n",
              "          google.colab.kernel.accessAllowed ? 'block' : 'none';\n",
              "\n",
              "        async function convertToInteractive(key) {\n",
              "          const element = document.querySelector('#df-9afc9b74-9a19-4ed1-a00c-2274be36209e');\n",
              "          const dataTable =\n",
              "            await google.colab.kernel.invokeFunction('convertToInteractive',\n",
              "                                                     [key], {});\n",
              "          if (!dataTable) return;\n",
              "\n",
              "          const docLinkHtml = 'Like what you see? Visit the ' +\n",
              "            '<a target=\"_blank\" href=https://colab.research.google.com/notebooks/data_table.ipynb>data table notebook</a>'\n",
              "            + ' to learn more about interactive tables.';\n",
              "          element.innerHTML = '';\n",
              "          dataTable['output_type'] = 'display_data';\n",
              "          await google.colab.output.renderOutput(dataTable, element);\n",
              "          const docLink = document.createElement('div');\n",
              "          docLink.innerHTML = docLinkHtml;\n",
              "          element.appendChild(docLink);\n",
              "        }\n",
              "      </script>\n",
              "    </div>\n",
              "  </div>\n",
              "  "
            ]
          },
          "metadata": {},
          "execution_count": 115
        }
      ],
      "source": [
        "adult.describe()"
      ]
    },
    {
      "cell_type": "code",
      "execution_count": null,
      "metadata": {
        "colab": {
          "base_uri": "https://localhost:8080/"
        },
        "id": "Cfx-mqha6c9z",
        "outputId": "592cd8f8-22e7-441f-9f96-2f46b1260e40"
      },
      "outputs": [
        {
          "data": {
            "text/plain": [
              "age                int64\n",
              "workclass         object\n",
              "education         object\n",
              "educationyears     int64\n",
              "maritalstatus     object\n",
              "occupation        object\n",
              "relationship      object\n",
              "race              object\n",
              "sex               object\n",
              "hoursperweek       int64\n",
              "nativecountry     object\n",
              "incomeUSD          int64\n",
              "dtype: object"
            ]
          },
          "execution_count": 8,
          "metadata": {},
          "output_type": "execute_result"
        }
      ],
      "source": [
        "adult.dtypes"
      ]
    },
    {
      "cell_type": "code",
      "execution_count": null,
      "metadata": {
        "colab": {
          "base_uri": "https://localhost:8080/"
        },
        "id": "cmMYxX7x6dzF",
        "outputId": "ac90b4d9-2bf8-4ca3-b0e5-cb9c8f465cad"
      },
      "outputs": [
        {
          "data": {
            "text/plain": [
              "0    29342\n",
              "1    42427\n",
              "Name: incomeUSD, dtype: int64"
            ]
          },
          "execution_count": 9,
          "metadata": {},
          "output_type": "execute_result"
        }
      ],
      "source": [
        "adult.incomeUSD.mode()"
      ]
    },
    {
      "cell_type": "markdown",
      "metadata": {
        "id": "lwar0tYH0EAC"
      },
      "source": [
        "answers:\n",
        "\n",
        "32561 rows\n",
        "\n",
        "age int, workclass obj, education obj, educationyears int, maritalstatus obj, occupation obj, relationship obj, race obj, sex obj, hoursperweek int, nativecountry obj, incomeUSD int\n",
        "\n",
        "incomeUSD mean 56,583 median 39,732 mode 42,427"
      ]
    },
    {
      "cell_type": "markdown",
      "metadata": {
        "id": "XYNfxVhB6efh"
      },
      "source": [
        "# **A2. Regression**\n",
        "As with the simple Neural Networks you have encountered already, preprocessing is a bit more involved than with, say, a Random Forest algorithm.\n",
        "<div>\n",
        "<center>\n",
        "<img src=\"https://raw.githubusercontent.com/shstreuber/Data-Mining/master/images/TF_Process1.png\" width=\"600\">\n",
        "</div>\n",
        "\n",
        "In our first case study, we will be working on Regression, which means we will be predicting ONE NUMBER, i.e. the expected IncomeUSD"
      ]
    },
    {
      "cell_type": "markdown",
      "metadata": {
        "id": "2uNkowDWq2ST"
      },
      "source": [
        "##**2.1 Reducing the Data**\n"
      ]
    },
    {
      "cell_type": "markdown",
      "metadata": {
        "id": "oFNTyz36EXjJ"
      },
      "source": [
        "##Your Turn\n",
        "You have done this before with the insurance dataset: Build an adult_dl dataset consisting of age, educationyears, race, hoursperweek, and incomeUSD as the class attribute"
      ]
    },
    {
      "cell_type": "code",
      "execution_count": null,
      "metadata": {
        "colab": {
          "base_uri": "https://localhost:8080/",
          "height": 206
        },
        "id": "-BM-pAfg72wF",
        "outputId": "5cdce5be-ea98-4d60-e35e-4ca0579b507e"
      },
      "outputs": [
        {
          "output_type": "execute_result",
          "data": {
            "text/plain": [
              "   age  educationyears   race  hoursperweek  incomeUSD\n",
              "0   39              13  White            40      43747\n",
              "1   50              13  White            13      38907\n",
              "2   38               9  White            40      25055\n",
              "3   53               7  Black            40      26733\n",
              "4   28              13  Black            40      23429"
            ],
            "text/html": [
              "\n",
              "  <div id=\"df-9ff79502-7edd-4642-b540-168549c931b6\">\n",
              "    <div class=\"colab-df-container\">\n",
              "      <div>\n",
              "<style scoped>\n",
              "    .dataframe tbody tr th:only-of-type {\n",
              "        vertical-align: middle;\n",
              "    }\n",
              "\n",
              "    .dataframe tbody tr th {\n",
              "        vertical-align: top;\n",
              "    }\n",
              "\n",
              "    .dataframe thead th {\n",
              "        text-align: right;\n",
              "    }\n",
              "</style>\n",
              "<table border=\"1\" class=\"dataframe\">\n",
              "  <thead>\n",
              "    <tr style=\"text-align: right;\">\n",
              "      <th></th>\n",
              "      <th>age</th>\n",
              "      <th>educationyears</th>\n",
              "      <th>race</th>\n",
              "      <th>hoursperweek</th>\n",
              "      <th>incomeUSD</th>\n",
              "    </tr>\n",
              "  </thead>\n",
              "  <tbody>\n",
              "    <tr>\n",
              "      <th>0</th>\n",
              "      <td>39</td>\n",
              "      <td>13</td>\n",
              "      <td>White</td>\n",
              "      <td>40</td>\n",
              "      <td>43747</td>\n",
              "    </tr>\n",
              "    <tr>\n",
              "      <th>1</th>\n",
              "      <td>50</td>\n",
              "      <td>13</td>\n",
              "      <td>White</td>\n",
              "      <td>13</td>\n",
              "      <td>38907</td>\n",
              "    </tr>\n",
              "    <tr>\n",
              "      <th>2</th>\n",
              "      <td>38</td>\n",
              "      <td>9</td>\n",
              "      <td>White</td>\n",
              "      <td>40</td>\n",
              "      <td>25055</td>\n",
              "    </tr>\n",
              "    <tr>\n",
              "      <th>3</th>\n",
              "      <td>53</td>\n",
              "      <td>7</td>\n",
              "      <td>Black</td>\n",
              "      <td>40</td>\n",
              "      <td>26733</td>\n",
              "    </tr>\n",
              "    <tr>\n",
              "      <th>4</th>\n",
              "      <td>28</td>\n",
              "      <td>13</td>\n",
              "      <td>Black</td>\n",
              "      <td>40</td>\n",
              "      <td>23429</td>\n",
              "    </tr>\n",
              "  </tbody>\n",
              "</table>\n",
              "</div>\n",
              "      <button class=\"colab-df-convert\" onclick=\"convertToInteractive('df-9ff79502-7edd-4642-b540-168549c931b6')\"\n",
              "              title=\"Convert this dataframe to an interactive table.\"\n",
              "              style=\"display:none;\">\n",
              "        \n",
              "  <svg xmlns=\"http://www.w3.org/2000/svg\" height=\"24px\"viewBox=\"0 0 24 24\"\n",
              "       width=\"24px\">\n",
              "    <path d=\"M0 0h24v24H0V0z\" fill=\"none\"/>\n",
              "    <path d=\"M18.56 5.44l.94 2.06.94-2.06 2.06-.94-2.06-.94-.94-2.06-.94 2.06-2.06.94zm-11 1L8.5 8.5l.94-2.06 2.06-.94-2.06-.94L8.5 2.5l-.94 2.06-2.06.94zm10 10l.94 2.06.94-2.06 2.06-.94-2.06-.94-.94-2.06-.94 2.06-2.06.94z\"/><path d=\"M17.41 7.96l-1.37-1.37c-.4-.4-.92-.59-1.43-.59-.52 0-1.04.2-1.43.59L10.3 9.45l-7.72 7.72c-.78.78-.78 2.05 0 2.83L4 21.41c.39.39.9.59 1.41.59.51 0 1.02-.2 1.41-.59l7.78-7.78 2.81-2.81c.8-.78.8-2.07 0-2.86zM5.41 20L4 18.59l7.72-7.72 1.47 1.35L5.41 20z\"/>\n",
              "  </svg>\n",
              "      </button>\n",
              "      \n",
              "  <style>\n",
              "    .colab-df-container {\n",
              "      display:flex;\n",
              "      flex-wrap:wrap;\n",
              "      gap: 12px;\n",
              "    }\n",
              "\n",
              "    .colab-df-convert {\n",
              "      background-color: #E8F0FE;\n",
              "      border: none;\n",
              "      border-radius: 50%;\n",
              "      cursor: pointer;\n",
              "      display: none;\n",
              "      fill: #1967D2;\n",
              "      height: 32px;\n",
              "      padding: 0 0 0 0;\n",
              "      width: 32px;\n",
              "    }\n",
              "\n",
              "    .colab-df-convert:hover {\n",
              "      background-color: #E2EBFA;\n",
              "      box-shadow: 0px 1px 2px rgba(60, 64, 67, 0.3), 0px 1px 3px 1px rgba(60, 64, 67, 0.15);\n",
              "      fill: #174EA6;\n",
              "    }\n",
              "\n",
              "    [theme=dark] .colab-df-convert {\n",
              "      background-color: #3B4455;\n",
              "      fill: #D2E3FC;\n",
              "    }\n",
              "\n",
              "    [theme=dark] .colab-df-convert:hover {\n",
              "      background-color: #434B5C;\n",
              "      box-shadow: 0px 1px 3px 1px rgba(0, 0, 0, 0.15);\n",
              "      filter: drop-shadow(0px 1px 2px rgba(0, 0, 0, 0.3));\n",
              "      fill: #FFFFFF;\n",
              "    }\n",
              "  </style>\n",
              "\n",
              "      <script>\n",
              "        const buttonEl =\n",
              "          document.querySelector('#df-9ff79502-7edd-4642-b540-168549c931b6 button.colab-df-convert');\n",
              "        buttonEl.style.display =\n",
              "          google.colab.kernel.accessAllowed ? 'block' : 'none';\n",
              "\n",
              "        async function convertToInteractive(key) {\n",
              "          const element = document.querySelector('#df-9ff79502-7edd-4642-b540-168549c931b6');\n",
              "          const dataTable =\n",
              "            await google.colab.kernel.invokeFunction('convertToInteractive',\n",
              "                                                     [key], {});\n",
              "          if (!dataTable) return;\n",
              "\n",
              "          const docLinkHtml = 'Like what you see? Visit the ' +\n",
              "            '<a target=\"_blank\" href=https://colab.research.google.com/notebooks/data_table.ipynb>data table notebook</a>'\n",
              "            + ' to learn more about interactive tables.';\n",
              "          element.innerHTML = '';\n",
              "          dataTable['output_type'] = 'display_data';\n",
              "          await google.colab.output.renderOutput(dataTable, element);\n",
              "          const docLink = document.createElement('div');\n",
              "          docLink.innerHTML = docLinkHtml;\n",
              "          element.appendChild(docLink);\n",
              "        }\n",
              "      </script>\n",
              "    </div>\n",
              "  </div>\n",
              "  "
            ]
          },
          "metadata": {},
          "execution_count": 2
        }
      ],
      "source": [
        "adult_dl = pd.DataFrame(adult, columns = ['age', 'educationyears', 'race','hoursperweek','incomeUSD'])\n",
        "adult_dl.head()"
      ]
    },
    {
      "cell_type": "markdown",
      "metadata": {
        "id": "ObVGq_Sg8C5N"
      },
      "source": [
        "##**2.2 Preparing the Data for use with TensorFlow**\n",
        "In this section, you will see that preparing data to work with a Deep Learning Neural Network requires the same kind of preprocessing that you have already encountered:\n",
        "\n"
      ]
    },
    {
      "cell_type": "markdown",
      "metadata": {
        "id": "5P5EQ9M1w_7j"
      },
      "source": [
        "### **2.2.1 Encoding Categorical Variables**\n",
        "Did you remember that Neural Networks (regular **and** in TensorFlow) require only numeric data? Well ... \"race\" is quite obviously categorical, so we need to convert it to one-hot format. We do this with pd.dummies()"
      ]
    },
    {
      "cell_type": "code",
      "execution_count": null,
      "metadata": {
        "colab": {
          "base_uri": "https://localhost:8080/",
          "height": 206
        },
        "id": "fsXwA597zKY4",
        "outputId": "12127bc2-9a37-4d21-b993-516449fdc884"
      },
      "outputs": [
        {
          "output_type": "execute_result",
          "data": {
            "text/plain": [
              "   age  educationyears  hoursperweek  incomeUSD  Amer-Indian-Eskimo  \\\n",
              "0   39              13            40      43747                   0   \n",
              "1   50              13            13      38907                   0   \n",
              "2   38               9            40      25055                   0   \n",
              "3   53               7            40      26733                   0   \n",
              "4   28              13            40      23429                   0   \n",
              "\n",
              "   Asian-Pac-Islander  Black  Other  White  \n",
              "0                   0      0      0      1  \n",
              "1                   0      0      0      1  \n",
              "2                   0      0      0      1  \n",
              "3                   0      1      0      0  \n",
              "4                   0      1      0      0  "
            ],
            "text/html": [
              "\n",
              "  <div id=\"df-10c7c70f-4a80-4f58-b5d2-abc64bb1cf7f\">\n",
              "    <div class=\"colab-df-container\">\n",
              "      <div>\n",
              "<style scoped>\n",
              "    .dataframe tbody tr th:only-of-type {\n",
              "        vertical-align: middle;\n",
              "    }\n",
              "\n",
              "    .dataframe tbody tr th {\n",
              "        vertical-align: top;\n",
              "    }\n",
              "\n",
              "    .dataframe thead th {\n",
              "        text-align: right;\n",
              "    }\n",
              "</style>\n",
              "<table border=\"1\" class=\"dataframe\">\n",
              "  <thead>\n",
              "    <tr style=\"text-align: right;\">\n",
              "      <th></th>\n",
              "      <th>age</th>\n",
              "      <th>educationyears</th>\n",
              "      <th>hoursperweek</th>\n",
              "      <th>incomeUSD</th>\n",
              "      <th>Amer-Indian-Eskimo</th>\n",
              "      <th>Asian-Pac-Islander</th>\n",
              "      <th>Black</th>\n",
              "      <th>Other</th>\n",
              "      <th>White</th>\n",
              "    </tr>\n",
              "  </thead>\n",
              "  <tbody>\n",
              "    <tr>\n",
              "      <th>0</th>\n",
              "      <td>39</td>\n",
              "      <td>13</td>\n",
              "      <td>40</td>\n",
              "      <td>43747</td>\n",
              "      <td>0</td>\n",
              "      <td>0</td>\n",
              "      <td>0</td>\n",
              "      <td>0</td>\n",
              "      <td>1</td>\n",
              "    </tr>\n",
              "    <tr>\n",
              "      <th>1</th>\n",
              "      <td>50</td>\n",
              "      <td>13</td>\n",
              "      <td>13</td>\n",
              "      <td>38907</td>\n",
              "      <td>0</td>\n",
              "      <td>0</td>\n",
              "      <td>0</td>\n",
              "      <td>0</td>\n",
              "      <td>1</td>\n",
              "    </tr>\n",
              "    <tr>\n",
              "      <th>2</th>\n",
              "      <td>38</td>\n",
              "      <td>9</td>\n",
              "      <td>40</td>\n",
              "      <td>25055</td>\n",
              "      <td>0</td>\n",
              "      <td>0</td>\n",
              "      <td>0</td>\n",
              "      <td>0</td>\n",
              "      <td>1</td>\n",
              "    </tr>\n",
              "    <tr>\n",
              "      <th>3</th>\n",
              "      <td>53</td>\n",
              "      <td>7</td>\n",
              "      <td>40</td>\n",
              "      <td>26733</td>\n",
              "      <td>0</td>\n",
              "      <td>0</td>\n",
              "      <td>1</td>\n",
              "      <td>0</td>\n",
              "      <td>0</td>\n",
              "    </tr>\n",
              "    <tr>\n",
              "      <th>4</th>\n",
              "      <td>28</td>\n",
              "      <td>13</td>\n",
              "      <td>40</td>\n",
              "      <td>23429</td>\n",
              "      <td>0</td>\n",
              "      <td>0</td>\n",
              "      <td>1</td>\n",
              "      <td>0</td>\n",
              "      <td>0</td>\n",
              "    </tr>\n",
              "  </tbody>\n",
              "</table>\n",
              "</div>\n",
              "      <button class=\"colab-df-convert\" onclick=\"convertToInteractive('df-10c7c70f-4a80-4f58-b5d2-abc64bb1cf7f')\"\n",
              "              title=\"Convert this dataframe to an interactive table.\"\n",
              "              style=\"display:none;\">\n",
              "        \n",
              "  <svg xmlns=\"http://www.w3.org/2000/svg\" height=\"24px\"viewBox=\"0 0 24 24\"\n",
              "       width=\"24px\">\n",
              "    <path d=\"M0 0h24v24H0V0z\" fill=\"none\"/>\n",
              "    <path d=\"M18.56 5.44l.94 2.06.94-2.06 2.06-.94-2.06-.94-.94-2.06-.94 2.06-2.06.94zm-11 1L8.5 8.5l.94-2.06 2.06-.94-2.06-.94L8.5 2.5l-.94 2.06-2.06.94zm10 10l.94 2.06.94-2.06 2.06-.94-2.06-.94-.94-2.06-.94 2.06-2.06.94z\"/><path d=\"M17.41 7.96l-1.37-1.37c-.4-.4-.92-.59-1.43-.59-.52 0-1.04.2-1.43.59L10.3 9.45l-7.72 7.72c-.78.78-.78 2.05 0 2.83L4 21.41c.39.39.9.59 1.41.59.51 0 1.02-.2 1.41-.59l7.78-7.78 2.81-2.81c.8-.78.8-2.07 0-2.86zM5.41 20L4 18.59l7.72-7.72 1.47 1.35L5.41 20z\"/>\n",
              "  </svg>\n",
              "      </button>\n",
              "      \n",
              "  <style>\n",
              "    .colab-df-container {\n",
              "      display:flex;\n",
              "      flex-wrap:wrap;\n",
              "      gap: 12px;\n",
              "    }\n",
              "\n",
              "    .colab-df-convert {\n",
              "      background-color: #E8F0FE;\n",
              "      border: none;\n",
              "      border-radius: 50%;\n",
              "      cursor: pointer;\n",
              "      display: none;\n",
              "      fill: #1967D2;\n",
              "      height: 32px;\n",
              "      padding: 0 0 0 0;\n",
              "      width: 32px;\n",
              "    }\n",
              "\n",
              "    .colab-df-convert:hover {\n",
              "      background-color: #E2EBFA;\n",
              "      box-shadow: 0px 1px 2px rgba(60, 64, 67, 0.3), 0px 1px 3px 1px rgba(60, 64, 67, 0.15);\n",
              "      fill: #174EA6;\n",
              "    }\n",
              "\n",
              "    [theme=dark] .colab-df-convert {\n",
              "      background-color: #3B4455;\n",
              "      fill: #D2E3FC;\n",
              "    }\n",
              "\n",
              "    [theme=dark] .colab-df-convert:hover {\n",
              "      background-color: #434B5C;\n",
              "      box-shadow: 0px 1px 3px 1px rgba(0, 0, 0, 0.15);\n",
              "      filter: drop-shadow(0px 1px 2px rgba(0, 0, 0, 0.3));\n",
              "      fill: #FFFFFF;\n",
              "    }\n",
              "  </style>\n",
              "\n",
              "      <script>\n",
              "        const buttonEl =\n",
              "          document.querySelector('#df-10c7c70f-4a80-4f58-b5d2-abc64bb1cf7f button.colab-df-convert');\n",
              "        buttonEl.style.display =\n",
              "          google.colab.kernel.accessAllowed ? 'block' : 'none';\n",
              "\n",
              "        async function convertToInteractive(key) {\n",
              "          const element = document.querySelector('#df-10c7c70f-4a80-4f58-b5d2-abc64bb1cf7f');\n",
              "          const dataTable =\n",
              "            await google.colab.kernel.invokeFunction('convertToInteractive',\n",
              "                                                     [key], {});\n",
              "          if (!dataTable) return;\n",
              "\n",
              "          const docLinkHtml = 'Like what you see? Visit the ' +\n",
              "            '<a target=\"_blank\" href=https://colab.research.google.com/notebooks/data_table.ipynb>data table notebook</a>'\n",
              "            + ' to learn more about interactive tables.';\n",
              "          element.innerHTML = '';\n",
              "          dataTable['output_type'] = 'display_data';\n",
              "          await google.colab.output.renderOutput(dataTable, element);\n",
              "          const docLink = document.createElement('div');\n",
              "          docLink.innerHTML = docLinkHtml;\n",
              "          element.appendChild(docLink);\n",
              "        }\n",
              "      </script>\n",
              "    </div>\n",
              "  </div>\n",
              "  "
            ]
          },
          "metadata": {},
          "execution_count": 3
        }
      ],
      "source": [
        "adult_dl = pd.get_dummies(adult_dl, columns=['race'], prefix='', prefix_sep='')\n",
        "adult_dl.head()"
      ]
    },
    {
      "cell_type": "markdown",
      "metadata": {
        "id": "ZEmkap4x2HKb"
      },
      "source": [
        "### **2.2.2 Splitting into Training and Test Set**\n",
        "We will do this first since we will want to reduce the amount of data that we will have to normalize."
      ]
    },
    {
      "cell_type": "code",
      "execution_count": null,
      "metadata": {
        "id": "VDuoUaeU2Tfm"
      },
      "outputs": [],
      "source": [
        "train_dataset = adult_dl.sample(frac=0.8, random_state=0)\n",
        "test_dataset = adult_dl.drop(train_dataset.index)"
      ]
    },
    {
      "cell_type": "markdown",
      "metadata": {
        "id": "PefhBuEj2nHW"
      },
      "source": [
        "### **2.2.3 Splitting Features from Labels**\n",
        "Separate the target value, the \"label\", from the features. This label is the value that you will train the model to predict--in our case, we want to predict incomeUSD."
      ]
    },
    {
      "cell_type": "code",
      "execution_count": null,
      "metadata": {
        "id": "DOaQmB3L2vKj"
      },
      "outputs": [],
      "source": [
        "train_features = train_dataset.copy()\n",
        "test_features = test_dataset.copy()\n",
        "\n",
        "train_labels = train_features.pop('incomeUSD')\n",
        "test_labels = test_features.pop('incomeUSD')"
      ]
    },
    {
      "cell_type": "markdown",
      "metadata": {
        "id": "tXou63hL1Gg_"
      },
      "source": [
        "### **2.2.4 Normalizing**\n",
        "Except for age and educationyears, which are both measured in years, all other variables are measured in **different units**. This also puts them on **different scales**. Since, in a Neural Network, we need all our values on the **same scale**, so that the weights can be applied uniformly, we need to normalize! One reason this is important is because the features are multiplied by the model weights. So the scale of the outputs and the scale of the gradients are affected by the scale of the inputs.\n",
        "\n",
        "The [**preprocessing.Normalization layer**](https://www.tensorflow.org/api_docs/python/tf/keras/layers/experimental/preprocessing/Normalization) is a clean and simple way to build that preprocessing into your model. And YES--by creating the normalization layer, you effectively just started building your TensorFlow model:"
      ]
    },
    {
      "cell_type": "code",
      "execution_count": null,
      "metadata": {
        "id": "u3zzDTud1vxI"
      },
      "outputs": [],
      "source": [
        "normalizer = preprocessing.Normalization(axis=-1)"
      ]
    },
    {
      "cell_type": "markdown",
      "metadata": {
        "id": "b1Mw1Ptl4KTp"
      },
      "source": [
        "Now we apply the normalizer to the data:"
      ]
    },
    {
      "cell_type": "code",
      "execution_count": null,
      "metadata": {
        "id": "iFxkYAQs4N6V"
      },
      "outputs": [],
      "source": [
        "normalizer.adapt(np.array(train_features))"
      ]
    },
    {
      "cell_type": "markdown",
      "metadata": {
        "id": "3b2bfnyc4Soc"
      },
      "source": [
        "This calculates the mean and variance, and stores them in the layer."
      ]
    },
    {
      "cell_type": "code",
      "execution_count": null,
      "metadata": {
        "colab": {
          "base_uri": "https://localhost:8080/"
        },
        "id": "iFuXKv-M4YL5",
        "outputId": "04398ffa-a648-40ec-b100-421b71c56edf"
      },
      "outputs": [
        {
          "output_type": "stream",
          "name": "stdout",
          "text": [
            "[[3.8507965e+01 1.0091838e+01 4.0392166e+01 9.2134075e-03 3.2746013e-02\n",
            "  9.5973052e-02 8.4840171e-03 8.5358381e-01]]\n"
          ]
        }
      ],
      "source": [
        "print(normalizer.mean.numpy())"
      ]
    },
    {
      "cell_type": "markdown",
      "metadata": {
        "id": "twvUHFO_4hC3"
      },
      "source": [
        "When the layer is called it returns the input data, with each feature independently normalized:"
      ]
    },
    {
      "cell_type": "code",
      "execution_count": null,
      "metadata": {
        "colab": {
          "base_uri": "https://localhost:8080/"
        },
        "id": "dqt9CbSR4iao",
        "outputId": "30a587cc-5495-4893-e69d-cf682a8f7adc"
      },
      "outputs": [
        {
          "output_type": "stream",
          "name": "stdout",
          "text": [
            "Original data: [[27 10 44  0  0  0  0  1]]\n",
            "\n",
            "Normalized data: [[-0.84 -0.04  0.29 -0.1  -0.18 -0.33 -0.09  0.41]]\n"
          ]
        }
      ],
      "source": [
        "first = np.array(train_features[:1])\n",
        "\n",
        "with np.printoptions(precision=2, suppress=True):\n",
        "  print('Original data:', first)\n",
        "  print()\n",
        "  print('Normalized data:', normalizer(first).numpy())"
      ]
    },
    {
      "cell_type": "markdown",
      "metadata": {
        "id": "VS323LJk40_b"
      },
      "source": [
        "# **A3. Building the Models**\n",
        "There is always a specific process with which to build a TensorFlow model:\n",
        "<div>\n",
        "<center>\n",
        "<img src=\"https://raw.githubusercontent.com/shstreuber/Data-Mining/master/images/TF_Process2.png\" width=\"600\">\n",
        "</div>\n",
        "\n",
        "1. First, we set up the **keras SEQUENTIAL MODEL**. This is the framework inside of which we are going to define the layers. Sequential = layers are sequentially next to each other (either “stacked” or left-to-right, depending on how you draw them).\n",
        "---\n",
        "2. Inside the Sequential model, we define the **LAYERS**. To do this, we need to know the following:\n",
        "* **Shape**: This is the number of attributes we use as input for the model\n",
        "---\n",
        "3. In the next step, we define HOW we want the model to run, that is to **COMPILE**, with model.compile(). To do this, we need to know the following:\n",
        "* **Optimizer** = gradient descent function (i.e. which function we use to optimize the step-down of the weights); adam = adaptive learning rate optimization algorithm\n",
        "* **Loss Function**= evaluation of the ŷ vs the ground truth\n",
        "* **Metrics** = evaluation criterion, here accuracy.\n",
        "---\n",
        "4. Then, we **FIT** the model to the training set with model.fit(). To do this, we need to know the following:\n",
        "* **Epoch**: One Epoch is when an ENTIRE dataset is passed forward and backward through the neural network only ONCE. If one epoch is too big to feed to the computer at once we can divide it in several smaller batches\n",
        "* **Batch size**: Depending on the number of needed features in your dataset (you should reduce these to NO MORE THAN 6), the computing effort can be too intense. Just like you would not each a whole sandwich in one bite, the machine does better when processing the data in smaller bites called batches. The standard batch size is 32.\n",
        "---\n",
        "5. Lastly (and in purple!), we use our model to **PREDICT** the values for the test set with model.predict()\n",
        "---\n",
        "**How we choose the LOSS FUNCTION** for step 3 depends on the type of calculation we need our Neural Network to perform:\n",
        "* If the output variable is **continuous**, we are performing a regression, so the loss function is **mean squared error or MSE**\n",
        "* If the output variable is **binary**, we are performing a classification, so the loss function is **binary_crossentropy**\n",
        "* If the output variable is **categorical** with more than two labels, we are still performing a classification, but now the loss function is **categorical_crossentropy**\n",
        "\n"
      ]
    },
    {
      "cell_type": "markdown",
      "metadata": {
        "id": "Fi1HyF7z44HR"
      },
      "source": [
        "##**3.1 REGRESSION: Using one Variable to predict incomeUSD in a Simple Neural Network**\n",
        "We will use age to predict incomeUSD. To do so, we will use a keras.Sequential model. This model represents a sequence of steps. In this case there are two steps:\n",
        "\n",
        "1. Normalize the input ['age'].\n",
        "2. Apply a linear transformation () to produce 1 output using layers.Dense.\n",
        "\n",
        "The number of inputs can either be set by the input_shape argument, or automatically when the model is run for the first time."
      ]
    },
    {
      "cell_type": "code",
      "execution_count": null,
      "metadata": {
        "id": "K-FrbA9NBRgK"
      },
      "outputs": [],
      "source": [
        "# First, we build the normalization layer:\n",
        "age_new = np.array(train_features['age'])\n",
        "\n",
        "age_normalizer = preprocessing.Normalization(input_shape=[1,], axis=None)\n",
        "age_normalizer.adapt(age_new)"
      ]
    },
    {
      "cell_type": "code",
      "execution_count": null,
      "metadata": {
        "colab": {
          "base_uri": "https://localhost:8080/"
        },
        "id": "zBgORl4A_M-3",
        "outputId": "3e46be6f-5c3a-478e-d52c-31aa09b19677"
      },
      "outputs": [
        {
          "output_type": "stream",
          "name": "stdout",
          "text": [
            "Model: \"sequential_8\"\n",
            "_________________________________________________________________\n",
            " Layer (type)                Output Shape              Param #   \n",
            "=================================================================\n",
            " normalization_6 (Normalizat  (None, 1)                3         \n",
            " ion)                                                            \n",
            "                                                                 \n",
            " dense_14 (Dense)            (None, 1)                 2         \n",
            "                                                                 \n",
            "=================================================================\n",
            "Total params: 5\n",
            "Trainable params: 2\n",
            "Non-trainable params: 3\n",
            "_________________________________________________________________\n"
          ]
        }
      ],
      "source": [
        "# Now we build the framework that holds all the models:\n",
        "age_model = tf.keras.Sequential([\n",
        "    age_normalizer,\n",
        "    layers.Dense(units=1)\n",
        "])\n",
        "\n",
        "age_model.summary()"
      ]
    },
    {
      "cell_type": "markdown",
      "metadata": {
        "id": "Uc5_BniXDdSU"
      },
      "source": [
        "Do you see how the Output Shape contains 1? That's only one layer, so a Simple Neural Network. \n",
        "\n",
        "Now we can configure the training procedure using the Model.compile() method. The most important arguments to compile are the loss and the optimizer since these define what will be optimized (mean_absolute_error) and how (using the [optimizers.Adam](https://www.tensorflow.org/api_docs/python/tf/keras/optimizers/Adam))."
      ]
    },
    {
      "cell_type": "code",
      "execution_count": null,
      "metadata": {
        "id": "7zL3vNLLDiO3"
      },
      "outputs": [],
      "source": [
        "age_model.compile(\n",
        "    optimizer=tf.optimizers.Adam(learning_rate=0.9),\n",
        "    loss='mean_absolute_error')"
      ]
    },
    {
      "cell_type": "markdown",
      "metadata": {
        "id": "d1AxoAvHDtqa"
      },
      "source": [
        "Once the model is configured, we use Model.fit() to train it (give this about 1-2 minutes):"
      ]
    },
    {
      "cell_type": "code",
      "execution_count": null,
      "metadata": {
        "colab": {
          "base_uri": "https://localhost:8080/"
        },
        "id": "jCFlvfrMDiWs",
        "outputId": "d5ea8bcc-f3c5-4da8-ae23-9a26c3a5389d"
      },
      "outputs": [
        {
          "output_type": "stream",
          "name": "stdout",
          "text": [
            "Epoch 1/100\n",
            "652/652 [==============================] - 1s 1ms/step - loss: 56669.4141 - val_loss: 55204.1406\n",
            "Epoch 2/100\n",
            "652/652 [==============================] - 1s 1ms/step - loss: 56082.6406 - val_loss: 54617.3164\n",
            "Epoch 3/100\n",
            "652/652 [==============================] - 1s 1ms/step - loss: 55495.8047 - val_loss: 54030.5391\n",
            "Epoch 4/100\n",
            "652/652 [==============================] - 1s 1ms/step - loss: 54908.9844 - val_loss: 53443.8398\n",
            "Epoch 5/100\n",
            "652/652 [==============================] - 1s 1ms/step - loss: 54322.2891 - val_loss: 52857.0781\n",
            "Epoch 6/100\n",
            "652/652 [==============================] - 1s 1ms/step - loss: 53735.5430 - val_loss: 52270.3984\n",
            "Epoch 7/100\n",
            "652/652 [==============================] - 1s 1ms/step - loss: 53148.7773 - val_loss: 51683.6914\n",
            "Epoch 8/100\n",
            "652/652 [==============================] - 1s 1ms/step - loss: 52561.9883 - val_loss: 51097.0117\n",
            "Epoch 9/100\n",
            "652/652 [==============================] - 1s 1ms/step - loss: 51975.2734 - val_loss: 50510.2891\n",
            "Epoch 10/100\n",
            "652/652 [==============================] - 1s 1ms/step - loss: 51388.5586 - val_loss: 49923.5820\n",
            "Epoch 11/100\n",
            "652/652 [==============================] - 1s 2ms/step - loss: 50801.7578 - val_loss: 49336.9102\n",
            "Epoch 12/100\n",
            "652/652 [==============================] - 1s 2ms/step - loss: 50215.0352 - val_loss: 48750.1914\n",
            "Epoch 13/100\n",
            "652/652 [==============================] - 1s 1ms/step - loss: 49628.2773 - val_loss: 48163.4961\n",
            "Epoch 14/100\n",
            "652/652 [==============================] - 1s 1ms/step - loss: 49041.5352 - val_loss: 47576.7852\n",
            "Epoch 15/100\n",
            "652/652 [==============================] - 1s 1ms/step - loss: 48454.6602 - val_loss: 46989.7500\n",
            "Epoch 16/100\n",
            "652/652 [==============================] - 1s 1ms/step - loss: 47867.5547 - val_loss: 46402.7461\n",
            "Epoch 17/100\n",
            "652/652 [==============================] - 1s 1ms/step - loss: 47280.5078 - val_loss: 45815.7148\n",
            "Epoch 18/100\n",
            "652/652 [==============================] - 1s 1ms/step - loss: 46693.4062 - val_loss: 45228.6875\n",
            "Epoch 19/100\n",
            "652/652 [==============================] - 1s 1ms/step - loss: 46106.3711 - val_loss: 44641.6719\n",
            "Epoch 20/100\n",
            "652/652 [==============================] - 1s 1ms/step - loss: 45519.3242 - val_loss: 44054.6328\n",
            "Epoch 21/100\n",
            "652/652 [==============================] - 1s 1ms/step - loss: 44932.2461 - val_loss: 43467.6211\n",
            "Epoch 22/100\n",
            "652/652 [==============================] - 1s 1ms/step - loss: 44345.1953 - val_loss: 42880.6055\n",
            "Epoch 23/100\n",
            "652/652 [==============================] - 1s 2ms/step - loss: 43758.1133 - val_loss: 42293.5508\n",
            "Epoch 24/100\n",
            "652/652 [==============================] - 1s 2ms/step - loss: 43171.0781 - val_loss: 41706.5117\n",
            "Epoch 25/100\n",
            "652/652 [==============================] - 1s 2ms/step - loss: 42584.0039 - val_loss: 41119.5039\n",
            "Epoch 26/100\n",
            "652/652 [==============================] - 1s 1ms/step - loss: 41996.9375 - val_loss: 40532.4805\n",
            "Epoch 27/100\n",
            "652/652 [==============================] - 1s 1ms/step - loss: 41409.8633 - val_loss: 39945.4766\n",
            "Epoch 28/100\n",
            "652/652 [==============================] - 1s 1ms/step - loss: 40822.8359 - val_loss: 39358.4414\n",
            "Epoch 29/100\n",
            "652/652 [==============================] - 1s 1ms/step - loss: 40235.7305 - val_loss: 38771.4180\n",
            "Epoch 30/100\n",
            "652/652 [==============================] - 1s 1ms/step - loss: 39648.6875 - val_loss: 38184.3789\n",
            "Epoch 31/100\n",
            "652/652 [==============================] - 1s 1ms/step - loss: 39061.6406 - val_loss: 37597.3945\n",
            "Epoch 32/100\n",
            "652/652 [==============================] - 1s 1ms/step - loss: 38474.5938 - val_loss: 37010.3594\n",
            "Epoch 33/100\n",
            "652/652 [==============================] - 1s 1ms/step - loss: 37887.4766 - val_loss: 36423.3242\n",
            "Epoch 34/100\n",
            "652/652 [==============================] - 1s 2ms/step - loss: 37300.5938 - val_loss: 35836.8281\n",
            "Epoch 35/100\n",
            "652/652 [==============================] - 1s 1ms/step - loss: 36718.6953 - val_loss: 35262.1953\n",
            "Epoch 36/100\n",
            "652/652 [==============================] - 1s 1ms/step - loss: 36159.0664 - val_loss: 34713.1406\n",
            "Epoch 37/100\n",
            "652/652 [==============================] - 1s 2ms/step - loss: 35624.1875 - val_loss: 34186.2891\n",
            "Epoch 38/100\n",
            "652/652 [==============================] - 1s 1ms/step - loss: 35111.7148 - val_loss: 33677.4922\n",
            "Epoch 39/100\n",
            "652/652 [==============================] - 1s 1ms/step - loss: 34616.6641 - val_loss: 33186.8945\n",
            "Epoch 40/100\n",
            "652/652 [==============================] - 1s 1ms/step - loss: 34138.1992 - val_loss: 32713.9707\n",
            "Epoch 41/100\n",
            "652/652 [==============================] - 1s 1ms/step - loss: 33674.4805 - val_loss: 32254.5820\n",
            "Epoch 42/100\n",
            "652/652 [==============================] - 1s 1ms/step - loss: 33227.6602 - val_loss: 31812.3242\n",
            "Epoch 43/100\n",
            "652/652 [==============================] - 1s 1ms/step - loss: 32797.0117 - val_loss: 31385.1328\n",
            "Epoch 44/100\n",
            "652/652 [==============================] - 1s 1ms/step - loss: 32381.6289 - val_loss: 30974.2773\n",
            "Epoch 45/100\n",
            "652/652 [==============================] - 1s 1ms/step - loss: 31981.4570 - val_loss: 30582.5684\n",
            "Epoch 46/100\n",
            "652/652 [==============================] - 1s 1ms/step - loss: 31597.7266 - val_loss: 30207.6406\n",
            "Epoch 47/100\n",
            "652/652 [==============================] - 1s 1ms/step - loss: 31231.0293 - val_loss: 29848.0605\n",
            "Epoch 48/100\n",
            "652/652 [==============================] - 1s 1ms/step - loss: 30882.0371 - val_loss: 29505.7207\n",
            "Epoch 49/100\n",
            "652/652 [==============================] - 1s 1ms/step - loss: 30549.6797 - val_loss: 29179.6582\n",
            "Epoch 50/100\n",
            "652/652 [==============================] - 1s 2ms/step - loss: 30233.8262 - val_loss: 28869.9668\n",
            "Epoch 51/100\n",
            "652/652 [==============================] - 1s 2ms/step - loss: 29935.1914 - val_loss: 28572.6152\n",
            "Epoch 52/100\n",
            "652/652 [==============================] - 1s 1ms/step - loss: 29652.3281 - val_loss: 28289.3457\n",
            "Epoch 53/100\n",
            "652/652 [==============================] - 1s 1ms/step - loss: 29384.4609 - val_loss: 28022.8398\n",
            "Epoch 54/100\n",
            "652/652 [==============================] - 1s 1ms/step - loss: 29133.1504 - val_loss: 27774.3008\n",
            "Epoch 55/100\n",
            "652/652 [==============================] - 1s 2ms/step - loss: 28896.1152 - val_loss: 27542.2793\n",
            "Epoch 56/100\n",
            "652/652 [==============================] - 1s 2ms/step - loss: 28672.5684 - val_loss: 27326.3691\n",
            "Epoch 57/100\n",
            "652/652 [==============================] - 1s 1ms/step - loss: 28463.7266 - val_loss: 27127.9316\n",
            "Epoch 58/100\n",
            "652/652 [==============================] - 1s 1ms/step - loss: 28271.7344 - val_loss: 26946.3438\n",
            "Epoch 59/100\n",
            "652/652 [==============================] - 1s 1ms/step - loss: 28094.8047 - val_loss: 26781.6445\n",
            "Epoch 60/100\n",
            "652/652 [==============================] - 1s 1ms/step - loss: 27930.9375 - val_loss: 26629.2637\n",
            "Epoch 61/100\n",
            "652/652 [==============================] - 1s 1ms/step - loss: 27781.2148 - val_loss: 26491.4004\n",
            "Epoch 62/100\n",
            "652/652 [==============================] - 1s 1ms/step - loss: 27646.4590 - val_loss: 26367.6934\n",
            "Epoch 63/100\n",
            "652/652 [==============================] - 1s 2ms/step - loss: 27525.2090 - val_loss: 26257.2988\n",
            "Epoch 64/100\n",
            "652/652 [==============================] - 1s 2ms/step - loss: 27416.6133 - val_loss: 26159.6445\n",
            "Epoch 65/100\n",
            "652/652 [==============================] - 1s 1ms/step - loss: 27320.4629 - val_loss: 26072.2852\n",
            "Epoch 66/100\n",
            "652/652 [==============================] - 1s 1ms/step - loss: 27237.0449 - val_loss: 25998.6211\n",
            "Epoch 67/100\n",
            "652/652 [==============================] - 1s 1ms/step - loss: 27165.7324 - val_loss: 25935.6074\n",
            "Epoch 68/100\n",
            "652/652 [==============================] - 1s 1ms/step - loss: 27105.3906 - val_loss: 25882.7363\n",
            "Epoch 69/100\n",
            "652/652 [==============================] - 1s 1ms/step - loss: 27053.7227 - val_loss: 25837.0820\n",
            "Epoch 70/100\n",
            "652/652 [==============================] - 1s 1ms/step - loss: 27009.8086 - val_loss: 25799.8281\n",
            "Epoch 71/100\n",
            "652/652 [==============================] - 1s 1ms/step - loss: 26974.0781 - val_loss: 25768.7871\n",
            "Epoch 72/100\n",
            "652/652 [==============================] - 1s 1ms/step - loss: 26945.3145 - val_loss: 25743.5938\n",
            "Epoch 73/100\n",
            "652/652 [==============================] - 1s 1ms/step - loss: 26922.5879 - val_loss: 25723.1621\n",
            "Epoch 74/100\n",
            "652/652 [==============================] - 1s 1ms/step - loss: 26905.0762 - val_loss: 25708.0820\n",
            "Epoch 75/100\n",
            "652/652 [==============================] - 1s 1ms/step - loss: 26891.5078 - val_loss: 25696.7070\n",
            "Epoch 76/100\n",
            "652/652 [==============================] - 1s 2ms/step - loss: 26881.4492 - val_loss: 25688.0859\n",
            "Epoch 77/100\n",
            "652/652 [==============================] - 1s 2ms/step - loss: 26873.8691 - val_loss: 25681.7246\n",
            "Epoch 78/100\n",
            "652/652 [==============================] - 1s 1ms/step - loss: 26868.4707 - val_loss: 25677.1406\n",
            "Epoch 79/100\n",
            "652/652 [==============================] - 1s 1ms/step - loss: 26864.7637 - val_loss: 25673.6250\n",
            "Epoch 80/100\n",
            "652/652 [==============================] - 1s 1ms/step - loss: 26862.0762 - val_loss: 25671.3145\n",
            "Epoch 81/100\n",
            "652/652 [==============================] - 1s 1ms/step - loss: 26860.3047 - val_loss: 25669.7344\n",
            "Epoch 82/100\n",
            "652/652 [==============================] - 1s 1ms/step - loss: 26859.0234 - val_loss: 25668.6094\n",
            "Epoch 83/100\n",
            "652/652 [==============================] - 1s 1ms/step - loss: 26857.9766 - val_loss: 25667.7637\n",
            "Epoch 84/100\n",
            "652/652 [==============================] - 1s 1ms/step - loss: 26857.2695 - val_loss: 25667.1523\n",
            "Epoch 85/100\n",
            "652/652 [==============================] - 1s 1ms/step - loss: 26856.7324 - val_loss: 25666.6504\n",
            "Epoch 86/100\n",
            "652/652 [==============================] - 1s 1ms/step - loss: 26856.3340 - val_loss: 25666.2949\n",
            "Epoch 87/100\n",
            "652/652 [==============================] - 1s 1ms/step - loss: 26856.1211 - val_loss: 25666.0957\n",
            "Epoch 88/100\n",
            "652/652 [==============================] - 1s 1ms/step - loss: 26855.9551 - val_loss: 25665.9648\n",
            "Epoch 89/100\n",
            "652/652 [==============================] - 1s 1ms/step - loss: 26855.8398 - val_loss: 25665.8496\n",
            "Epoch 90/100\n",
            "652/652 [==============================] - 1s 2ms/step - loss: 26855.7129 - val_loss: 25665.7441\n",
            "Epoch 91/100\n",
            "652/652 [==============================] - 1s 2ms/step - loss: 26855.7031 - val_loss: 25665.6992\n",
            "Epoch 92/100\n",
            "652/652 [==============================] - 1s 1ms/step - loss: 26855.6523 - val_loss: 25665.6367\n",
            "Epoch 93/100\n",
            "652/652 [==============================] - 1s 1ms/step - loss: 26855.5566 - val_loss: 25665.5977\n",
            "Epoch 94/100\n",
            "652/652 [==============================] - 1s 1ms/step - loss: 26855.5391 - val_loss: 25665.5801\n",
            "Epoch 95/100\n",
            "652/652 [==============================] - 1s 1ms/step - loss: 26855.5234 - val_loss: 25665.5391\n",
            "Epoch 96/100\n",
            "652/652 [==============================] - 1s 1ms/step - loss: 26855.5098 - val_loss: 25665.5254\n",
            "Epoch 97/100\n",
            "652/652 [==============================] - 1s 1ms/step - loss: 26855.5293 - val_loss: 25665.5293\n",
            "Epoch 98/100\n",
            "652/652 [==============================] - 1s 2ms/step - loss: 26855.4766 - val_loss: 25665.5098\n",
            "Epoch 99/100\n",
            "652/652 [==============================] - 1s 1ms/step - loss: 26855.5176 - val_loss: 25665.5117\n",
            "Epoch 100/100\n",
            "652/652 [==============================] - 1s 1ms/step - loss: 26855.4707 - val_loss: 25665.5039\n"
          ]
        }
      ],
      "source": [
        "%%time\n",
        "history = age_model.fit(\n",
        "    train_features['age'], train_labels,\n",
        "    epochs=100,\n",
        "    # suppress logging\n",
        "    verbose=1,\n",
        "    # Calculate validation results on 20% of the training data. Validation means that we test as we go, on a 20% subset of the training data\n",
        "    validation_split = 0.2)"
      ]
    },
    {
      "cell_type": "code",
      "execution_count": null,
      "metadata": {
        "id": "Y8ueGxNLwwiL"
      },
      "outputs": [],
      "source": [
        "train_features['age']"
      ]
    },
    {
      "cell_type": "markdown",
      "metadata": {
        "id": "0eJIetubEUEY"
      },
      "source": [
        "Visualize the model's training results (you must run the code fields to see the graph):"
      ]
    },
    {
      "cell_type": "code",
      "execution_count": null,
      "metadata": {
        "colab": {
          "base_uri": "https://localhost:8080/"
        },
        "id": "EIOA_tsOAS_W",
        "outputId": "c74e4407-6f1a-4bfc-c9c5-32d562e6e3e9"
      },
      "outputs": [
        {
          "name": "stdout",
          "output_type": "stream",
          "text": [
            "8/8 [==============================] - 0s 1ms/step\n"
          ]
        }
      ],
      "source": [
        "x = tf.linspace(0.0, 250, 251)\n",
        "y = age_model.predict(x)"
      ]
    },
    {
      "cell_type": "code",
      "execution_count": null,
      "metadata": {
        "colab": {
          "base_uri": "https://localhost:8080/",
          "height": 449
        },
        "id": "j_IVJUMrAn0a",
        "outputId": "6c489f27-7613-475f-a59c-70dd4f1277c0"
      },
      "outputs": [
        {
          "data": {
            "image/png": "[encoded data removed]",
            "text/plain": [
              "<Figure size 640x480 with 1 Axes>"
            ]
          },
          "metadata": {},
          "output_type": "display_data"
        }
      ],
      "source": [
        "def plot_age(x, y):\n",
        "  plt.scatter(train_features['age'], train_labels, label='Data')\n",
        "  plt.plot(x, y, color='k', label='Predictions')\n",
        "  plt.xlabel('age')\n",
        "  plt.ylabel('incomeUSD')\n",
        "  plt.legend()\n",
        "plot_age(x,y) "
      ]
    },
    {
      "cell_type": "markdown",
      "metadata": {
        "id": "n-PrtMxmBUTj"
      },
      "source": [
        "As you can see, the output here is abysmal. Let's see if we have better luck with the next model"
      ]
    },
    {
      "cell_type": "markdown",
      "metadata": {
        "id": "AFlI3cVH0maC"
      },
      "source": [
        "##Your Turn\n",
        "You've seen the model build -- well, you haven't, really. \n",
        "1. Copy the code above into the code section below and turn verbose on\n",
        "2. Set the number of epochs to 10, so you don't have to wait so long\n",
        "3. Observe how the loss function decreases over each epoch:"
      ]
    },
    {
      "cell_type": "code",
      "execution_count": null,
      "metadata": {
        "id": "xbFrOTmv09XL"
      },
      "outputs": [],
      "source": [
        "history = age_model.fit(\n",
        "    train_features['age'], train_labels,\n",
        "    epochs=10,\n",
        "    # 0 suppress logging\n",
        "    verbose=1,\n",
        "    # Calculate validation results on 20% of the training data. Validation means that we test as we go, on a 20% subset of the training data\n",
        "    validation_split = 0.2)"
      ]
    },
    {
      "cell_type": "markdown",
      "metadata": {
        "id": "Gc1f9q1dEDAV"
      },
      "source": [
        "Now let's test this on the test set and collect the results so we can inspect them at the end of this file:"
      ]
    },
    {
      "cell_type": "code",
      "execution_count": null,
      "metadata": {
        "colab": {
          "base_uri": "https://localhost:8080/"
        },
        "id": "vyAVqluWugku",
        "outputId": "7d49a750-6367-4005-aa56-c92f32040524"
      },
      "outputs": [
        {
          "name": "stdout",
          "output_type": "stream",
          "text": [
            "204/204 [==============================] - 0s 914us/step - loss: 25974.4766\n"
          ]
        }
      ],
      "source": [
        "test_results = {}\n",
        "\n",
        "test_results['age_model'] = age_model.evaluate(\n",
        "    test_features['age'],\n",
        "    test_labels, verbose=1)"
      ]
    },
    {
      "cell_type": "markdown",
      "metadata": {
        "id": "MGckOL4OuqAH"
      },
      "source": [
        "This is a regression with a single variable--way too simplistic for our purposes! On to bigger and better things!"
      ]
    },
    {
      "cell_type": "markdown",
      "metadata": {
        "id": "PyAIVER5vfNS"
      },
      "source": [
        "## **3.2 REGRESSION: Using Multiple Variables to Predict incomeUSD in a Simple Neural Network**"
      ]
    },
    {
      "cell_type": "markdown",
      "metadata": {
        "id": "Jbt4A31Yvrv-"
      },
      "source": [
        "You can use an almost identical setup to make predictions based on multiple inputs. This model still does the same y - mx + b except that m is a matrix and b is a vector.\n",
        "\n",
        "This time, we use the Normalization layer that was adapted to the whole dataset."
      ]
    },
    {
      "cell_type": "code",
      "execution_count": null,
      "metadata": {
        "id": "DqIVUbsKv7Yu"
      },
      "outputs": [],
      "source": [
        "linear_model = tf.keras.Sequential([\n",
        "    normalizer,\n",
        "    layers.Dense(units=1)\n",
        "])"
      ]
    },
    {
      "cell_type": "markdown",
      "metadata": {
        "id": "baZH3g_CwK5K"
      },
      "source": [
        "When you call the model, its weight matrices will be built. You can see that the kernel (the m in y = mx + b) has a shape of (8,1)."
      ]
    },
    {
      "cell_type": "code",
      "execution_count": null,
      "metadata": {
        "colab": {
          "base_uri": "https://localhost:8080/"
        },
        "id": "PstTgNeawWRU",
        "outputId": "8fb20e3a-22bb-4c07-af67-aef1324ae230"
      },
      "outputs": [
        {
          "data": {
            "text/plain": [
              "<tf.Variable 'dense_1/kernel:0' shape=(8, 1) dtype=float32, numpy=\n",
              "array([[-0.272452  ],\n",
              "       [-0.06275898],\n",
              "       [-0.5498391 ],\n",
              "       [-0.17239505],\n",
              "       [ 0.6547526 ],\n",
              "       [-0.05777085],\n",
              "       [ 0.01960403],\n",
              "       [-0.51017416]], dtype=float32)>"
            ]
          },
          "execution_count": 30,
          "metadata": {},
          "output_type": "execute_result"
        }
      ],
      "source": [
        "linear_model.layers[1].kernel"
      ]
    },
    {
      "cell_type": "markdown",
      "metadata": {
        "id": "diKM-dKTwdho"
      },
      "source": [
        "Now, we configure the model's runtime execution with the same compile and fit calls as for the single input age model:"
      ]
    },
    {
      "cell_type": "code",
      "execution_count": null,
      "metadata": {
        "id": "_wO8dfkkwhvI"
      },
      "outputs": [],
      "source": [
        "linear_model.compile(\n",
        "    optimizer=tf.optimizers.Adam(learning_rate=0.1),\n",
        "    loss='mean_absolute_error')"
      ]
    },
    {
      "cell_type": "code",
      "execution_count": null,
      "metadata": {
        "colab": {
          "base_uri": "https://localhost:8080/"
        },
        "id": "KKKIMHS9wput",
        "outputId": "8fb22b3b-bf4e-4926-c14a-ff3aa65a1dc0"
      },
      "outputs": [
        {
          "name": "stdout",
          "output_type": "stream",
          "text": [
            "Epoch 1/10\n",
            "652/652 [==============================] - 1s 1ms/step - loss: 56929.5508 - val_loss: 55725.9531\n",
            "Epoch 2/10\n",
            "652/652 [==============================] - 1s 1ms/step - loss: 56864.2969 - val_loss: 55660.9531\n",
            "Epoch 3/10\n",
            "652/652 [==============================] - 1s 1ms/step - loss: 56798.9922 - val_loss: 55595.9531\n",
            "Epoch 4/10\n",
            "652/652 [==============================] - 1s 2ms/step - loss: 56733.7148 - val_loss: 55530.9961\n",
            "Epoch 5/10\n",
            "652/652 [==============================] - 1s 1ms/step - loss: 56668.4805 - val_loss: 55466.0039\n",
            "Epoch 6/10\n",
            "652/652 [==============================] - 1s 1ms/step - loss: 56603.2148 - val_loss: 55401.0430\n",
            "Epoch 7/10\n",
            "652/652 [==============================] - 1s 1ms/step - loss: 56537.9492 - val_loss: 55336.0508\n",
            "Epoch 8/10\n",
            "652/652 [==============================] - 1s 1ms/step - loss: 56472.6875 - val_loss: 55271.0703\n",
            "Epoch 9/10\n",
            "652/652 [==============================] - 1s 1ms/step - loss: 56407.4648 - val_loss: 55206.1250\n",
            "Epoch 10/10\n",
            "652/652 [==============================] - 1s 1ms/step - loss: 56342.1914 - val_loss: 55141.1523\n",
            "CPU times: user 8.72 s, sys: 513 ms, total: 9.24 s\n",
            "Wall time: 8.8 s\n"
          ]
        }
      ],
      "source": [
        "%%time\n",
        "history = linear_model.fit(\n",
        "    train_features, train_labels, \n",
        "    epochs=10,\n",
        "    # 10 epochs, so we turn on logging\n",
        "    verbose=1,\n",
        "    # Calculate validation results on 20% of the training data\n",
        "    validation_split = 0.2)"
      ]
    },
    {
      "cell_type": "markdown",
      "metadata": {
        "id": "e0myiyL-ydWy"
      },
      "source": [
        "Just like before, we collect the results in the test_results variable again:"
      ]
    },
    {
      "cell_type": "code",
      "execution_count": null,
      "metadata": {
        "colab": {
          "base_uri": "https://localhost:8080/"
        },
        "id": "9FlEqQxSyh9v",
        "outputId": "da71ffc5-1346-4465-b626-b94e4bdb2a52"
      },
      "outputs": [
        {
          "name": "stdout",
          "output_type": "stream",
          "text": [
            "204/204 [==============================] - 0s 897us/step - loss: 55356.3086\n"
          ]
        }
      ],
      "source": [
        "test_results['linear_model'] = linear_model.evaluate(\n",
        "    test_features, test_labels, verbose=1)"
      ]
    },
    {
      "cell_type": "markdown",
      "metadata": {
        "id": "hj1wYh_qlsdS"
      },
      "source": [
        "## Your Turn\n",
        "What is the command to display the current contents of the test_results variable? Type it below and inspect the results! What do you see?"
      ]
    },
    {
      "cell_type": "code",
      "execution_count": null,
      "metadata": {
        "colab": {
          "base_uri": "https://localhost:8080/"
        },
        "id": "s2KvxzFJluL1",
        "outputId": "81a4fdff-185f-460c-c26c-17e2e8fea728"
      },
      "outputs": [
        {
          "name": "stdout",
          "output_type": "stream",
          "text": [
            "204/204 [==============================] - 0s 912us/step - loss: 55356.3086\n"
          ]
        }
      ],
      "source": [
        "#?????????? same as the last code????\n",
        "test_results['linear_model'] = linear_model.evaluate(\n",
        "    test_features, test_labels, verbose=1)"
      ]
    },
    {
      "cell_type": "markdown",
      "metadata": {
        "id": "_KWik3H_ys0G"
      },
      "source": [
        "## **3.3 REGRESSION: Deep Neural Network (DNN)**\n"
      ]
    },
    {
      "cell_type": "markdown",
      "metadata": {
        "id": "1fBO1pEHzCEQ"
      },
      "source": [
        "The previous section implemented linear models for single and multiple inputs in a **Simple Neural Network.**\n",
        "\n",
        "\n",
        "\n",
        "This section implements single-input and multiple-input DNN models. The code is basically the same except **the model is expanded to include some \"hidden\" non-linear layers**. The name \"hidden\" here just means not directly connected to the inputs or outputs.\n",
        "\n",
        "These models will contain a few more layers than the linear model:\n",
        "\n",
        "1. The normalization layer (imagine this as hidden layer 1 in the graphic below)\n",
        "2. Two hidden, nonlinear, Dense layers using the relu nonlinearity (hidden layers 2 and 3 in the graphic below)\n",
        "3. A linear single-output layer because we are calculating ONE regression output.\n",
        "\n",
        "<div>\n",
        "<center>\n",
        "<img src=\"https://raw.githubusercontent.com/shstreuber/Data-Mining/master/images/deepnn_regression.png\" width=\"600\">\n",
        "</div>\n",
        "\n",
        "Both will use the same training procedure so the compile method is included in the build_and_compile_model function below.\n",
        "\n",
        "###**Deep Neural Network Model Code Below**\n",
        "Here it is! NOTE that now, we are building and configuring the layers!\n",
        "\n",
        "\n"
      ]
    },
    {
      "cell_type": "code",
      "execution_count": null,
      "metadata": {
        "id": "-RUfA-v7zNCQ"
      },
      "outputs": [],
      "source": [
        "def build_and_compile_model(norm):\n",
        "  model = keras.Sequential([                 # Here you are setting up the keras.Sequential architecture\n",
        "      norm,                                  # This is the normalizer function we built before\n",
        "      layers.Dense(64, activation='relu'),   # Here is the first hidden layer--64 nodes, built with the relu function\n",
        "      layers.Dense(64, activation='relu'),   # Here is the second hidden layer, also built with the relu function\n",
        "      layers.Dense(1)                        # Here is the Dense layer for a single output because we are working on a REGRESSION\n",
        "  ])                                         # AND WE'RE DONE WITH BUILDING THE MODEL!\n",
        "\n",
        "  model.compile(loss='mean_absolute_error',   # Now we configure the runtime for our model; the loss function is mean absolute error--makes sense for a regression!\n",
        "                optimizer=tf.keras.optimizers.Adam(0.001))\n",
        "  return model"
      ]
    },
    {
      "cell_type": "markdown",
      "metadata": {
        "id": "sNIsFYij0Kyd"
      },
      "source": [
        "### **3.3.1 REGRESSION--One Variable**\n",
        "As before, we use the age variable to predice incomeUSD"
      ]
    },
    {
      "cell_type": "code",
      "execution_count": null,
      "metadata": {
        "id": "WwTGLgmn0VLO"
      },
      "outputs": [],
      "source": [
        "dnn_age_model = build_and_compile_model(age_normalizer)"
      ]
    },
    {
      "cell_type": "markdown",
      "metadata": {
        "id": "lZZKGCBX0d3U"
      },
      "source": [
        "This model has quite a few more trainable parameters than the linear models."
      ]
    },
    {
      "cell_type": "code",
      "execution_count": null,
      "metadata": {
        "colab": {
          "base_uri": "https://localhost:8080/"
        },
        "id": "QQUyjuXU0e0_",
        "outputId": "01a1ef6a-9a19-463f-e9a8-f5b3c0dc4d2a"
      },
      "outputs": [
        {
          "name": "stdout",
          "output_type": "stream",
          "text": [
            "Model: \"sequential_2\"\n",
            "_________________________________________________________________\n",
            " Layer (type)                Output Shape              Param #   \n",
            "=================================================================\n",
            " normalization_1 (Normalizat  (None, 1)                3         \n",
            " ion)                                                            \n",
            "                                                                 \n",
            " dense_2 (Dense)             (None, 64)                128       \n",
            "                                                                 \n",
            " dense_3 (Dense)             (None, 64)                4160      \n",
            "                                                                 \n",
            " dense_4 (Dense)             (None, 1)                 65        \n",
            "                                                                 \n",
            "=================================================================\n",
            "Total params: 4,356\n",
            "Trainable params: 4,353\n",
            "Non-trainable params: 3\n",
            "_________________________________________________________________\n"
          ]
        }
      ],
      "source": [
        "dnn_age_model.summary()"
      ]
    },
    {
      "cell_type": "markdown",
      "metadata": {
        "id": "xTVf1W8-0m7s"
      },
      "source": [
        "Now, we train the model:"
      ]
    },
    {
      "cell_type": "code",
      "execution_count": null,
      "metadata": {
        "colab": {
          "base_uri": "https://localhost:8080/"
        },
        "id": "pdNzp5h50tMO",
        "outputId": "8969ada3-24bf-49f2-f770-e52672ff6777"
      },
      "outputs": [
        {
          "name": "stdout",
          "output_type": "stream",
          "text": [
            "Epoch 1/100\n",
            "652/652 [==============================] - 2s 3ms/step - loss: 55874.9141 - val_loss: 51376.6875\n",
            "Epoch 2/100\n",
            "652/652 [==============================] - 1s 1ms/step - loss: 41981.4805 - val_loss: 29146.0137\n",
            "Epoch 3/100\n",
            "652/652 [==============================] - 1s 1ms/step - loss: 27960.4082 - val_loss: 26000.9492\n",
            "Epoch 4/100\n",
            "652/652 [==============================] - 1s 1ms/step - loss: 27094.6582 - val_loss: 25814.5469\n",
            "Epoch 5/100\n",
            "652/652 [==============================] - 1s 1ms/step - loss: 26985.9883 - val_loss: 25751.2285\n",
            "Epoch 6/100\n",
            "652/652 [==============================] - 1s 1ms/step - loss: 26934.9160 - val_loss: 25720.2266\n",
            "Epoch 7/100\n",
            "652/652 [==============================] - 1s 1ms/step - loss: 26906.8184 - val_loss: 25703.3926\n",
            "Epoch 8/100\n",
            "652/652 [==============================] - 1s 1ms/step - loss: 26888.0586 - val_loss: 25693.5469\n",
            "Epoch 9/100\n",
            "652/652 [==============================] - 1s 1ms/step - loss: 26881.3145 - val_loss: 25686.4844\n",
            "Epoch 10/100\n",
            "652/652 [==============================] - 1s 1ms/step - loss: 26875.8320 - val_loss: 25683.8086\n",
            "Epoch 11/100\n",
            "652/652 [==============================] - 1s 1ms/step - loss: 26872.9121 - val_loss: 25678.9648\n",
            "Epoch 12/100\n",
            "652/652 [==============================] - 1s 1ms/step - loss: 26869.5820 - val_loss: 25677.5801\n",
            "Epoch 13/100\n",
            "652/652 [==============================] - 1s 2ms/step - loss: 26867.7207 - val_loss: 25675.2031\n",
            "Epoch 14/100\n",
            "652/652 [==============================] - 1s 2ms/step - loss: 26865.6641 - val_loss: 25673.4316\n",
            "Epoch 15/100\n",
            "652/652 [==============================] - 1s 1ms/step - loss: 26865.7285 - val_loss: 25671.1113\n",
            "Epoch 16/100\n",
            "652/652 [==============================] - 1s 1ms/step - loss: 26863.8418 - val_loss: 25672.9688\n",
            "Epoch 17/100\n",
            "652/652 [==============================] - 1s 1ms/step - loss: 26863.9785 - val_loss: 25670.4746\n",
            "Epoch 18/100\n",
            "652/652 [==============================] - 1s 1ms/step - loss: 26863.7441 - val_loss: 25670.4297\n",
            "Epoch 19/100\n",
            "652/652 [==============================] - 1s 1ms/step - loss: 26861.9629 - val_loss: 25669.0586\n",
            "Epoch 20/100\n",
            "652/652 [==============================] - 1s 1ms/step - loss: 26861.4707 - val_loss: 25671.5527\n",
            "Epoch 21/100\n",
            "652/652 [==============================] - 1s 1ms/step - loss: 26860.0039 - val_loss: 25667.9316\n",
            "Epoch 22/100\n",
            "652/652 [==============================] - 1s 1ms/step - loss: 26860.7109 - val_loss: 25669.0625\n",
            "Epoch 23/100\n",
            "652/652 [==============================] - 1s 1ms/step - loss: 26861.1465 - val_loss: 25668.8242\n",
            "Epoch 24/100\n",
            "652/652 [==============================] - 1s 1ms/step - loss: 26860.2129 - val_loss: 25668.9395\n",
            "Epoch 25/100\n",
            "652/652 [==============================] - 1s 2ms/step - loss: 26861.7969 - val_loss: 25667.1465\n",
            "Epoch 26/100\n",
            "652/652 [==============================] - 1s 2ms/step - loss: 26859.5742 - val_loss: 25669.3203\n",
            "Epoch 27/100\n",
            "652/652 [==============================] - 1s 1ms/step - loss: 26860.0527 - val_loss: 25669.6406\n",
            "Epoch 28/100\n",
            "652/652 [==============================] - 1s 1ms/step - loss: 26860.6543 - val_loss: 25668.0684\n",
            "Epoch 29/100\n",
            "652/652 [==============================] - 1s 1ms/step - loss: 26859.6504 - val_loss: 25666.6230\n",
            "Epoch 30/100\n",
            "652/652 [==============================] - 1s 1ms/step - loss: 26857.3164 - val_loss: 25677.8047\n",
            "Epoch 31/100\n",
            "652/652 [==============================] - 1s 1ms/step - loss: 26859.6230 - val_loss: 25667.4648\n",
            "Epoch 32/100\n",
            "652/652 [==============================] - 1s 1ms/step - loss: 26859.8555 - val_loss: 25666.8223\n",
            "Epoch 33/100\n",
            "652/652 [==============================] - 1s 1ms/step - loss: 26858.3613 - val_loss: 25666.9414\n",
            "Epoch 34/100\n",
            "652/652 [==============================] - 1s 1ms/step - loss: 26858.9746 - val_loss: 25665.6133\n",
            "Epoch 35/100\n",
            "652/652 [==============================] - 1s 1ms/step - loss: 26857.7715 - val_loss: 25666.2578\n",
            "Epoch 36/100\n",
            "652/652 [==============================] - 1s 1ms/step - loss: 26857.9375 - val_loss: 25669.5977\n",
            "Epoch 37/100\n",
            "652/652 [==============================] - 1s 2ms/step - loss: 26858.1855 - val_loss: 25665.6094\n",
            "Epoch 38/100\n",
            "652/652 [==============================] - 1s 2ms/step - loss: 26857.3379 - val_loss: 25673.8926\n",
            "Epoch 39/100\n",
            "652/652 [==============================] - 1s 1ms/step - loss: 26859.4844 - val_loss: 25666.3379\n",
            "Epoch 40/100\n",
            "652/652 [==============================] - 1s 1ms/step - loss: 26858.8340 - val_loss: 25665.6445\n",
            "Epoch 41/100\n",
            "652/652 [==============================] - 1s 1ms/step - loss: 26858.8828 - val_loss: 25665.4121\n",
            "Epoch 42/100\n",
            "652/652 [==============================] - 1s 1ms/step - loss: 26859.2168 - val_loss: 25669.0918\n",
            "Epoch 43/100\n",
            "652/652 [==============================] - 1s 1ms/step - loss: 26858.9355 - val_loss: 25665.8555\n",
            "Epoch 44/100\n",
            "652/652 [==============================] - 1s 2ms/step - loss: 26857.5625 - val_loss: 25674.4805\n",
            "Epoch 45/100\n",
            "652/652 [==============================] - 1s 1ms/step - loss: 26858.1426 - val_loss: 25669.8242\n",
            "Epoch 46/100\n",
            "652/652 [==============================] - 1s 1ms/step - loss: 26858.7852 - val_loss: 25665.4551\n",
            "Epoch 47/100\n",
            "652/652 [==============================] - 1s 1ms/step - loss: 26858.6523 - val_loss: 25665.9414\n",
            "Epoch 48/100\n",
            "652/652 [==============================] - 1s 1ms/step - loss: 26858.7812 - val_loss: 25670.8633\n",
            "Epoch 49/100\n",
            "652/652 [==============================] - 1s 1ms/step - loss: 26858.3848 - val_loss: 25668.3340\n",
            "Epoch 50/100\n",
            "652/652 [==============================] - 1s 2ms/step - loss: 26854.3398 - val_loss: 25680.1113\n",
            "Epoch 51/100\n",
            "652/652 [==============================] - 1s 2ms/step - loss: 26857.0254 - val_loss: 25665.8398\n",
            "Epoch 52/100\n",
            "652/652 [==============================] - 1s 1ms/step - loss: 26855.7988 - val_loss: 25667.7246\n",
            "Epoch 53/100\n",
            "652/652 [==============================] - 1s 2ms/step - loss: 26858.5117 - val_loss: 25668.7598\n",
            "Epoch 54/100\n",
            "652/652 [==============================] - 1s 2ms/step - loss: 26858.6855 - val_loss: 25666.7090\n",
            "Epoch 55/100\n",
            "652/652 [==============================] - 1s 1ms/step - loss: 26859.8770 - val_loss: 25668.5156\n",
            "Epoch 56/100\n",
            "652/652 [==============================] - 1s 1ms/step - loss: 26858.2676 - val_loss: 25665.4980\n",
            "Epoch 57/100\n",
            "652/652 [==============================] - 1s 1ms/step - loss: 26855.8770 - val_loss: 25666.5625\n",
            "Epoch 58/100\n",
            "652/652 [==============================] - 1s 1ms/step - loss: 26858.8457 - val_loss: 25666.2344\n",
            "Epoch 59/100\n",
            "652/652 [==============================] - 1s 1ms/step - loss: 26857.9180 - val_loss: 25666.0938\n",
            "Epoch 60/100\n",
            "652/652 [==============================] - 1s 1ms/step - loss: 26856.1836 - val_loss: 25668.6133\n",
            "Epoch 61/100\n",
            "652/652 [==============================] - 1s 2ms/step - loss: 26859.6660 - val_loss: 25667.7812\n",
            "Epoch 62/100\n",
            "652/652 [==============================] - 1s 2ms/step - loss: 26859.4043 - val_loss: 25666.2129\n",
            "Epoch 63/100\n",
            "652/652 [==============================] - 1s 1ms/step - loss: 26858.8672 - val_loss: 25665.7363\n",
            "Epoch 64/100\n",
            "652/652 [==============================] - 1s 1ms/step - loss: 26857.9590 - val_loss: 25665.6738\n",
            "Epoch 65/100\n",
            "652/652 [==============================] - 1s 1ms/step - loss: 26858.9863 - val_loss: 25665.6367\n",
            "Epoch 66/100\n",
            "652/652 [==============================] - 1s 1ms/step - loss: 26858.2891 - val_loss: 25667.3926\n",
            "Epoch 67/100\n",
            "652/652 [==============================] - 1s 1ms/step - loss: 26858.7637 - val_loss: 25666.6113\n",
            "Epoch 68/100\n",
            "652/652 [==============================] - 1s 1ms/step - loss: 26859.1875 - val_loss: 25669.2109\n",
            "Epoch 69/100\n",
            "652/652 [==============================] - 1s 1ms/step - loss: 26858.8027 - val_loss: 25666.3125\n",
            "Epoch 70/100\n",
            "652/652 [==============================] - 1s 1ms/step - loss: 26857.8359 - val_loss: 25667.9395\n",
            "Epoch 71/100\n",
            "652/652 [==============================] - 1s 2ms/step - loss: 26857.7129 - val_loss: 25668.3848\n",
            "Epoch 72/100\n",
            "652/652 [==============================] - 1s 1ms/step - loss: 26858.8027 - val_loss: 25668.7051\n",
            "Epoch 73/100\n",
            "652/652 [==============================] - 1s 2ms/step - loss: 26856.2070 - val_loss: 25666.1660\n",
            "Epoch 74/100\n",
            "652/652 [==============================] - 1s 2ms/step - loss: 26856.7793 - val_loss: 25665.5781\n",
            "Epoch 75/100\n",
            "652/652 [==============================] - 1s 1ms/step - loss: 26858.8672 - val_loss: 25665.5391\n",
            "Epoch 76/100\n",
            "652/652 [==============================] - 1s 1ms/step - loss: 26857.1113 - val_loss: 25665.4043\n",
            "Epoch 77/100\n",
            "652/652 [==============================] - 1s 1ms/step - loss: 26857.9766 - val_loss: 25668.8066\n",
            "Epoch 78/100\n",
            "652/652 [==============================] - 1s 1ms/step - loss: 26858.2188 - val_loss: 25665.5020\n",
            "Epoch 79/100\n",
            "652/652 [==============================] - 1s 1ms/step - loss: 26858.4336 - val_loss: 25665.9395\n",
            "Epoch 80/100\n",
            "652/652 [==============================] - 1s 1ms/step - loss: 26858.7754 - val_loss: 25667.6289\n",
            "Epoch 81/100\n",
            "652/652 [==============================] - 1s 1ms/step - loss: 26858.8203 - val_loss: 25669.4453\n",
            "Epoch 82/100\n",
            "652/652 [==============================] - 1s 1ms/step - loss: 26859.2578 - val_loss: 25666.6914\n",
            "Epoch 83/100\n",
            "652/652 [==============================] - 1s 1ms/step - loss: 26858.8184 - val_loss: 25666.9258\n",
            "Epoch 84/100\n",
            "652/652 [==============================] - 1s 1ms/step - loss: 26858.2773 - val_loss: 25666.0430\n",
            "Epoch 85/100\n",
            "652/652 [==============================] - 1s 1ms/step - loss: 26858.9258 - val_loss: 25665.6914\n",
            "Epoch 86/100\n",
            "652/652 [==============================] - 1s 2ms/step - loss: 26858.1953 - val_loss: 25667.5781\n",
            "Epoch 87/100\n",
            "652/652 [==============================] - 1s 2ms/step - loss: 26858.7969 - val_loss: 25666.2891\n",
            "Epoch 88/100\n",
            "652/652 [==============================] - 1s 1ms/step - loss: 26858.2246 - val_loss: 25669.2676\n",
            "Epoch 89/100\n",
            "652/652 [==============================] - 1s 1ms/step - loss: 26857.7188 - val_loss: 25668.0020\n",
            "Epoch 90/100\n",
            "652/652 [==============================] - 1s 1ms/step - loss: 26857.2266 - val_loss: 25675.9570\n",
            "Epoch 91/100\n",
            "652/652 [==============================] - 1s 1ms/step - loss: 26858.5547 - val_loss: 25668.6680\n",
            "Epoch 92/100\n",
            "652/652 [==============================] - 1s 1ms/step - loss: 26858.0723 - val_loss: 25665.9961\n",
            "Epoch 93/100\n",
            "652/652 [==============================] - 1s 1ms/step - loss: 26858.5137 - val_loss: 25666.3301\n",
            "Epoch 94/100\n",
            "652/652 [==============================] - 1s 1ms/step - loss: 26859.4316 - val_loss: 25665.8320\n",
            "Epoch 95/100\n",
            "652/652 [==============================] - 1s 1ms/step - loss: 26858.6270 - val_loss: 25665.4375\n",
            "Epoch 96/100\n",
            "652/652 [==============================] - 1s 1ms/step - loss: 26858.1602 - val_loss: 25668.8203\n",
            "Epoch 97/100\n",
            "652/652 [==============================] - 1s 1ms/step - loss: 26860.8828 - val_loss: 25666.9492\n",
            "Epoch 98/100\n",
            "652/652 [==============================] - 1s 2ms/step - loss: 26858.5332 - val_loss: 25665.7148\n",
            "Epoch 99/100\n",
            "652/652 [==============================] - 1s 2ms/step - loss: 26858.1270 - val_loss: 25666.6016\n",
            "Epoch 100/100\n",
            "652/652 [==============================] - 1s 1ms/step - loss: 26859.4355 - val_loss: 25665.7480\n",
            "CPU times: user 1min 36s, sys: 5.26 s, total: 1min 41s\n",
            "Wall time: 2min 22s\n"
          ]
        }
      ],
      "source": [
        "%%time\n",
        "history = dnn_age_model.fit(\n",
        "    train_features['age'], train_labels,\n",
        "    validation_split=0.2,\n",
        "    verbose=1, epochs=100)"
      ]
    },
    {
      "cell_type": "code",
      "execution_count": null,
      "metadata": {
        "colab": {
          "base_uri": "https://localhost:8080/"
        },
        "id": "taPL4VmJ_CwI",
        "outputId": "3f337c92-a060-4bd2-a21e-dc43adc846d1"
      },
      "outputs": [
        {
          "data": {
            "text/plain": [
              "22278     27267\n",
              "8950      26135\n",
              "7838      46605\n",
              "16505     30635\n",
              "19140    189367\n",
              "          ...  \n",
              "12877     29038\n",
              "13288     34232\n",
              "2751      44265\n",
              "11903     41255\n",
              "17632     22011\n",
              "Name: incomeUSD, Length: 26049, dtype: int64"
            ]
          },
          "execution_count": 41,
          "metadata": {},
          "output_type": "execute_result"
        }
      ],
      "source": [
        "train_labels"
      ]
    },
    {
      "cell_type": "markdown",
      "metadata": {
        "id": "qiwtPeLJB7lQ"
      },
      "source": [
        "And we plot the outcomes:"
      ]
    },
    {
      "cell_type": "code",
      "execution_count": null,
      "metadata": {
        "colab": {
          "base_uri": "https://localhost:8080/",
          "height": 467
        },
        "id": "-kuceR4fB-ig",
        "outputId": "d31167e3-3236-4d7c-bbdb-ddb93c96258d"
      },
      "outputs": [
        {
          "name": "stdout",
          "output_type": "stream",
          "text": [
            "8/8 [==============================] - 0s 1ms/step\n"
          ]
        },
        {
          "data": {
            "image/png": "[encoded data removed]",
            "text/plain": [
              "<Figure size 640x480 with 1 Axes>"
            ]
          },
          "metadata": {},
          "output_type": "display_data"
        }
      ],
      "source": [
        "x = tf.linspace(0.0, 250, 251)\n",
        "y = dnn_age_model.predict(x)\n",
        "\n",
        "plot_age(x, y)"
      ]
    },
    {
      "cell_type": "markdown",
      "metadata": {
        "id": "c7V2XJz7CMDO"
      },
      "source": [
        "Wow! Our model does a much better job! But is it a good job? Not yet."
      ]
    },
    {
      "cell_type": "markdown",
      "metadata": {
        "id": "xUpPmDiK0-JQ"
      },
      "source": [
        "And we collect the test results:"
      ]
    },
    {
      "cell_type": "code",
      "execution_count": null,
      "metadata": {
        "colab": {
          "base_uri": "https://localhost:8080/"
        },
        "id": "To9dY4na1Bbt",
        "outputId": "6e05357b-78d7-49a6-f74e-16a5a1436051"
      },
      "outputs": [
        {
          "name": "stdout",
          "output_type": "stream",
          "text": [
            "204/204 [==============================] - 0s 925us/step - loss: 25973.5781\n"
          ]
        }
      ],
      "source": [
        "test_results['dnn_age_model'] = dnn_age_model.evaluate(\n",
        "    test_features['age'], test_labels,\n",
        "    verbose=1)"
      ]
    },
    {
      "cell_type": "markdown",
      "metadata": {
        "id": "Y-Gwu9xw1Qz7"
      },
      "source": [
        "### **3.3.2 REGRESSION: Multiple Variables**\n",
        "If you repeat this process using all the inputs it slightly improves the performance on the validation dataset."
      ]
    },
    {
      "cell_type": "code",
      "execution_count": null,
      "metadata": {
        "colab": {
          "base_uri": "https://localhost:8080/"
        },
        "id": "HVS07zOT1efm",
        "outputId": "91364932-84f3-4274-daa1-81ee72e13eba"
      },
      "outputs": [
        {
          "name": "stdout",
          "output_type": "stream",
          "text": [
            "Model: \"sequential_3\"\n",
            "_________________________________________________________________\n",
            " Layer (type)                Output Shape              Param #   \n",
            "=================================================================\n",
            " normalization (Normalizatio  (None, 8)                17        \n",
            " n)                                                              \n",
            "                                                                 \n",
            " dense_5 (Dense)             (None, 64)                576       \n",
            "                                                                 \n",
            " dense_6 (Dense)             (None, 64)                4160      \n",
            "                                                                 \n",
            " dense_7 (Dense)             (None, 1)                 65        \n",
            "                                                                 \n",
            "=================================================================\n",
            "Total params: 4,818\n",
            "Trainable params: 4,801\n",
            "Non-trainable params: 17\n",
            "_________________________________________________________________\n"
          ]
        }
      ],
      "source": [
        "dnn_model = build_and_compile_model(normalizer)\n",
        "dnn_model.summary()"
      ]
    },
    {
      "cell_type": "code",
      "execution_count": null,
      "metadata": {
        "colab": {
          "base_uri": "https://localhost:8080/"
        },
        "id": "_ob1LsbR1oZx",
        "outputId": "6d8b433e-78b5-45f5-f5e8-62b594d051f7"
      },
      "outputs": [
        {
          "name": "stdout",
          "output_type": "stream",
          "text": [
            "Epoch 1/100\n",
            "652/652 [==============================] - 1s 2ms/step - loss: 55144.1875 - val_loss: 48407.2070\n",
            "Epoch 2/100\n",
            "652/652 [==============================] - 1s 1ms/step - loss: 35579.1211 - val_loss: 25630.1582\n",
            "Epoch 3/100\n",
            "652/652 [==============================] - 1s 1ms/step - loss: 26287.4648 - val_loss: 24993.0977\n",
            "Epoch 4/100\n",
            "652/652 [==============================] - 1s 1ms/step - loss: 26097.0410 - val_loss: 24935.7148\n",
            "Epoch 5/100\n",
            "652/652 [==============================] - 1s 1ms/step - loss: 26051.6582 - val_loss: 24901.4609\n",
            "Epoch 6/100\n",
            "652/652 [==============================] - 1s 1ms/step - loss: 26016.6895 - val_loss: 24876.5781\n",
            "Epoch 7/100\n",
            "652/652 [==============================] - 1s 2ms/step - loss: 25992.0742 - val_loss: 24859.9277\n",
            "Epoch 8/100\n",
            "652/652 [==============================] - 1s 2ms/step - loss: 25966.9023 - val_loss: 24843.0625\n",
            "Epoch 9/100\n",
            "652/652 [==============================] - 1s 2ms/step - loss: 25947.7012 - val_loss: 24835.1055\n",
            "Epoch 10/100\n",
            "652/652 [==============================] - 1s 1ms/step - loss: 25928.4434 - val_loss: 24823.8281\n",
            "Epoch 11/100\n",
            "652/652 [==============================] - 1s 1ms/step - loss: 25911.1484 - val_loss: 24810.8340\n",
            "Epoch 12/100\n",
            "652/652 [==============================] - 1s 1ms/step - loss: 25893.9531 - val_loss: 24799.9395\n",
            "Epoch 13/100\n",
            "652/652 [==============================] - 1s 1ms/step - loss: 25882.0996 - val_loss: 24786.0215\n",
            "Epoch 14/100\n",
            "652/652 [==============================] - 1s 1ms/step - loss: 25868.4590 - val_loss: 24784.6270\n",
            "Epoch 15/100\n",
            "652/652 [==============================] - 1s 1ms/step - loss: 25856.8418 - val_loss: 24769.2676\n",
            "Epoch 16/100\n",
            "652/652 [==============================] - 1s 1ms/step - loss: 25847.0469 - val_loss: 24763.2207\n",
            "Epoch 17/100\n",
            "652/652 [==============================] - 1s 1ms/step - loss: 25835.7051 - val_loss: 24759.5664\n",
            "Epoch 18/100\n",
            "652/652 [==============================] - 1s 1ms/step - loss: 25826.5195 - val_loss: 24755.8047\n",
            "Epoch 19/100\n",
            "652/652 [==============================] - 1s 1ms/step - loss: 25819.0996 - val_loss: 24747.4902\n",
            "Epoch 20/100\n",
            "652/652 [==============================] - 1s 2ms/step - loss: 25810.1719 - val_loss: 24744.3340\n",
            "Epoch 21/100\n",
            "652/652 [==============================] - 1s 2ms/step - loss: 25803.6914 - val_loss: 24737.1699\n",
            "Epoch 22/100\n",
            "652/652 [==============================] - 1s 1ms/step - loss: 25793.8828 - val_loss: 24735.1953\n",
            "Epoch 23/100\n",
            "652/652 [==============================] - 1s 1ms/step - loss: 25789.5488 - val_loss: 24724.9961\n",
            "Epoch 24/100\n",
            "652/652 [==============================] - 1s 1ms/step - loss: 25782.5430 - val_loss: 24726.2227\n",
            "Epoch 25/100\n",
            "652/652 [==============================] - 1s 1ms/step - loss: 25776.6445 - val_loss: 24721.6699\n",
            "Epoch 26/100\n",
            "652/652 [==============================] - 1s 1ms/step - loss: 25771.1582 - val_loss: 24717.5781\n",
            "Epoch 27/100\n",
            "652/652 [==============================] - 1s 1ms/step - loss: 25765.5938 - val_loss: 24708.2754\n",
            "Epoch 28/100\n",
            "652/652 [==============================] - 1s 1ms/step - loss: 25760.3926 - val_loss: 24705.0059\n",
            "Epoch 29/100\n",
            "652/652 [==============================] - 1s 1ms/step - loss: 25756.1797 - val_loss: 24709.3242\n",
            "Epoch 30/100\n",
            "652/652 [==============================] - 1s 1ms/step - loss: 25750.1777 - val_loss: 24701.8633\n",
            "Epoch 31/100\n",
            "652/652 [==============================] - 1s 1ms/step - loss: 25748.3672 - val_loss: 24698.8008\n",
            "Epoch 32/100\n",
            "652/652 [==============================] - 1s 2ms/step - loss: 25744.0254 - val_loss: 24693.3906\n",
            "Epoch 33/100\n",
            "652/652 [==============================] - 1s 2ms/step - loss: 25740.5098 - val_loss: 24693.4355\n",
            "Epoch 34/100\n",
            "652/652 [==============================] - 1s 1ms/step - loss: 25736.7637 - val_loss: 24685.7949\n",
            "Epoch 35/100\n",
            "652/652 [==============================] - 1s 2ms/step - loss: 25729.3906 - val_loss: 24684.8516\n",
            "Epoch 36/100\n",
            "652/652 [==============================] - 1s 2ms/step - loss: 25728.6406 - val_loss: 24680.9414\n",
            "Epoch 37/100\n",
            "652/652 [==============================] - 1s 2ms/step - loss: 25725.0195 - val_loss: 24679.5684\n",
            "Epoch 38/100\n",
            "652/652 [==============================] - 1s 1ms/step - loss: 25720.1250 - val_loss: 24678.7090\n",
            "Epoch 39/100\n",
            "652/652 [==============================] - 1s 1ms/step - loss: 25714.8008 - val_loss: 24680.8027\n",
            "Epoch 40/100\n",
            "652/652 [==============================] - 1s 1ms/step - loss: 25712.3809 - val_loss: 24683.9492\n",
            "Epoch 41/100\n",
            "652/652 [==============================] - 1s 2ms/step - loss: 25710.4102 - val_loss: 24673.8359\n",
            "Epoch 42/100\n",
            "652/652 [==============================] - 1s 1ms/step - loss: 25703.7949 - val_loss: 24663.7773\n",
            "Epoch 43/100\n",
            "652/652 [==============================] - 1s 1ms/step - loss: 25704.1484 - val_loss: 24662.9414\n",
            "Epoch 44/100\n",
            "652/652 [==============================] - 1s 2ms/step - loss: 25702.0762 - val_loss: 24658.7480\n",
            "Epoch 45/100\n",
            "652/652 [==============================] - 1s 2ms/step - loss: 25694.9551 - val_loss: 24653.8145\n",
            "Epoch 46/100\n",
            "652/652 [==============================] - 1s 1ms/step - loss: 25691.9902 - val_loss: 24661.3184\n",
            "Epoch 47/100\n",
            "652/652 [==============================] - 1s 1ms/step - loss: 25691.2480 - val_loss: 24652.3223\n",
            "Epoch 48/100\n",
            "652/652 [==============================] - 1s 1ms/step - loss: 25689.2598 - val_loss: 24649.7617\n",
            "Epoch 49/100\n",
            "652/652 [==============================] - 1s 1ms/step - loss: 25684.6758 - val_loss: 24645.9824\n",
            "Epoch 50/100\n",
            "652/652 [==============================] - 1s 1ms/step - loss: 25683.0410 - val_loss: 24645.2461\n",
            "Epoch 51/100\n",
            "652/652 [==============================] - 1s 1ms/step - loss: 25679.3223 - val_loss: 24647.1406\n",
            "Epoch 52/100\n",
            "652/652 [==============================] - 1s 1ms/step - loss: 25678.2070 - val_loss: 24642.6641\n",
            "Epoch 53/100\n",
            "652/652 [==============================] - 1s 1ms/step - loss: 25674.9258 - val_loss: 24643.1719\n",
            "Epoch 54/100\n",
            "652/652 [==============================] - 1s 1ms/step - loss: 25673.6895 - val_loss: 24640.2129\n",
            "Epoch 55/100\n",
            "652/652 [==============================] - 1s 1ms/step - loss: 25669.9727 - val_loss: 24635.2500\n",
            "Epoch 56/100\n",
            "652/652 [==============================] - 1s 1ms/step - loss: 25670.1230 - val_loss: 24634.0996\n",
            "Epoch 57/100\n",
            "652/652 [==============================] - 1s 2ms/step - loss: 25666.3594 - val_loss: 24633.7031\n",
            "Epoch 58/100\n",
            "652/652 [==============================] - 1s 2ms/step - loss: 25664.3555 - val_loss: 24633.8418\n",
            "Epoch 59/100\n",
            "652/652 [==============================] - 1s 1ms/step - loss: 25662.6543 - val_loss: 24629.8730\n",
            "Epoch 60/100\n",
            "652/652 [==============================] - 1s 1ms/step - loss: 25661.0801 - val_loss: 24625.6016\n",
            "Epoch 61/100\n",
            "652/652 [==============================] - 1s 1ms/step - loss: 25657.3555 - val_loss: 24627.0957\n",
            "Epoch 62/100\n",
            "652/652 [==============================] - 1s 1ms/step - loss: 25658.2070 - val_loss: 24625.2168\n",
            "Epoch 63/100\n",
            "652/652 [==============================] - 1s 1ms/step - loss: 25656.8594 - val_loss: 24619.9258\n",
            "Epoch 64/100\n",
            "652/652 [==============================] - 1s 1ms/step - loss: 25654.0332 - val_loss: 24622.9668\n",
            "Epoch 65/100\n",
            "652/652 [==============================] - 1s 1ms/step - loss: 25650.6426 - val_loss: 24626.4707\n",
            "Epoch 66/100\n",
            "652/652 [==============================] - 1s 1ms/step - loss: 25652.8867 - val_loss: 24620.6016\n",
            "Epoch 67/100\n",
            "652/652 [==============================] - 1s 1ms/step - loss: 25649.3633 - val_loss: 24626.6660\n",
            "Epoch 68/100\n",
            "652/652 [==============================] - 1s 1ms/step - loss: 25647.3730 - val_loss: 24622.6465\n",
            "Epoch 69/100\n",
            "652/652 [==============================] - 1s 2ms/step - loss: 25645.1738 - val_loss: 24619.4609\n",
            "Epoch 70/100\n",
            "652/652 [==============================] - 1s 2ms/step - loss: 25647.4023 - val_loss: 24615.6641\n",
            "Epoch 71/100\n",
            "652/652 [==============================] - 1s 1ms/step - loss: 25644.8242 - val_loss: 24619.5293\n",
            "Epoch 72/100\n",
            "652/652 [==============================] - 1s 1ms/step - loss: 25644.0332 - val_loss: 24617.8359\n",
            "Epoch 73/100\n",
            "652/652 [==============================] - 1s 1ms/step - loss: 25642.1465 - val_loss: 24611.7285\n",
            "Epoch 74/100\n",
            "652/652 [==============================] - 1s 1ms/step - loss: 25639.7695 - val_loss: 24610.0293\n",
            "Epoch 75/100\n",
            "652/652 [==============================] - 1s 1ms/step - loss: 25639.7148 - val_loss: 24609.9062\n",
            "Epoch 76/100\n",
            "652/652 [==============================] - 1s 1ms/step - loss: 25637.5840 - val_loss: 24612.8145\n",
            "Epoch 77/100\n",
            "652/652 [==============================] - 1s 1ms/step - loss: 25636.7383 - val_loss: 24605.9727\n",
            "Epoch 78/100\n",
            "652/652 [==============================] - 1s 1ms/step - loss: 25632.7500 - val_loss: 24613.4746\n",
            "Epoch 79/100\n",
            "652/652 [==============================] - 1s 1ms/step - loss: 25637.3457 - val_loss: 24606.4883\n",
            "Epoch 80/100\n",
            "652/652 [==============================] - 1s 1ms/step - loss: 25633.9980 - val_loss: 24607.0078\n",
            "Epoch 81/100\n",
            "652/652 [==============================] - 1s 1ms/step - loss: 25632.3066 - val_loss: 24606.7129\n",
            "Epoch 82/100\n",
            "652/652 [==============================] - 1s 2ms/step - loss: 25631.9941 - val_loss: 24606.6777\n",
            "Epoch 83/100\n",
            "652/652 [==============================] - 1s 2ms/step - loss: 25631.5723 - val_loss: 24607.2930\n",
            "Epoch 84/100\n",
            "652/652 [==============================] - 1s 1ms/step - loss: 25629.1484 - val_loss: 24602.8574\n",
            "Epoch 85/100\n",
            "652/652 [==============================] - 1s 1ms/step - loss: 25628.6562 - val_loss: 24608.4844\n",
            "Epoch 86/100\n",
            "652/652 [==============================] - 1s 1ms/step - loss: 25627.3203 - val_loss: 24604.1387\n",
            "Epoch 87/100\n",
            "652/652 [==============================] - 1s 1ms/step - loss: 25628.8164 - val_loss: 24602.2168\n",
            "Epoch 88/100\n",
            "652/652 [==============================] - 1s 1ms/step - loss: 25627.5898 - val_loss: 24598.5586\n",
            "Epoch 89/100\n",
            "652/652 [==============================] - 1s 1ms/step - loss: 25624.7051 - val_loss: 24598.7363\n",
            "Epoch 90/100\n",
            "652/652 [==============================] - 1s 1ms/step - loss: 25624.1387 - val_loss: 24602.4590\n",
            "Epoch 91/100\n",
            "652/652 [==============================] - 1s 1ms/step - loss: 25624.9297 - val_loss: 24599.5156\n",
            "Epoch 92/100\n",
            "652/652 [==============================] - 1s 1ms/step - loss: 25623.8223 - val_loss: 24602.1836\n",
            "Epoch 93/100\n",
            "652/652 [==============================] - 1s 1ms/step - loss: 25621.2773 - val_loss: 24602.7617\n",
            "Epoch 94/100\n",
            "652/652 [==============================] - 1s 2ms/step - loss: 25622.9805 - val_loss: 24595.9004\n",
            "Epoch 95/100\n",
            "652/652 [==============================] - 1s 2ms/step - loss: 25622.6855 - val_loss: 24596.6348\n",
            "Epoch 96/100\n",
            "652/652 [==============================] - 1s 1ms/step - loss: 25620.1309 - val_loss: 24597.1211\n",
            "Epoch 97/100\n",
            "652/652 [==============================] - 1s 1ms/step - loss: 25620.2070 - val_loss: 24594.0645\n",
            "Epoch 98/100\n",
            "652/652 [==============================] - 1s 1ms/step - loss: 25619.7363 - val_loss: 24596.5762\n",
            "Epoch 99/100\n",
            "652/652 [==============================] - 1s 1ms/step - loss: 25618.5781 - val_loss: 24593.8398\n",
            "Epoch 100/100\n",
            "652/652 [==============================] - 1s 1ms/step - loss: 25617.0684 - val_loss: 24602.2363\n",
            "CPU times: user 1min 36s, sys: 5.09 s, total: 1min 41s\n",
            "Wall time: 1min 36s\n"
          ]
        }
      ],
      "source": [
        "%%time\n",
        "history = dnn_model.fit(\n",
        "    train_features, train_labels,\n",
        "    validation_split=0.2,\n",
        "    verbose=1, epochs=100)"
      ]
    },
    {
      "cell_type": "markdown",
      "metadata": {
        "id": "R6T-OKdlCkU5"
      },
      "source": [
        "Let's see if our predictions come closer to the actual data distribution (run the code below to see the graph):"
      ]
    },
    {
      "cell_type": "code",
      "execution_count": null,
      "metadata": {
        "colab": {
          "base_uri": "https://localhost:8080/"
        },
        "id": "QHlfTHh9u3Z6",
        "outputId": "161d3c3d-0d8d-4b87-8a49-13176b13ac1f"
      },
      "outputs": [
        {
          "name": "stdout",
          "output_type": "stream",
          "text": [
            "CPU times: user 69.8 ms, sys: 1.97 ms, total: 71.8 ms\n",
            "Wall time: 77.7 ms\n"
          ]
        }
      ],
      "source": [
        "%%time\n",
        "history = dnn_model.fit(\n",
        "    train_features, train_labels,\n",
        "    validation_split=0.2,\n",
        "    verbose=1, epochs=0)\n",
        "\n"
      ]
    },
    {
      "cell_type": "code",
      "execution_count": null,
      "metadata": {
        "colab": {
          "base_uri": "https://localhost:8080/",
          "height": 806
        },
        "id": "Sj4ILEYiCplW",
        "outputId": "b933a4f7-20af-40bf-8791-cde0abb5f74d"
      },
      "outputs": [
        {
          "name": "stdout",
          "output_type": "stream",
          "text": [
            "204/204 [==============================] - 0s 867us/step\n",
            "10       167514\n",
            "13        22373\n",
            "19       137281\n",
            "28        22624\n",
            "40        31109\n",
            "          ...  \n",
            "32535     24521\n",
            "32543     47033\n",
            "32550     23296\n",
            "32551     42290\n",
            "32552     45317\n",
            "Name: incomeUSD, Length: 6512, dtype: int64\n",
            "[[48305.227]\n",
            " [43390.516]\n",
            " [68667.72 ]\n",
            " ...\n",
            " [42715.39 ]\n",
            " [33704.98 ]\n",
            " [42996.754]]\n"
          ]
        },
        {
          "data": {
            "image/png": "[encoded data removed]",
            "text/plain": [
              "<Figure size 640x480 with 1 Axes>"
            ]
          },
          "metadata": {},
          "output_type": "display_data"
        }
      ],
      "source": [
        "#fubar! not working right.....\n",
        "\n",
        "test_predictions = dnn_model.predict(test_features).flatten()\n",
        "\n",
        "'''\n",
        "a = plt.axes(aspect='equal')\n",
        "plt.scatter(test_labels, test_predictions)\n",
        "plt.xlabel('True Values [incomeUSD]')\n",
        "plt.ylabel('Predictions [incomeUSD]')\n",
        "lims = [0, 100]\n",
        "plt.xlim(lims)\n",
        "plt.ylim(lims)\n",
        "_ = plt.plot(lims, lims)\n",
        "'''\n",
        "def plot_age(x, y):\n",
        "  plt.scatter(train_features['age'], train_labels, label='Data')\n",
        "  plt.plot(x, y, color='k', label='Predictions')\n",
        "  plt.xlabel('age')\n",
        "  plt.ylabel('incomeUSD')\n",
        "  plt.legend()\n",
        "#plot_age(x,y) \n",
        "\n",
        "\n",
        "plot_age(test_labels, test_predictions)\n",
        "print(test_labels)\n",
        "print(test_predictions)"
      ]
    },
    {
      "cell_type": "markdown",
      "metadata": {
        "id": "NJXY2BDz5Qle"
      },
      "source": [
        "Now we can predict our test values"
      ]
    },
    {
      "cell_type": "code",
      "execution_count": null,
      "metadata": {
        "colab": {
          "base_uri": "https://localhost:8080/"
        },
        "id": "MlEGGb5Z5Re0",
        "outputId": "2e81097d-0663-457b-c085-d5f63e186371"
      },
      "outputs": [
        {
          "name": "stdout",
          "output_type": "stream",
          "text": [
            "204/204 [==============================] - 0s 804us/step\n"
          ]
        }
      ],
      "source": [
        "test_predictions = dnn_model.predict(test_features).flatten()"
      ]
    },
    {
      "cell_type": "markdown",
      "metadata": {
        "id": "cTOKbKxG128Z"
      },
      "source": [
        "As before, we collect the results on the test set in our test_results variable:"
      ]
    },
    {
      "cell_type": "code",
      "execution_count": null,
      "metadata": {
        "colab": {
          "base_uri": "https://localhost:8080/"
        },
        "id": "B6RZVlWq15-d",
        "outputId": "cc392123-a8dc-4662-8aa0-12ba1f3c5642"
      },
      "outputs": [
        {
          "data": {
            "text/plain": [
              "{'age_model': 25974.4765625,\n",
              " 'linear_model': 55356.30859375,\n",
              " 'dnn_age_model': 25973.578125,\n",
              " 'dnn_model': 24855.8671875}"
            ]
          },
          "execution_count": 82,
          "metadata": {},
          "output_type": "execute_result"
        }
      ],
      "source": [
        "test_results['dnn_model'] = dnn_model.evaluate(test_features, test_labels, verbose=0)\n",
        "test_results"
      ]
    },
    {
      "cell_type": "markdown",
      "metadata": {
        "id": "irE3Vbjb2DD7"
      },
      "source": [
        "# **A4. Comparing all 4 models**\n",
        "Now that all the models are trained check the test-set performance and see how they did:"
      ]
    },
    {
      "cell_type": "code",
      "execution_count": null,
      "metadata": {
        "colab": {
          "base_uri": "https://localhost:8080/",
          "height": 175
        },
        "id": "Q6t4bb2s5wtr",
        "outputId": "a62272c1-13be-46da-d62d-1be7ea0f5b54"
      },
      "outputs": [
        {
          "data": {
            "text/html": [
              "\n",
              "  <div id=\"df-6e6003b5-735d-4a1c-a255-7ebcdcbe6fa9\">\n",
              "    <div class=\"colab-df-container\">\n",
              "      <div>\n",
              "<style scoped>\n",
              "    .dataframe tbody tr th:only-of-type {\n",
              "        vertical-align: middle;\n",
              "    }\n",
              "\n",
              "    .dataframe tbody tr th {\n",
              "        vertical-align: top;\n",
              "    }\n",
              "\n",
              "    .dataframe thead th {\n",
              "        text-align: right;\n",
              "    }\n",
              "</style>\n",
              "<table border=\"1\" class=\"dataframe\">\n",
              "  <thead>\n",
              "    <tr style=\"text-align: right;\">\n",
              "      <th></th>\n",
              "      <th>Mean absolute error [incomeUSD]</th>\n",
              "    </tr>\n",
              "  </thead>\n",
              "  <tbody>\n",
              "    <tr>\n",
              "      <th>age_model</th>\n",
              "      <td>25974.476562</td>\n",
              "    </tr>\n",
              "    <tr>\n",
              "      <th>linear_model</th>\n",
              "      <td>55356.308594</td>\n",
              "    </tr>\n",
              "    <tr>\n",
              "      <th>dnn_age_model</th>\n",
              "      <td>25973.578125</td>\n",
              "    </tr>\n",
              "    <tr>\n",
              "      <th>dnn_model</th>\n",
              "      <td>24855.867188</td>\n",
              "    </tr>\n",
              "  </tbody>\n",
              "</table>\n",
              "</div>\n",
              "      <button class=\"colab-df-convert\" onclick=\"convertToInteractive('df-6e6003b5-735d-4a1c-a255-7ebcdcbe6fa9')\"\n",
              "              title=\"Convert this dataframe to an interactive table.\"\n",
              "              style=\"display:none;\">\n",
              "        \n",
              "  <svg xmlns=\"http://www.w3.org/2000/svg\" height=\"24px\"viewBox=\"0 0 24 24\"\n",
              "       width=\"24px\">\n",
              "    <path d=\"M0 0h24v24H0V0z\" fill=\"none\"/>\n",
              "    <path d=\"M18.56 5.44l.94 2.06.94-2.06 2.06-.94-2.06-.94-.94-2.06-.94 2.06-2.06.94zm-11 1L8.5 8.5l.94-2.06 2.06-.94-2.06-.94L8.5 2.5l-.94 2.06-2.06.94zm10 10l.94 2.06.94-2.06 2.06-.94-2.06-.94-.94-2.06-.94 2.06-2.06.94z\"/><path d=\"M17.41 7.96l-1.37-1.37c-.4-.4-.92-.59-1.43-.59-.52 0-1.04.2-1.43.59L10.3 9.45l-7.72 7.72c-.78.78-.78 2.05 0 2.83L4 21.41c.39.39.9.59 1.41.59.51 0 1.02-.2 1.41-.59l7.78-7.78 2.81-2.81c.8-.78.8-2.07 0-2.86zM5.41 20L4 18.59l7.72-7.72 1.47 1.35L5.41 20z\"/>\n",
              "  </svg>\n",
              "      </button>\n",
              "      \n",
              "  <style>\n",
              "    .colab-df-container {\n",
              "      display:flex;\n",
              "      flex-wrap:wrap;\n",
              "      gap: 12px;\n",
              "    }\n",
              "\n",
              "    .colab-df-convert {\n",
              "      background-color: #E8F0FE;\n",
              "      border: none;\n",
              "      border-radius: 50%;\n",
              "      cursor: pointer;\n",
              "      display: none;\n",
              "      fill: #1967D2;\n",
              "      height: 32px;\n",
              "      padding: 0 0 0 0;\n",
              "      width: 32px;\n",
              "    }\n",
              "\n",
              "    .colab-df-convert:hover {\n",
              "      background-color: #E2EBFA;\n",
              "      box-shadow: 0px 1px 2px rgba(60, 64, 67, 0.3), 0px 1px 3px 1px rgba(60, 64, 67, 0.15);\n",
              "      fill: #174EA6;\n",
              "    }\n",
              "\n",
              "    [theme=dark] .colab-df-convert {\n",
              "      background-color: #3B4455;\n",
              "      fill: #D2E3FC;\n",
              "    }\n",
              "\n",
              "    [theme=dark] .colab-df-convert:hover {\n",
              "      background-color: #434B5C;\n",
              "      box-shadow: 0px 1px 3px 1px rgba(0, 0, 0, 0.15);\n",
              "      filter: drop-shadow(0px 1px 2px rgba(0, 0, 0, 0.3));\n",
              "      fill: #FFFFFF;\n",
              "    }\n",
              "  </style>\n",
              "\n",
              "      <script>\n",
              "        const buttonEl =\n",
              "          document.querySelector('#df-6e6003b5-735d-4a1c-a255-7ebcdcbe6fa9 button.colab-df-convert');\n",
              "        buttonEl.style.display =\n",
              "          google.colab.kernel.accessAllowed ? 'block' : 'none';\n",
              "\n",
              "        async function convertToInteractive(key) {\n",
              "          const element = document.querySelector('#df-6e6003b5-735d-4a1c-a255-7ebcdcbe6fa9');\n",
              "          const dataTable =\n",
              "            await google.colab.kernel.invokeFunction('convertToInteractive',\n",
              "                                                     [key], {});\n",
              "          if (!dataTable) return;\n",
              "\n",
              "          const docLinkHtml = 'Like what you see? Visit the ' +\n",
              "            '<a target=\"_blank\" href=https://colab.research.google.com/notebooks/data_table.ipynb>data table notebook</a>'\n",
              "            + ' to learn more about interactive tables.';\n",
              "          element.innerHTML = '';\n",
              "          dataTable['output_type'] = 'display_data';\n",
              "          await google.colab.output.renderOutput(dataTable, element);\n",
              "          const docLink = document.createElement('div');\n",
              "          docLink.innerHTML = docLinkHtml;\n",
              "          element.appendChild(docLink);\n",
              "        }\n",
              "      </script>\n",
              "    </div>\n",
              "  </div>\n",
              "  "
            ],
            "text/plain": [
              "               Mean absolute error [incomeUSD]\n",
              "age_model                         25974.476562\n",
              "linear_model                      55356.308594\n",
              "dnn_age_model                     25973.578125\n",
              "dnn_model                         24855.867188"
            ]
          },
          "execution_count": 81,
          "metadata": {},
          "output_type": "execute_result"
        }
      ],
      "source": [
        "pd.DataFrame(test_results, index=['Mean absolute error [incomeUSD]']).T"
      ]
    },
    {
      "cell_type": "markdown",
      "metadata": {
        "id": "mmV-zMhE2XUw"
      },
      "source": [
        "## Your Turn\n",
        "\n",
        "Which model performs the best? If you think about how each of the 4 models was built, why does your chosen model perform best?\n",
        "\n",
        "\n",
        "The dnn_model had a slightly lower mean absolute error of 24,855, but all the models were pretty bad."
      ]
    },
    {
      "cell_type": "markdown",
      "metadata": {
        "id": "F0c5cHd9zEhQ"
      },
      "source": [
        "#**B2. Classification**\n",
        "In the previous section, you have learned how a Deep Learning Network works and how to build one that will predict one numeric value. \n",
        "\n",
        "**A Deep Neural Network--Regression**\n",
        "<div>\n",
        "<center>\n",
        "<img src=\"https://raw.githubusercontent.com/shstreuber/Data-Mining/master/images/deepnn_regression.png\" width=\"600\">\n",
        "</div>\n",
        "\n",
        "In this module, we will start with a Deep Learning NN for Classification purposes. Instead of producing ONE numeric value, we will be configuring it to yield categorical output. This means that you'll see as many nodes in the output layer as there are level to your target categories, like the two below.\n",
        "\n",
        "**A Deep Neural Network--Classification**\n",
        "<div>\n",
        "<center>\n",
        "<img src=\"https://raw.githubusercontent.com/shstreuber/Data-Mining/master/images/deepnn_classification2layers.png\" width=\"600\">\n",
        "</div>\n",
        "\n",
        "At the end of this section, you will be able to:\n",
        "\n",
        "* Configure a deep learning Classification Network \n",
        "* Distinguish the activation functions in the output layer for classifications from those for regression\n",
        "* Apply regular data classification techniques to image classification\n",
        "* Describe the special cases of Convolutional Neural Networks\n",
        "* Solve a simple classification problem\n",
        "\n",
        "To get started, please watch this great video that shows you where we are going with this (and if you don't remember the content from the instructor video any more, please [review that](https://youtu.be/RkiTL_T8VsY), as well):\n"
      ]
    },
    {
      "cell_type": "code",
      "execution_count": null,
      "metadata": {
        "colab": {
          "base_uri": "https://localhost:8080/",
          "height": 336
        },
        "id": "i4D1dLxTysG2",
        "outputId": "50011ae6-21df-48ed-9a93-f2f055dd8f9e"
      },
      "outputs": [
        {
          "data": {
            "text/html": [
              "<iframe width=\"560\" height=\"315\" src=\"https://www.youtube.com/embed/vF21cC-8G1U\" frameborder=\"0\" allow=\"accelerometer; autoplay; encrypted-media; gyroscope; picture-in-picture\" allowfullscreen></iframe>"
            ],
            "text/plain": [
              "<IPython.core.display.HTML object>"
            ]
          },
          "execution_count": 1,
          "metadata": {},
          "output_type": "execute_result"
        }
      ],
      "source": [
        "from IPython.display import HTML\n",
        "HTML('<iframe width=\"560\" height=\"315\" src=\"https://www.youtube.com/embed/vF21cC-8G1U\" frameborder=\"0\" allow=\"accelerometer; autoplay; encrypted-media; gyroscope; picture-in-picture\" allowfullscreen></iframe>')"
      ]
    },
    {
      "cell_type": "markdown",
      "metadata": {
        "id": "AWgxDP65GE8U"
      },
      "source": [
        "###**The Problem**\n",
        "In the previous section, we used a regression Deep Learning network to predict incomeUSD and age. We will start this section with predicting a categorical variable in our adult dataset: Race.\n",
        "\n",
        "You will see that setting up a Deep Learning model for a simple classification is very similar to building a regression model. In fact, the only difference, really, is in the output layer. For preprocessing, there is no difference from what we did before; in fact, in the previous model, we already prepared the \"race\" variable for the output layer by one-hot encoding it. Below is a summary of the code with comments"
      ]
    },
    {
      "cell_type": "code",
      "execution_count": null,
      "metadata": {
        "id": "WAuzLW3mhcsH"
      },
      "outputs": [],
      "source": [
        "# Downsizing the Dataset to just the numeric attributes\n",
        "adult_dl = pd.DataFrame(adult, columns = ['age', 'educationyears', 'race','hoursperweek','incomeUSD'])\n",
        "\n",
        "# Splitting into Training and Test Set\n",
        "train_dataset = adult_dl.sample(frac=0.8, random_state=0)\n",
        "test_dataset = adult_dl.drop(train_dataset.index)\n",
        "\n",
        "# Splitting Features from Labels\n",
        "train_features = train_dataset.copy()\n",
        "test_features = test_dataset.copy()\n",
        "\n",
        "train_labels = train_features.pop('race')\n",
        "test_labels = test_features.pop('race')"
      ]
    },
    {
      "cell_type": "code",
      "execution_count": null,
      "metadata": {
        "colab": {
          "base_uri": "https://localhost:8080/"
        },
        "id": "n2lu51Mekv6V",
        "outputId": "cf657bf6-c4a4-4cc8-d4d2-974f32960c7e"
      },
      "outputs": [
        {
          "output_type": "execute_result",
          "data": {
            "text/plain": [
              "22278                 White\n",
              "8950                  White\n",
              "7838                  White\n",
              "16505    Amer-Indian-Eskimo\n",
              "19140                 White\n",
              "Name: race, dtype: object"
            ]
          },
          "metadata": {},
          "execution_count": 11
        }
      ],
      "source": [
        "train_labels.head() # Let's see what the training labels look like now"
      ]
    },
    {
      "cell_type": "code",
      "execution_count": 40,
      "metadata": {
        "id": "dbG67ol9keV2"
      },
      "outputs": [],
      "source": [
        "# Encoding the output variable with pd.get_dummies\n",
        "train_labels1 = pd.get_dummies(train_labels, columns=['race'], prefix='', prefix_sep='')\n",
        "test_labels1 = pd.get_dummies(test_labels, columns=['race'], prefix='', prefix_sep='')\n",
        "\n",
        "# Normalizing the input variables\n",
        "normalizer = preprocessing.Normalization(axis=-1)\n",
        "normalizer.adapt(np.array(train_features))"
      ]
    },
    {
      "cell_type": "code",
      "execution_count": null,
      "metadata": {
        "colab": {
          "base_uri": "https://localhost:8080/",
          "height": 206
        },
        "id": "SlM8zPH4h9tf",
        "outputId": "5a68f73e-a07e-421b-d8af-53bd85df9bfb"
      },
      "outputs": [
        {
          "output_type": "execute_result",
          "data": {
            "text/plain": [
              "       Amer-Indian-Eskimo  Asian-Pac-Islander  Black  Other  White\n",
              "22278                   0                   0      0      0      1\n",
              "8950                    0                   0      0      0      1\n",
              "7838                    0                   0      0      0      1\n",
              "16505                   1                   0      0      0      0\n",
              "19140                   0                   0      0      0      1"
            ],
            "text/html": [
              "\n",
              "  <div id=\"df-d6d1dd7e-fcf6-44ab-bc58-04182bb641cd\">\n",
              "    <div class=\"colab-df-container\">\n",
              "      <div>\n",
              "<style scoped>\n",
              "    .dataframe tbody tr th:only-of-type {\n",
              "        vertical-align: middle;\n",
              "    }\n",
              "\n",
              "    .dataframe tbody tr th {\n",
              "        vertical-align: top;\n",
              "    }\n",
              "\n",
              "    .dataframe thead th {\n",
              "        text-align: right;\n",
              "    }\n",
              "</style>\n",
              "<table border=\"1\" class=\"dataframe\">\n",
              "  <thead>\n",
              "    <tr style=\"text-align: right;\">\n",
              "      <th></th>\n",
              "      <th>Amer-Indian-Eskimo</th>\n",
              "      <th>Asian-Pac-Islander</th>\n",
              "      <th>Black</th>\n",
              "      <th>Other</th>\n",
              "      <th>White</th>\n",
              "    </tr>\n",
              "  </thead>\n",
              "  <tbody>\n",
              "    <tr>\n",
              "      <th>22278</th>\n",
              "      <td>0</td>\n",
              "      <td>0</td>\n",
              "      <td>0</td>\n",
              "      <td>0</td>\n",
              "      <td>1</td>\n",
              "    </tr>\n",
              "    <tr>\n",
              "      <th>8950</th>\n",
              "      <td>0</td>\n",
              "      <td>0</td>\n",
              "      <td>0</td>\n",
              "      <td>0</td>\n",
              "      <td>1</td>\n",
              "    </tr>\n",
              "    <tr>\n",
              "      <th>7838</th>\n",
              "      <td>0</td>\n",
              "      <td>0</td>\n",
              "      <td>0</td>\n",
              "      <td>0</td>\n",
              "      <td>1</td>\n",
              "    </tr>\n",
              "    <tr>\n",
              "      <th>16505</th>\n",
              "      <td>1</td>\n",
              "      <td>0</td>\n",
              "      <td>0</td>\n",
              "      <td>0</td>\n",
              "      <td>0</td>\n",
              "    </tr>\n",
              "    <tr>\n",
              "      <th>19140</th>\n",
              "      <td>0</td>\n",
              "      <td>0</td>\n",
              "      <td>0</td>\n",
              "      <td>0</td>\n",
              "      <td>1</td>\n",
              "    </tr>\n",
              "  </tbody>\n",
              "</table>\n",
              "</div>\n",
              "      <button class=\"colab-df-convert\" onclick=\"convertToInteractive('df-d6d1dd7e-fcf6-44ab-bc58-04182bb641cd')\"\n",
              "              title=\"Convert this dataframe to an interactive table.\"\n",
              "              style=\"display:none;\">\n",
              "        \n",
              "  <svg xmlns=\"http://www.w3.org/2000/svg\" height=\"24px\"viewBox=\"0 0 24 24\"\n",
              "       width=\"24px\">\n",
              "    <path d=\"M0 0h24v24H0V0z\" fill=\"none\"/>\n",
              "    <path d=\"M18.56 5.44l.94 2.06.94-2.06 2.06-.94-2.06-.94-.94-2.06-.94 2.06-2.06.94zm-11 1L8.5 8.5l.94-2.06 2.06-.94-2.06-.94L8.5 2.5l-.94 2.06-2.06.94zm10 10l.94 2.06.94-2.06 2.06-.94-2.06-.94-.94-2.06-.94 2.06-2.06.94z\"/><path d=\"M17.41 7.96l-1.37-1.37c-.4-.4-.92-.59-1.43-.59-.52 0-1.04.2-1.43.59L10.3 9.45l-7.72 7.72c-.78.78-.78 2.05 0 2.83L4 21.41c.39.39.9.59 1.41.59.51 0 1.02-.2 1.41-.59l7.78-7.78 2.81-2.81c.8-.78.8-2.07 0-2.86zM5.41 20L4 18.59l7.72-7.72 1.47 1.35L5.41 20z\"/>\n",
              "  </svg>\n",
              "      </button>\n",
              "      \n",
              "  <style>\n",
              "    .colab-df-container {\n",
              "      display:flex;\n",
              "      flex-wrap:wrap;\n",
              "      gap: 12px;\n",
              "    }\n",
              "\n",
              "    .colab-df-convert {\n",
              "      background-color: #E8F0FE;\n",
              "      border: none;\n",
              "      border-radius: 50%;\n",
              "      cursor: pointer;\n",
              "      display: none;\n",
              "      fill: #1967D2;\n",
              "      height: 32px;\n",
              "      padding: 0 0 0 0;\n",
              "      width: 32px;\n",
              "    }\n",
              "\n",
              "    .colab-df-convert:hover {\n",
              "      background-color: #E2EBFA;\n",
              "      box-shadow: 0px 1px 2px rgba(60, 64, 67, 0.3), 0px 1px 3px 1px rgba(60, 64, 67, 0.15);\n",
              "      fill: #174EA6;\n",
              "    }\n",
              "\n",
              "    [theme=dark] .colab-df-convert {\n",
              "      background-color: #3B4455;\n",
              "      fill: #D2E3FC;\n",
              "    }\n",
              "\n",
              "    [theme=dark] .colab-df-convert:hover {\n",
              "      background-color: #434B5C;\n",
              "      box-shadow: 0px 1px 3px 1px rgba(0, 0, 0, 0.15);\n",
              "      filter: drop-shadow(0px 1px 2px rgba(0, 0, 0, 0.3));\n",
              "      fill: #FFFFFF;\n",
              "    }\n",
              "  </style>\n",
              "\n",
              "      <script>\n",
              "        const buttonEl =\n",
              "          document.querySelector('#df-d6d1dd7e-fcf6-44ab-bc58-04182bb641cd button.colab-df-convert');\n",
              "        buttonEl.style.display =\n",
              "          google.colab.kernel.accessAllowed ? 'block' : 'none';\n",
              "\n",
              "        async function convertToInteractive(key) {\n",
              "          const element = document.querySelector('#df-d6d1dd7e-fcf6-44ab-bc58-04182bb641cd');\n",
              "          const dataTable =\n",
              "            await google.colab.kernel.invokeFunction('convertToInteractive',\n",
              "                                                     [key], {});\n",
              "          if (!dataTable) return;\n",
              "\n",
              "          const docLinkHtml = 'Like what you see? Visit the ' +\n",
              "            '<a target=\"_blank\" href=https://colab.research.google.com/notebooks/data_table.ipynb>data table notebook</a>'\n",
              "            + ' to learn more about interactive tables.';\n",
              "          element.innerHTML = '';\n",
              "          dataTable['output_type'] = 'display_data';\n",
              "          await google.colab.output.renderOutput(dataTable, element);\n",
              "          const docLink = document.createElement('div');\n",
              "          docLink.innerHTML = docLinkHtml;\n",
              "          element.appendChild(docLink);\n",
              "        }\n",
              "      </script>\n",
              "    </div>\n",
              "  </div>\n",
              "  "
            ]
          },
          "metadata": {},
          "execution_count": 13
        }
      ],
      "source": [
        "train_labels1.head() # Let's see what the training labels look like encoded"
      ]
    },
    {
      "cell_type": "markdown",
      "metadata": {
        "id": "inaLuLY-hJxH"
      },
      "source": [
        "#**B3. Build the Keras Model**\n",
        "Now, we can build the Sequential model and add layers one at a time until we are happy with our network architecture.\n",
        "\n",
        "* To build the **input layer**, we need to define the number of input features. We use the **input_dim** argument and set it to 4 for the 4 input variables ('age', 'educationyears','hoursperweek','incomeUSD').\n",
        "* The **output layer** will be our race attribute with 5 levels (Amer-Indian-Eskimo,\tAsian-Pac-Islander,\tBlack,\tOther,\tWhite) \n",
        "\n",
        "\n",
        "###**How do we know the number and architecture of layers in the middle?** \n",
        "\n",
        "The short answer is: We don't. The longer answer is: We experiment until we get the best output the fastest. The even longer answer is: We can use various optimization strategies that can help us out somewhat. So, let's assume that trial and error has shown us that three layers is optimal. Furthermore, let's assume that we are going to build a **Dense Network**, aka a **fully connected** network structure, in which every node is connected with every node in the next layer. \n",
        "\n",
        "To define this architecture, we use the Dense class. We will specify the number of neurons or nodes in the layer as the first argument, and set up the activation function with the activation argument.\n",
        "\n",
        "Speaking of **activation function**, we will use the **rectified linear unit** or ReLU activation function on the first two layers and the Softmax function in the output layer (if our output were between 0 and 1, we would use the Sigmoid function). \n",
        "\n",
        "###**Model Design**\n",
        "So, our model looks like this:\n",
        "\n",
        "* The model expects rows of data with 4 variables ('age', 'educationyears', 'hoursperweek', and 'incomeUSD' = the input_dim=4 argument)\n",
        "* The first hidden layer has 12 nodes and uses the relu activation function.\n",
        "* The second hidden layer has 8 nodes and uses the relu activation function.\n",
        "* The output layer has five nodes and uses the Softmax activation function."
      ]
    },
    {
      "cell_type": "code",
      "execution_count": 41,
      "metadata": {
        "colab": {
          "base_uri": "https://localhost:8080/"
        },
        "id": "sb1mgzo3ubLv",
        "outputId": "1431d269-688f-4b1a-c83b-5cc47ba94eac"
      },
      "outputs": [
        {
          "output_type": "stream",
          "name": "stdout",
          "text": [
            "Model: \"sequential_2\"\n",
            "_________________________________________________________________\n",
            " Layer (type)                Output Shape              Param #   \n",
            "=================================================================\n",
            " dense_6 (Dense)             (None, 12)                60        \n",
            "                                                                 \n",
            " dense_7 (Dense)             (None, 8)                 104       \n",
            "                                                                 \n",
            " dense_8 (Dense)             (None, 5)                 45        \n",
            "                                                                 \n",
            "=================================================================\n",
            "Total params: 209\n",
            "Trainable params: 209\n",
            "Non-trainable params: 0\n",
            "_________________________________________________________________\n"
          ]
        }
      ],
      "source": [
        "# define the Keras model\n",
        "model = keras.Sequential()\n",
        "#Sequential is used when the model has one input tensor and one output tensor\n",
        "#from https://keras.io/guides/sequential_model/\n",
        "model.add(layers.Dense(12, input_dim=4, activation='relu'))\n",
        "model.add(layers.Dense(8, activation='relu'))\n",
        "model.add(layers.Dense(5, activation='softmax'))\n",
        "model.summary()"
      ]
    },
    {
      "cell_type": "markdown",
      "metadata": {
        "id": "xY-qTO0r0NVO"
      },
      "source": [
        "#**B4. Compile the Keras Model**\n",
        "Now that the model is defined, we can compile it. To do so, we must specify \n",
        "* the **loss function** to use to evaluate a set of weights. In our case, we will use **categorical_crossentropy**.\n",
        "* the **optimizer** searches through different weights for the network and any optional metrics we would like to collect and report during training. In our case, we will define the optimizer as the efficient stochastic gradient descent algorithm “**adam**“. This is a popular version of gradient descent because it automatically tunes itself and gives good results in a wide range of problems.\n",
        "* Finally, because this is a classification problem, we will collect and report the **classification accuracy**, defined via the **metrics** argument."
      ]
    },
    {
      "cell_type": "code",
      "execution_count": 42,
      "metadata": {
        "id": "UDnw6qn1z6EO"
      },
      "outputs": [],
      "source": [
        "# compile the Keras model\n",
        "model.compile(loss='categorical_crossentropy', optimizer='adam', metrics=['accuracy'])"
      ]
    },
    {
      "cell_type": "markdown",
      "metadata": {
        "id": "Vl1YNORN1mru"
      },
      "source": [
        "#**B5. Train the Model**\n",
        "Now that we have defined our model and compiled it, it is time to train the model on some data. We use the fit() function for this purpose. Training occurs over **epochs** and **each epoch is split into batches**.\n",
        "\n",
        "* **Epoch**: One pass through all of the rows in the training dataset. The training process will perform a set number of iterations through the dataset  that we must specify using the 'epochs' argument.\n",
        "\n",
        "* **Batch**: The number of dataset rows that are considered before the model weights are updated within each epoch. One epoch contains one or more batches, based on the defined 'batch_size' argument. \n",
        "\n",
        "For this problem, we will run for a small number of epochs (150) and use a relatively small batch size of 10.\n",
        "\n",
        "###**How do we know the number of epochs and the batch size?**\n",
        "Three words: Trial and error. Again. That's because we will be revising the model until we get the smallest loss function (aka the smallest error). Now, the model will always have **some** error, but the amount of error will level out after some point for a given model configuration. This is called model convergence.\n"
      ]
    },
    {
      "cell_type": "code",
      "execution_count": 51,
      "metadata": {
        "id": "FUNgj2mZ3vUl",
        "colab": {
          "base_uri": "https://localhost:8080/"
        },
        "outputId": "a52e3ff3-214d-4e60-d2af-7a6f88c2276f"
      },
      "outputs": [
        {
          "output_type": "stream",
          "name": "stdout",
          "text": [
            "Epoch 1/10\n",
            "261/261 [==============================] - 0s 1ms/step - loss: 0.5558 - accuracy: 0.8536\n",
            "Epoch 2/10\n",
            "261/261 [==============================] - 0s 1ms/step - loss: 0.5557 - accuracy: 0.8536\n",
            "Epoch 3/10\n",
            "261/261 [==============================] - 0s 1ms/step - loss: 0.5557 - accuracy: 0.8536\n",
            "Epoch 4/10\n",
            "261/261 [==============================] - 0s 1ms/step - loss: 0.5557 - accuracy: 0.8536\n",
            "Epoch 5/10\n",
            "261/261 [==============================] - 0s 1ms/step - loss: 0.5557 - accuracy: 0.8536\n",
            "Epoch 6/10\n",
            "261/261 [==============================] - 0s 2ms/step - loss: 0.5557 - accuracy: 0.8536\n",
            "Epoch 7/10\n",
            "261/261 [==============================] - 0s 2ms/step - loss: 0.5557 - accuracy: 0.8536\n",
            "Epoch 8/10\n",
            "261/261 [==============================] - 0s 2ms/step - loss: 0.5557 - accuracy: 0.8536\n",
            "Epoch 9/10\n",
            "261/261 [==============================] - 0s 2ms/step - loss: 0.5557 - accuracy: 0.8536\n",
            "Epoch 10/10\n",
            "261/261 [==============================] - 0s 2ms/step - loss: 0.5557 - accuracy: 0.8536\n"
          ]
        },
        {
          "output_type": "execute_result",
          "data": {
            "text/plain": [
              "<keras.callbacks.History at 0x7f9cbd5b53f0>"
            ]
          },
          "metadata": {},
          "execution_count": 51
        }
      ],
      "source": [
        "# fit the Keras model on the dataset\n",
        "#train_features\n",
        "#train_features.dtypes\n",
        "#train_labels1\n",
        "#train_labels1.dtypes\n",
        "#train_labels.unique()\n",
        "model.fit(train_features, train_labels1, epochs=10, batch_size=100)"
      ]
    },
    {
      "cell_type": "markdown",
      "metadata": {
        "id": "Cd1m1CIV4u9-"
      },
      "source": [
        "#**B6. Evaluate the Model**\n",
        "We have trained our neural network and we can now evaluate the performance of the network on the test dataset. To evaluate your model on your training dataset, use the evaluate() function on your model and pass it the test data.\n",
        "\n",
        "This will generate a prediction for each input and output pair and collect scores, including the average loss and any metrics you have configured, such as accuracy.\n",
        "\n",
        "The evaluate() function will return a list with two values. The first will be the loss of the model on the dataset and the second will be the accuracy of the model on the dataset. We are only interested in reporting the accuracy, so we will ignore the loss value."
      ]
    },
    {
      "cell_type": "code",
      "execution_count": 52,
      "metadata": {
        "id": "WampDIhW5RpV",
        "colab": {
          "base_uri": "https://localhost:8080/"
        },
        "outputId": "0b49685f-4e75-4c4b-9717-416cec932e2d"
      },
      "outputs": [
        {
          "output_type": "stream",
          "name": "stdout",
          "text": [
            "204/204 [==============================] - 0s 2ms/step - loss: 0.5457 - accuracy: 0.8570\n",
            "Loss: 54.57 Accuracy: 85.70\n",
            "204/204 [==============================] - 0s 1ms/step - loss: 0.5457 - accuracy: 0.8570\n"
          ]
        },
        {
          "output_type": "execute_result",
          "data": {
            "text/plain": [
              "[0.5456570982933044, 0.8570331931114197]"
            ]
          },
          "metadata": {},
          "execution_count": 52
        }
      ],
      "source": [
        "# evaluate the keras model\n",
        "accuracy = model.evaluate(test_features, test_labels1)\n",
        "print('Loss: %.2f' % (accuracy[0]*100), 'Accuracy: %.2f' % (accuracy[1]*100))\n",
        "\n",
        "model.evaluate(test_features, test_labels1)"
      ]
    },
    {
      "cell_type": "markdown",
      "metadata": {
        "id": "opT9phxWAX6E"
      },
      "source": [
        "#Your Turn\n",
        "As you can tell, steps 5 and 6 above don't work (yet!), and there is also a CRITICAL error in building the Keras model under steps 3 and 4. \n",
        "\n",
        "This exercise tests your ability to **research** and **debug**. You already know a lot about running this same network on the same data, but as a regression problem, so NOW your job is to translate the regression problem into a classification problem for 'race'. All the building blocks you need are in this workbook.\n",
        "\n",
        "**Here is your job:**\n",
        "1. Fix the Keras model in section 3.\n",
        "2. Be sure it is compiled correctly in section 4.\n",
        "3. Fix the code in sections 5 and 6 so that the model will run \n",
        "4. Research how to use the predict() function to run the model on the test_features and test_labels. Remember that you will have to encode the test labels in order to use them in the output layer!\n",
        "\n",
        "Use the fields below to work on your code."
      ]
    },
    {
      "cell_type": "code",
      "source": [
        "#test_features\n",
        "test_labels1[20:30]"
      ],
      "metadata": {
        "colab": {
          "base_uri": "https://localhost:8080/",
          "height": 363
        },
        "id": "_7HB97ciIsff",
        "outputId": "feeff2cf-8506-4af1-ec52-9fde827da23c"
      },
      "execution_count": 66,
      "outputs": [
        {
          "output_type": "execute_result",
          "data": {
            "text/plain": [
              "     Amer-Indian-Eskimo  Asian-Pac-Islander  Black  Other  White\n",
              "93                    0                   1      0      0      0\n",
              "95                    0                   0      0      0      1\n",
              "97                    0                   0      0      0      1\n",
              "99                    0                   0      1      0      0\n",
              "100                   0                   0      0      0      1\n",
              "101                   0                   0      0      0      1\n",
              "104                   0                   0      0      0      1\n",
              "105                   0                   0      0      0      1\n",
              "106                   0                   0      0      0      1\n",
              "107                   0                   0      0      0      1"
            ],
            "text/html": [
              "\n",
              "  <div id=\"df-83b92374-dd3e-4d78-8588-fe1bedf97a84\">\n",
              "    <div class=\"colab-df-container\">\n",
              "      <div>\n",
              "<style scoped>\n",
              "    .dataframe tbody tr th:only-of-type {\n",
              "        vertical-align: middle;\n",
              "    }\n",
              "\n",
              "    .dataframe tbody tr th {\n",
              "        vertical-align: top;\n",
              "    }\n",
              "\n",
              "    .dataframe thead th {\n",
              "        text-align: right;\n",
              "    }\n",
              "</style>\n",
              "<table border=\"1\" class=\"dataframe\">\n",
              "  <thead>\n",
              "    <tr style=\"text-align: right;\">\n",
              "      <th></th>\n",
              "      <th>Amer-Indian-Eskimo</th>\n",
              "      <th>Asian-Pac-Islander</th>\n",
              "      <th>Black</th>\n",
              "      <th>Other</th>\n",
              "      <th>White</th>\n",
              "    </tr>\n",
              "  </thead>\n",
              "  <tbody>\n",
              "    <tr>\n",
              "      <th>93</th>\n",
              "      <td>0</td>\n",
              "      <td>1</td>\n",
              "      <td>0</td>\n",
              "      <td>0</td>\n",
              "      <td>0</td>\n",
              "    </tr>\n",
              "    <tr>\n",
              "      <th>95</th>\n",
              "      <td>0</td>\n",
              "      <td>0</td>\n",
              "      <td>0</td>\n",
              "      <td>0</td>\n",
              "      <td>1</td>\n",
              "    </tr>\n",
              "    <tr>\n",
              "      <th>97</th>\n",
              "      <td>0</td>\n",
              "      <td>0</td>\n",
              "      <td>0</td>\n",
              "      <td>0</td>\n",
              "      <td>1</td>\n",
              "    </tr>\n",
              "    <tr>\n",
              "      <th>99</th>\n",
              "      <td>0</td>\n",
              "      <td>0</td>\n",
              "      <td>1</td>\n",
              "      <td>0</td>\n",
              "      <td>0</td>\n",
              "    </tr>\n",
              "    <tr>\n",
              "      <th>100</th>\n",
              "      <td>0</td>\n",
              "      <td>0</td>\n",
              "      <td>0</td>\n",
              "      <td>0</td>\n",
              "      <td>1</td>\n",
              "    </tr>\n",
              "    <tr>\n",
              "      <th>101</th>\n",
              "      <td>0</td>\n",
              "      <td>0</td>\n",
              "      <td>0</td>\n",
              "      <td>0</td>\n",
              "      <td>1</td>\n",
              "    </tr>\n",
              "    <tr>\n",
              "      <th>104</th>\n",
              "      <td>0</td>\n",
              "      <td>0</td>\n",
              "      <td>0</td>\n",
              "      <td>0</td>\n",
              "      <td>1</td>\n",
              "    </tr>\n",
              "    <tr>\n",
              "      <th>105</th>\n",
              "      <td>0</td>\n",
              "      <td>0</td>\n",
              "      <td>0</td>\n",
              "      <td>0</td>\n",
              "      <td>1</td>\n",
              "    </tr>\n",
              "    <tr>\n",
              "      <th>106</th>\n",
              "      <td>0</td>\n",
              "      <td>0</td>\n",
              "      <td>0</td>\n",
              "      <td>0</td>\n",
              "      <td>1</td>\n",
              "    </tr>\n",
              "    <tr>\n",
              "      <th>107</th>\n",
              "      <td>0</td>\n",
              "      <td>0</td>\n",
              "      <td>0</td>\n",
              "      <td>0</td>\n",
              "      <td>1</td>\n",
              "    </tr>\n",
              "  </tbody>\n",
              "</table>\n",
              "</div>\n",
              "      <button class=\"colab-df-convert\" onclick=\"convertToInteractive('df-83b92374-dd3e-4d78-8588-fe1bedf97a84')\"\n",
              "              title=\"Convert this dataframe to an interactive table.\"\n",
              "              style=\"display:none;\">\n",
              "        \n",
              "  <svg xmlns=\"http://www.w3.org/2000/svg\" height=\"24px\"viewBox=\"0 0 24 24\"\n",
              "       width=\"24px\">\n",
              "    <path d=\"M0 0h24v24H0V0z\" fill=\"none\"/>\n",
              "    <path d=\"M18.56 5.44l.94 2.06.94-2.06 2.06-.94-2.06-.94-.94-2.06-.94 2.06-2.06.94zm-11 1L8.5 8.5l.94-2.06 2.06-.94-2.06-.94L8.5 2.5l-.94 2.06-2.06.94zm10 10l.94 2.06.94-2.06 2.06-.94-2.06-.94-.94-2.06-.94 2.06-2.06.94z\"/><path d=\"M17.41 7.96l-1.37-1.37c-.4-.4-.92-.59-1.43-.59-.52 0-1.04.2-1.43.59L10.3 9.45l-7.72 7.72c-.78.78-.78 2.05 0 2.83L4 21.41c.39.39.9.59 1.41.59.51 0 1.02-.2 1.41-.59l7.78-7.78 2.81-2.81c.8-.78.8-2.07 0-2.86zM5.41 20L4 18.59l7.72-7.72 1.47 1.35L5.41 20z\"/>\n",
              "  </svg>\n",
              "      </button>\n",
              "      \n",
              "  <style>\n",
              "    .colab-df-container {\n",
              "      display:flex;\n",
              "      flex-wrap:wrap;\n",
              "      gap: 12px;\n",
              "    }\n",
              "\n",
              "    .colab-df-convert {\n",
              "      background-color: #E8F0FE;\n",
              "      border: none;\n",
              "      border-radius: 50%;\n",
              "      cursor: pointer;\n",
              "      display: none;\n",
              "      fill: #1967D2;\n",
              "      height: 32px;\n",
              "      padding: 0 0 0 0;\n",
              "      width: 32px;\n",
              "    }\n",
              "\n",
              "    .colab-df-convert:hover {\n",
              "      background-color: #E2EBFA;\n",
              "      box-shadow: 0px 1px 2px rgba(60, 64, 67, 0.3), 0px 1px 3px 1px rgba(60, 64, 67, 0.15);\n",
              "      fill: #174EA6;\n",
              "    }\n",
              "\n",
              "    [theme=dark] .colab-df-convert {\n",
              "      background-color: #3B4455;\n",
              "      fill: #D2E3FC;\n",
              "    }\n",
              "\n",
              "    [theme=dark] .colab-df-convert:hover {\n",
              "      background-color: #434B5C;\n",
              "      box-shadow: 0px 1px 3px 1px rgba(0, 0, 0, 0.15);\n",
              "      filter: drop-shadow(0px 1px 2px rgba(0, 0, 0, 0.3));\n",
              "      fill: #FFFFFF;\n",
              "    }\n",
              "  </style>\n",
              "\n",
              "      <script>\n",
              "        const buttonEl =\n",
              "          document.querySelector('#df-83b92374-dd3e-4d78-8588-fe1bedf97a84 button.colab-df-convert');\n",
              "        buttonEl.style.display =\n",
              "          google.colab.kernel.accessAllowed ? 'block' : 'none';\n",
              "\n",
              "        async function convertToInteractive(key) {\n",
              "          const element = document.querySelector('#df-83b92374-dd3e-4d78-8588-fe1bedf97a84');\n",
              "          const dataTable =\n",
              "            await google.colab.kernel.invokeFunction('convertToInteractive',\n",
              "                                                     [key], {});\n",
              "          if (!dataTable) return;\n",
              "\n",
              "          const docLinkHtml = 'Like what you see? Visit the ' +\n",
              "            '<a target=\"_blank\" href=https://colab.research.google.com/notebooks/data_table.ipynb>data table notebook</a>'\n",
              "            + ' to learn more about interactive tables.';\n",
              "          element.innerHTML = '';\n",
              "          dataTable['output_type'] = 'display_data';\n",
              "          await google.colab.output.renderOutput(dataTable, element);\n",
              "          const docLink = document.createElement('div');\n",
              "          docLink.innerHTML = docLinkHtml;\n",
              "          element.appendChild(docLink);\n",
              "        }\n",
              "      </script>\n",
              "    </div>\n",
              "  </div>\n",
              "  "
            ]
          },
          "metadata": {},
          "execution_count": 66
        }
      ]
    },
    {
      "cell_type": "code",
      "execution_count": 67,
      "metadata": {
        "id": "2Leb73W_BbhD",
        "colab": {
          "base_uri": "https://localhost:8080/"
        },
        "outputId": "49dc444a-018f-450a-bfa2-555aebe90234"
      },
      "outputs": [
        {
          "output_type": "stream",
          "name": "stdout",
          "text": [
            "1/1 [==============================] - 0s 16ms/step\n"
          ]
        },
        {
          "output_type": "execute_result",
          "data": {
            "text/plain": [
              "array([[0.00921226, 0.03288261, 0.09580182, 0.00850418, 0.85359913],\n",
              "       [0.00921226, 0.03288261, 0.09580182, 0.00850418, 0.85359913],\n",
              "       [0.00921226, 0.03288261, 0.09580182, 0.00850418, 0.85359913],\n",
              "       [0.00921226, 0.03288261, 0.09580182, 0.00850418, 0.85359913],\n",
              "       [0.00921226, 0.03288261, 0.09580182, 0.00850418, 0.85359913],\n",
              "       [0.00921226, 0.03288261, 0.09580182, 0.00850418, 0.85359913],\n",
              "       [0.00921226, 0.03288261, 0.09580182, 0.00850418, 0.85359913],\n",
              "       [0.00921226, 0.03288261, 0.09580182, 0.00850418, 0.85359913],\n",
              "       [0.00921226, 0.03288261, 0.09580182, 0.00850418, 0.85359913],\n",
              "       [0.00921226, 0.03288261, 0.09580182, 0.00850418, 0.85359913]],\n",
              "      dtype=float32)"
            ]
          },
          "metadata": {},
          "execution_count": 67
        }
      ],
      "source": [
        "model.predict(\n",
        "    test_features[20:30], #rows 20-30 in our test set, see above...\n",
        "    batch_size=None,\n",
        "    verbose=\"auto\",\n",
        "    steps=None,\n",
        "    callbacks=None,\n",
        "    max_queue_size=10,\n",
        "    workers=1,\n",
        "    use_multiprocessing=False,\n",
        ")\n",
        "\n"
      ]
    },
    {
      "cell_type": "markdown",
      "source": [
        "As we can see, the percentage chance for each label stays the same for every single prediciton..."
      ],
      "metadata": {
        "id": "2Qy5OnUVJq6-"
      }
    },
    {
      "cell_type": "code",
      "execution_count": 58,
      "metadata": {
        "id": "I3FOFCIbBbzS",
        "colab": {
          "base_uri": "https://localhost:8080/",
          "height": 424
        },
        "outputId": "ce7c7391-97fe-44b9-a443-0e1abcf6eaf8"
      },
      "outputs": [
        {
          "output_type": "execute_result",
          "data": {
            "text/plain": [
              "<Axes: >"
            ]
          },
          "metadata": {},
          "execution_count": 58
        },
        {
          "output_type": "display_data",
          "data": {
            "text/plain": [
              "<Figure size 640x480 with 1 Axes>"
            ],
            "image/png": "[encoded data removed]"
          },
          "metadata": {}
        }
      ],
      "source": [
        "adult.groupby('race').size().plot(kind='pie', autopct='%.2f')"
      ]
    },
    {
      "cell_type": "code",
      "execution_count": null,
      "metadata": {
        "id": "2KAQCAxWBb-C"
      },
      "outputs": [],
      "source": [
        "#our accuracy and our model.eval() show what I was concerned about....our model accuracy simply picks white every time it seems"
      ]
    },
    {
      "cell_type": "markdown",
      "metadata": {
        "id": "MoTgQPR62hlR"
      },
      "source": []
    },
    {
      "cell_type": "markdown",
      "metadata": {
        "id": "9Q6RPwex77sa"
      },
      "source": [
        "#SOLUTIONS\n",
        "To help you get unstuck:"
      ]
    },
    {
      "cell_type": "code",
      "execution_count": null,
      "metadata": {
        "colab": {
          "base_uri": "https://localhost:8080/",
          "height": 206
        },
        "id": "LuYUvBmv7ay9",
        "outputId": "8820840a-e2dc-498f-f0b6-8501068daf96"
      },
      "outputs": [
        {
          "data": {
            "text/html": [
              "\n",
              "  <div id=\"df-54aacb06-6e57-4944-a234-c6c6fceed5e9\">\n",
              "    <div class=\"colab-df-container\">\n",
              "      <div>\n",
              "<style scoped>\n",
              "    .dataframe tbody tr th:only-of-type {\n",
              "        vertical-align: middle;\n",
              "    }\n",
              "\n",
              "    .dataframe tbody tr th {\n",
              "        vertical-align: top;\n",
              "    }\n",
              "\n",
              "    .dataframe thead th {\n",
              "        text-align: right;\n",
              "    }\n",
              "</style>\n",
              "<table border=\"1\" class=\"dataframe\">\n",
              "  <thead>\n",
              "    <tr style=\"text-align: right;\">\n",
              "      <th></th>\n",
              "      <th>age</th>\n",
              "      <th>educationyears</th>\n",
              "      <th>race</th>\n",
              "      <th>hoursperweek</th>\n",
              "      <th>incomeUSD</th>\n",
              "    </tr>\n",
              "  </thead>\n",
              "  <tbody>\n",
              "    <tr>\n",
              "      <th>0</th>\n",
              "      <td>39</td>\n",
              "      <td>13</td>\n",
              "      <td>White</td>\n",
              "      <td>40</td>\n",
              "      <td>43747</td>\n",
              "    </tr>\n",
              "    <tr>\n",
              "      <th>1</th>\n",
              "      <td>50</td>\n",
              "      <td>13</td>\n",
              "      <td>White</td>\n",
              "      <td>13</td>\n",
              "      <td>38907</td>\n",
              "    </tr>\n",
              "    <tr>\n",
              "      <th>2</th>\n",
              "      <td>38</td>\n",
              "      <td>9</td>\n",
              "      <td>White</td>\n",
              "      <td>40</td>\n",
              "      <td>25055</td>\n",
              "    </tr>\n",
              "    <tr>\n",
              "      <th>3</th>\n",
              "      <td>53</td>\n",
              "      <td>7</td>\n",
              "      <td>Black</td>\n",
              "      <td>40</td>\n",
              "      <td>26733</td>\n",
              "    </tr>\n",
              "    <tr>\n",
              "      <th>4</th>\n",
              "      <td>28</td>\n",
              "      <td>13</td>\n",
              "      <td>Black</td>\n",
              "      <td>40</td>\n",
              "      <td>23429</td>\n",
              "    </tr>\n",
              "  </tbody>\n",
              "</table>\n",
              "</div>\n",
              "      <button class=\"colab-df-convert\" onclick=\"convertToInteractive('df-54aacb06-6e57-4944-a234-c6c6fceed5e9')\"\n",
              "              title=\"Convert this dataframe to an interactive table.\"\n",
              "              style=\"display:none;\">\n",
              "        \n",
              "  <svg xmlns=\"http://www.w3.org/2000/svg\" height=\"24px\"viewBox=\"0 0 24 24\"\n",
              "       width=\"24px\">\n",
              "    <path d=\"M0 0h24v24H0V0z\" fill=\"none\"/>\n",
              "    <path d=\"M18.56 5.44l.94 2.06.94-2.06 2.06-.94-2.06-.94-.94-2.06-.94 2.06-2.06.94zm-11 1L8.5 8.5l.94-2.06 2.06-.94-2.06-.94L8.5 2.5l-.94 2.06-2.06.94zm10 10l.94 2.06.94-2.06 2.06-.94-2.06-.94-.94-2.06-.94 2.06-2.06.94z\"/><path d=\"M17.41 7.96l-1.37-1.37c-.4-.4-.92-.59-1.43-.59-.52 0-1.04.2-1.43.59L10.3 9.45l-7.72 7.72c-.78.78-.78 2.05 0 2.83L4 21.41c.39.39.9.59 1.41.59.51 0 1.02-.2 1.41-.59l7.78-7.78 2.81-2.81c.8-.78.8-2.07 0-2.86zM5.41 20L4 18.59l7.72-7.72 1.47 1.35L5.41 20z\"/>\n",
              "  </svg>\n",
              "      </button>\n",
              "      \n",
              "  <style>\n",
              "    .colab-df-container {\n",
              "      display:flex;\n",
              "      flex-wrap:wrap;\n",
              "      gap: 12px;\n",
              "    }\n",
              "\n",
              "    .colab-df-convert {\n",
              "      background-color: #E8F0FE;\n",
              "      border: none;\n",
              "      border-radius: 50%;\n",
              "      cursor: pointer;\n",
              "      display: none;\n",
              "      fill: #1967D2;\n",
              "      height: 32px;\n",
              "      padding: 0 0 0 0;\n",
              "      width: 32px;\n",
              "    }\n",
              "\n",
              "    .colab-df-convert:hover {\n",
              "      background-color: #E2EBFA;\n",
              "      box-shadow: 0px 1px 2px rgba(60, 64, 67, 0.3), 0px 1px 3px 1px rgba(60, 64, 67, 0.15);\n",
              "      fill: #174EA6;\n",
              "    }\n",
              "\n",
              "    [theme=dark] .colab-df-convert {\n",
              "      background-color: #3B4455;\n",
              "      fill: #D2E3FC;\n",
              "    }\n",
              "\n",
              "    [theme=dark] .colab-df-convert:hover {\n",
              "      background-color: #434B5C;\n",
              "      box-shadow: 0px 1px 3px 1px rgba(0, 0, 0, 0.15);\n",
              "      filter: drop-shadow(0px 1px 2px rgba(0, 0, 0, 0.3));\n",
              "      fill: #FFFFFF;\n",
              "    }\n",
              "  </style>\n",
              "\n",
              "      <script>\n",
              "        const buttonEl =\n",
              "          document.querySelector('#df-54aacb06-6e57-4944-a234-c6c6fceed5e9 button.colab-df-convert');\n",
              "        buttonEl.style.display =\n",
              "          google.colab.kernel.accessAllowed ? 'block' : 'none';\n",
              "\n",
              "        async function convertToInteractive(key) {\n",
              "          const element = document.querySelector('#df-54aacb06-6e57-4944-a234-c6c6fceed5e9');\n",
              "          const dataTable =\n",
              "            await google.colab.kernel.invokeFunction('convertToInteractive',\n",
              "                                                     [key], {});\n",
              "          if (!dataTable) return;\n",
              "\n",
              "          const docLinkHtml = 'Like what you see? Visit the ' +\n",
              "            '<a target=\"_blank\" href=https://colab.research.google.com/notebooks/data_table.ipynb>data table notebook</a>'\n",
              "            + ' to learn more about interactive tables.';\n",
              "          element.innerHTML = '';\n",
              "          dataTable['output_type'] = 'display_data';\n",
              "          await google.colab.output.renderOutput(dataTable, element);\n",
              "          const docLink = document.createElement('div');\n",
              "          docLink.innerHTML = docLinkHtml;\n",
              "          element.appendChild(docLink);\n",
              "        }\n",
              "      </script>\n",
              "    </div>\n",
              "  </div>\n",
              "  "
            ],
            "text/plain": [
              "   age  educationyears   race  hoursperweek  incomeUSD\n",
              "0   39              13  White            40      43747\n",
              "1   50              13  White            13      38907\n",
              "2   38               9  White            40      25055\n",
              "3   53               7  Black            40      26733\n",
              "4   28              13  Black            40      23429"
            ]
          },
          "execution_count": 38,
          "metadata": {},
          "output_type": "execute_result"
        }
      ],
      "source": [
        "# This is the solution for task 2.1 above\n",
        "\n",
        "adult_dl = pd.DataFrame(adult, columns = ['age', 'educationyears', 'race','hoursperweek','incomeUSD'])\n",
        "adult_dl.head()"
      ]
    },
    {
      "cell_type": "code",
      "execution_count": null,
      "metadata": {
        "colab": {
          "base_uri": "https://localhost:8080/"
        },
        "id": "JQtSMqLEyQSe",
        "outputId": "83e6da4a-dc8a-44e4-a403-f65af6dd39cb"
      },
      "outputs": [
        {
          "data": {
            "text/plain": [
              "array(['White', 'Black', 'Asian-Pac-Islander', 'Amer-Indian-Eskimo',\n",
              "       'Other'], dtype=object)"
            ]
          },
          "execution_count": 39,
          "metadata": {},
          "output_type": "execute_result"
        }
      ],
      "source": [
        "adult_dl.race.unique()"
      ]
    }
  ],
  "metadata": {
    "colab": {
      "provenance": [],
      "toc_visible": true,
      "include_colab_link": true
    },
    "kernelspec": {
      "display_name": "Python 3",
      "name": "python3"
    },
    "language_info": {
      "name": "python"
    }
  },
  "nbformat": 4,
  "nbformat_minor": 0
}